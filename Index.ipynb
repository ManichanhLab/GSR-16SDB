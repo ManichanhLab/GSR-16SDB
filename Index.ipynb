{
 "cells": [
  {
   "cell_type": "markdown",
   "id": "4bed2c47",
   "metadata": {},
   "source": [
    "# Contents"
   ]
  },
  {
   "cell_type": "markdown",
   "id": "c2d93f94",
   "metadata": {},
   "source": [
    "## Creation of GSRV database"
   ]
  },
  {
   "cell_type": "markdown",
   "id": "fe868435",
   "metadata": {},
   "source": [
    "- [Generation of gsrv full-16S database](new_approach/creation_full-16S.ipynb)\n",
    "- [Generation of gsrv database for the V regions](new_approach/creation_Vregions_databases.ipynb)\n",
    "- [Stats of gsrv databases](new_approach/gsrv_stats.ipynb)\n",
    "- [Clustering of v-regions databases](new_approach/Clustering.ipynb)\n",
    "- [Clustering analysis](new_approach/Clustering_analysis_results.ipynb)"
   ]
  },
  {
   "cell_type": "markdown",
   "id": "ac70a69b",
   "metadata": {},
   "source": [
    "## Mock-communities"
   ]
  },
  {
   "cell_type": "markdown",
   "id": "59d38dd2",
   "metadata": {},
   "source": [
    "- [Generation of mock-community common files](mock-community/generate_mock_community_files.ipynb)"
   ]
  },
  {
   "cell_type": "markdown",
   "id": "83e6f365",
   "metadata": {},
   "source": [
    "## Validation"
   ]
  },
  {
   "cell_type": "markdown",
   "id": "9f89312f",
   "metadata": {},
   "source": [
    "### Validation Datasets"
   ]
  },
  {
   "cell_type": "markdown",
   "id": "d476c2d1",
   "metadata": {},
   "source": [
    "- [Mock communities < 460 nt](mock-community/generation_of_mock_community_V4_V3-V4.ipynb)\n",
    "- [Mock communities > 460 nt](mock-community/generation_of_mock_community_16S_V1-V3_V3-V5.ipynb)"
   ]
  },
  {
   "cell_type": "markdown",
   "id": "61e488ec",
   "metadata": {},
   "source": [
    "### Classifier training + tax assignment"
   ]
  },
  {
   "cell_type": "markdown",
   "id": "ab5409d3",
   "metadata": {},
   "source": [
    "* [Classifier training](db_evaluation/classifiers.ipynb)\n",
    "* [Tax assignment >460nt](db_evaluation/mock_community_taxonomy_assignment_16S_V1-V3_V3-V5.ipynb)\n",
    "* [Tax assignment <460nt](db_evaluation/mock_community_taxonomy_assignment_V4_V3-V4.ipynb)\n"
   ]
  },
  {
   "cell_type": "markdown",
   "id": "0ba181e1",
   "metadata": {},
   "source": [
    "## Database Evaluation"
   ]
  },
  {
   "cell_type": "markdown",
   "id": "ea153027",
   "metadata": {},
   "source": [
    "* [Mock communities evaluation](db_evaluation/evaluation.ipynb)\n",
    "* [Real datasets evaluation](db_evaluation/real_datasets.ipynb)"
   ]
  }
 ],
 "metadata": {
  "kernelspec": {
   "display_name": "Python 3 (ipykernel)",
   "language": "python",
   "name": "python3"
  },
  "language_info": {
   "codemirror_mode": {
    "name": "ipython",
    "version": 3
   },
   "file_extension": ".py",
   "mimetype": "text/x-python",
   "name": "python",
   "nbconvert_exporter": "python",
   "pygments_lexer": "ipython3",
   "version": "3.9.12"
  },
  "notify_time": "30",
  "toc": {
   "base_numbering": 1,
   "nav_menu": {
    "height": "131px",
    "width": "274px"
   },
   "number_sections": true,
   "sideBar": true,
   "skip_h1_title": true,
   "title_cell": "Table of Contents",
   "title_sidebar": "Contents",
   "toc_cell": false,
   "toc_position": {},
   "toc_section_display": true,
   "toc_window_display": false
  },
  "varInspector": {
   "cols": {
    "lenName": 16,
    "lenType": 16,
    "lenVar": 40
   },
   "kernels_config": {
    "python": {
     "delete_cmd_postfix": "",
     "delete_cmd_prefix": "del ",
     "library": "var_list.py",
     "varRefreshCmd": "print(var_dic_list())"
    },
    "r": {
     "delete_cmd_postfix": ") ",
     "delete_cmd_prefix": "rm(",
     "library": "var_list.r",
     "varRefreshCmd": "cat(var_dic_list()) "
    }
   },
   "types_to_exclude": [
    "module",
    "function",
    "builtin_function_or_method",
    "instance",
    "_Feature"
   ],
   "window_display": false
  }
 },
 "nbformat": 4,
 "nbformat_minor": 5
}
