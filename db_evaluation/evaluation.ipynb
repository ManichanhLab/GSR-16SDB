{
 "cells": [
  {
   "cell_type": "markdown",
   "id": "259302c6",
   "metadata": {
    "toc": true
   },
   "source": [
    "<h1>Table of Contents<span class=\"tocSkip\"></span></h1>\n",
    "<div class=\"toc\"><ul class=\"toc-item\"><li><span><a href=\"#Databases-Evaluation\" data-toc-modified-id=\"Databases-Evaluation-1\"><span class=\"toc-item-num\">1&nbsp;&nbsp;</span>Databases Evaluation</a></span><ul class=\"toc-item\"><li><span><a href=\"#Environment-(ete3)\" data-toc-modified-id=\"Environment-(ete3)-1.1\"><span class=\"toc-item-num\">1.1&nbsp;&nbsp;</span>Environment (ete3)</a></span></li></ul></li><li><span><a href=\"#QUANTITATIVE-EVALUATION:-per-sequence-comparison\" data-toc-modified-id=\"QUANTITATIVE-EVALUATION:-per-sequence-comparison-2\"><span class=\"toc-item-num\">2&nbsp;&nbsp;</span>QUANTITATIVE EVALUATION: per sequence comparison</a></span><ul class=\"toc-item\"><li><span><a href=\"#Evaluation\" data-toc-modified-id=\"Evaluation-2.1\"><span class=\"toc-item-num\">2.1&nbsp;&nbsp;</span>Evaluation</a></span><ul class=\"toc-item\"><li><span><a href=\"#Input-files\" data-toc-modified-id=\"Input-files-2.1.1\"><span class=\"toc-item-num\">2.1.1&nbsp;&nbsp;</span>Input files</a></span></li><li><span><a href=\"#Unify-database-taxonomies\" data-toc-modified-id=\"Unify-database-taxonomies-2.1.2\"><span class=\"toc-item-num\">2.1.2&nbsp;&nbsp;</span>Unify database taxonomies</a></span></li><li><span><a href=\"#Compute-performance-scores-with-a-confusion-matrix\" data-toc-modified-id=\"Compute-performance-scores-with-a-confusion-matrix-2.1.3\"><span class=\"toc-item-num\">2.1.3&nbsp;&nbsp;</span>Compute performance scores with a confusion matrix</a></span><ul class=\"toc-item\"><li><span><a href=\"#Expected-per-sequence-relative-abundances-of-taxonomies-by-level:\" data-toc-modified-id=\"Expected-per-sequence-relative-abundances-of-taxonomies-by-level:-2.1.3.1\"><span class=\"toc-item-num\">2.1.3.1&nbsp;&nbsp;</span>Expected per sequence relative abundances of taxonomies by level:</a></span></li><li><span><a href=\"#Compute-scores:\" data-toc-modified-id=\"Compute-scores:-2.1.3.2\"><span class=\"toc-item-num\">2.1.3.2&nbsp;&nbsp;</span>Compute scores:</a></span></li></ul></li><li><span><a href=\"#Taxabarplots\" data-toc-modified-id=\"Taxabarplots-2.1.4\"><span class=\"toc-item-num\">2.1.4&nbsp;&nbsp;</span>Taxabarplots</a></span><ul class=\"toc-item\"><li><span><a href=\"#Modify-for-clusterized-taxonomies\" data-toc-modified-id=\"Modify-for-clusterized-taxonomies-2.1.4.1\"><span class=\"toc-item-num\">2.1.4.1&nbsp;&nbsp;</span>Modify for clusterized taxonomies</a></span></li><li><span><a href=\"#Read-modified-taxabarplots-(observed-abundancies)-and-expected-abundancies\" data-toc-modified-id=\"Read-modified-taxabarplots-(observed-abundancies)-and-expected-abundancies-2.1.4.2\"><span class=\"toc-item-num\">2.1.4.2&nbsp;&nbsp;</span>Read modified taxabarplots (observed abundancies) and expected abundancies</a></span></li><li><span><a href=\"#Generate-merged-taxabarplots\" data-toc-modified-id=\"Generate-merged-taxabarplots-2.1.4.3\"><span class=\"toc-item-num\">2.1.4.3&nbsp;&nbsp;</span>Generate merged taxabarplots</a></span></li><li><span><a href=\"#Other-things\" data-toc-modified-id=\"Other-things-2.1.4.4\"><span class=\"toc-item-num\">2.1.4.4&nbsp;&nbsp;</span>Other things</a></span></li></ul></li></ul></li></ul></li><li><span><a href=\"#Analysis:-FORMATTED-DATABASES\" data-toc-modified-id=\"Analysis:-FORMATTED-DATABASES-3\"><span class=\"toc-item-num\">3&nbsp;&nbsp;</span>Analysis: FORMATTED DATABASES</a></span><ul class=\"toc-item\"><li><span><a href=\"#Database-comparison\" data-toc-modified-id=\"Database-comparison-3.1\"><span class=\"toc-item-num\">3.1&nbsp;&nbsp;</span>Database comparison</a></span><ul class=\"toc-item\"><li><span><a href=\"#Average-of-all-configurations-for-each-level\" data-toc-modified-id=\"Average-of-all-configurations-for-each-level-3.1.1\"><span class=\"toc-item-num\">3.1.1&nbsp;&nbsp;</span>Average of all configurations for each level</a></span></li><li><span><a href=\"#Best-configuration-for-each-mock-community\" data-toc-modified-id=\"Best-configuration-for-each-mock-community-3.1.2\"><span class=\"toc-item-num\">3.1.2&nbsp;&nbsp;</span>Best configuration for each mock-community</a></span></li><li><span><a href=\"#Confidence-comparison\" data-toc-modified-id=\"Confidence-comparison-3.1.3\"><span class=\"toc-item-num\">3.1.3&nbsp;&nbsp;</span>Confidence comparison</a></span></li><li><span><a href=\"#Pgram-comparison\" data-toc-modified-id=\"Pgram-comparison-3.1.4\"><span class=\"toc-item-num\">3.1.4&nbsp;&nbsp;</span>Pgram comparison</a></span></li><li><span><a href=\"#Grouped-Barplots\" data-toc-modified-id=\"Grouped-Barplots-3.1.5\"><span class=\"toc-item-num\">3.1.5&nbsp;&nbsp;</span>Grouped Barplots</a></span></li><li><span><a href=\"#Best-Paramater-Configuration\" data-toc-modified-id=\"Best-Paramater-Configuration-3.1.6\"><span class=\"toc-item-num\">3.1.6&nbsp;&nbsp;</span>Best Paramater Configuration</a></span><ul class=\"toc-item\"><li><span><a href=\"#For-each-database,-choose-the-best-configuration-parameter\" data-toc-modified-id=\"For-each-database,-choose-the-best-configuration-parameter-3.1.6.1\"><span class=\"toc-item-num\">3.1.6.1&nbsp;&nbsp;</span>For each database, choose the best configuration parameter</a></span></li><li><span><a href=\"#Plot-best-configuration-fscores\" data-toc-modified-id=\"Plot-best-configuration-fscores-3.1.6.2\"><span class=\"toc-item-num\">3.1.6.2&nbsp;&nbsp;</span>Plot best configuration fscores</a></span></li><li><span><a href=\"#Plot-best-configuration-at-species-level-for-each-database\" data-toc-modified-id=\"Plot-best-configuration-at-species-level-for-each-database-3.1.6.3\"><span class=\"toc-item-num\">3.1.6.3&nbsp;&nbsp;</span>Plot best configuration at species level for each database</a></span></li></ul></li><li><span><a href=\"#Confusion-Matrix\" data-toc-modified-id=\"Confusion-Matrix-3.1.7\"><span class=\"toc-item-num\">3.1.7&nbsp;&nbsp;</span>Confusion Matrix</a></span><ul class=\"toc-item\"><li><span><a href=\"#Inspect-a-specific-sample-scores\" data-toc-modified-id=\"Inspect-a-specific-sample-scores-3.1.7.1\"><span class=\"toc-item-num\">3.1.7.1&nbsp;&nbsp;</span>Inspect a specific sample scores</a></span></li></ul></li></ul></li></ul></li><li><span><a href=\"#Analysis:-Bray-Curtis-Distances\" data-toc-modified-id=\"Analysis:-Bray-Curtis-Distances-4\"><span class=\"toc-item-num\">4&nbsp;&nbsp;</span>Analysis: Bray-Curtis Distances</a></span><ul class=\"toc-item\"><li><span><a href=\"#Setup\" data-toc-modified-id=\"Setup-4.1\"><span class=\"toc-item-num\">4.1&nbsp;&nbsp;</span>Setup</a></span></li><li><span><a href=\"#Beta-Diversity:-Bray-Curtis-Distance\" data-toc-modified-id=\"Beta-Diversity:-Bray-Curtis-Distance-4.2\"><span class=\"toc-item-num\">4.2&nbsp;&nbsp;</span>Beta Diversity: Bray-Curtis Distance</a></span><ul class=\"toc-item\"><li><span><a href=\"#Adapt-dataframes\" data-toc-modified-id=\"Adapt-dataframes-4.2.1\"><span class=\"toc-item-num\">4.2.1&nbsp;&nbsp;</span>Adapt dataframes</a></span></li><li><span><a href=\"#Filter-dataframe\" data-toc-modified-id=\"Filter-dataframe-4.2.2\"><span class=\"toc-item-num\">4.2.2&nbsp;&nbsp;</span>Filter dataframe</a></span></li><li><span><a href=\"#Perform-PCoA-using-Bray-Curtis-Distances-(lvl-2-7)\" data-toc-modified-id=\"Perform-PCoA-using-Bray-Curtis-Distances-(lvl-2-7)-4.2.3\"><span class=\"toc-item-num\">4.2.3&nbsp;&nbsp;</span>Perform PCoA using Bray-Curtis Distances (lvl 2-7)</a></span></li><li><span><a href=\"#Calculate-paired-distances-between-the-expected-sample-and-the-observed-one.\" data-toc-modified-id=\"Calculate-paired-distances-between-the-expected-sample-and-the-observed-one.-4.2.4\"><span class=\"toc-item-num\">4.2.4&nbsp;&nbsp;</span>Calculate paired distances between the expected sample and the observed one.</a></span></li><li><span><a href=\"#Plots-Distances\" data-toc-modified-id=\"Plots-Distances-4.2.5\"><span class=\"toc-item-num\">4.2.5&nbsp;&nbsp;</span>Plots Distances</a></span><ul class=\"toc-item\"><li><span><a href=\"#all-distances\" data-toc-modified-id=\"all-distances-4.2.5.1\"><span class=\"toc-item-num\">4.2.5.1&nbsp;&nbsp;</span>all distances</a></span></li></ul></li></ul></li></ul></li><li><span><a href=\"#Mock-community-composition\" data-toc-modified-id=\"Mock-community-composition-5\"><span class=\"toc-item-num\">5&nbsp;&nbsp;</span>Mock community composition</a></span><ul class=\"toc-item\"><li><span><a href=\"#SetUp\" data-toc-modified-id=\"SetUp-5.1\"><span class=\"toc-item-num\">5.1&nbsp;&nbsp;</span>SetUp</a></span><ul class=\"toc-item\"><li><span><a href=\"#Function:-get-relative-plotbars\" data-toc-modified-id=\"Function:-get-relative-plotbars-5.1.1\"><span class=\"toc-item-num\">5.1.1&nbsp;&nbsp;</span>Function: get relative plotbars</a></span></li></ul></li><li><span><a href=\"#Merge-metadata-and-otu-table-into-a-single-dataframe\" data-toc-modified-id=\"Merge-metadata-and-otu-table-into-a-single-dataframe-5.2\"><span class=\"toc-item-num\">5.2&nbsp;&nbsp;</span>Merge metadata and otu table into a single dataframe</a></span></li><li><span><a href=\"#Generate-taxa-table\" data-toc-modified-id=\"Generate-taxa-table-5.3\"><span class=\"toc-item-num\">5.3&nbsp;&nbsp;</span>Generate taxa table</a></span></li><li><span><a href=\"#Create-phyloseq-object\" data-toc-modified-id=\"Create-phyloseq-object-5.4\"><span class=\"toc-item-num\">5.4&nbsp;&nbsp;</span>Create phyloseq object</a></span></li><li><span><a href=\"#PlotBars\" data-toc-modified-id=\"PlotBars-5.5\"><span class=\"toc-item-num\">5.5&nbsp;&nbsp;</span>PlotBars</a></span><ul class=\"toc-item\"><li><span><a href=\"#Download-data\" data-toc-modified-id=\"Download-data-5.5.1\"><span class=\"toc-item-num\">5.5.1&nbsp;&nbsp;</span>Download data</a></span></li><li><span><a href=\"#Stack\" data-toc-modified-id=\"Stack-5.5.2\"><span class=\"toc-item-num\">5.5.2&nbsp;&nbsp;</span>Stack</a></span></li><li><span><a href=\"#Individual\" data-toc-modified-id=\"Individual-5.5.3\"><span class=\"toc-item-num\">5.5.3&nbsp;&nbsp;</span>Individual</a></span></li></ul></li></ul></li><li><span><a href=\"#Rep-Seqs-performance\" data-toc-modified-id=\"Rep-Seqs-performance-6\"><span class=\"toc-item-num\">6&nbsp;&nbsp;</span>Rep-Seqs performance</a></span></li><li><span><a href=\"#MOCK-COMMUNITY\" data-toc-modified-id=\"MOCK-COMMUNITY-7\"><span class=\"toc-item-num\">7&nbsp;&nbsp;</span>MOCK-COMMUNITY</a></span><ul class=\"toc-item\"><li><span><a href=\"#Compare-expected-abundancies-vs-original-abundancies-mock-community\" data-toc-modified-id=\"Compare-expected-abundancies-vs-original-abundancies-mock-community-7.1\"><span class=\"toc-item-num\">7.1&nbsp;&nbsp;</span>Compare expected abundancies vs original abundancies mock-community</a></span></li></ul></li><li><span><a href=\"#Drafts\" data-toc-modified-id=\"Drafts-8\"><span class=\"toc-item-num\">8&nbsp;&nbsp;</span>Drafts</a></span><ul class=\"toc-item\"><li><span><a href=\"#Compute-performance-scores:-old-method\" data-toc-modified-id=\"Compute-performance-scores:-old-method-8.1\"><span class=\"toc-item-num\">8.1&nbsp;&nbsp;</span>Compute performance scores: old method</a></span></li><li><span><a href=\"#Confusion-matrix:-Old-method\" data-toc-modified-id=\"Confusion-matrix:-Old-method-8.2\"><span class=\"toc-item-num\">8.2&nbsp;&nbsp;</span>Confusion matrix: Old-method</a></span></li><li><span><a href=\"#QUALITATIVE-COMPARISON:-expected-species\" data-toc-modified-id=\"QUALITATIVE-COMPARISON:-expected-species-8.3\"><span class=\"toc-item-num\">8.3&nbsp;&nbsp;</span>QUALITATIVE COMPARISON: expected species</a></span><ul class=\"toc-item\"><li><span><a href=\"#Analysis:-NON-FORMATTED-DATABASES\" data-toc-modified-id=\"Analysis:-NON-FORMATTED-DATABASES-8.3.1\"><span class=\"toc-item-num\">8.3.1&nbsp;&nbsp;</span>Analysis: NON-FORMATTED DATABASES</a></span></li><li><span><a href=\"#Databases-comparison\" data-toc-modified-id=\"Databases-comparison-8.3.2\"><span class=\"toc-item-num\">8.3.2&nbsp;&nbsp;</span>Databases comparison</a></span></li><li><span><a href=\"#Confidence-comparison\" data-toc-modified-id=\"Confidence-comparison-8.3.3\"><span class=\"toc-item-num\">8.3.3&nbsp;&nbsp;</span>Confidence comparison</a></span></li><li><span><a href=\"#Pgram-comparison\" data-toc-modified-id=\"Pgram-comparison-8.3.4\"><span class=\"toc-item-num\">8.3.4&nbsp;&nbsp;</span>Pgram comparison</a></span></li><li><span><a href=\"#Formated-databases\" data-toc-modified-id=\"Formated-databases-8.3.5\"><span class=\"toc-item-num\">8.3.5&nbsp;&nbsp;</span>Formated databases</a></span></li></ul></li><li><span><a href=\"#Do-not-unify-database-taxonomies\" data-toc-modified-id=\"Do-not-unify-database-taxonomies-8.4\"><span class=\"toc-item-num\">8.4&nbsp;&nbsp;</span>Do not unify database taxonomies</a></span><ul class=\"toc-item\"><li><span><a href=\"#Database-comparison\" data-toc-modified-id=\"Database-comparison-8.4.1\"><span class=\"toc-item-num\">8.4.1&nbsp;&nbsp;</span>Database comparison</a></span></li></ul></li></ul></li></ul></div>"
   ]
  },
  {
   "cell_type": "markdown",
   "id": "3343ab75",
   "metadata": {},
   "source": [
    "# Databases Evaluation"
   ]
  },
  {
   "cell_type": "markdown",
   "id": "7804bf2d",
   "metadata": {},
   "source": [
    "## Environment (ete3)"
   ]
  },
  {
   "cell_type": "code",
   "execution_count": 1,
   "id": "d8c60de9",
   "metadata": {
    "scrolled": true,
    "tags": []
   },
   "outputs": [],
   "source": [
    "import pandas as pd\n",
    "from IPython.display import display\n",
    "from os.path import exists, dirname, basename, splitext, join\n",
    "from glob import glob\n",
    "from utils import check_dir, get_palette_c25, rm_prefs\n",
    "import utils\n",
    "import mock_evaluation\n",
    "import update_taxonomy\n",
    "import numpy as np\n",
    "import matplotlib.pyplot as plt\n",
    "import seaborn as sns\n",
    "from itertools import product\n",
    "\n",
    "from copy import deepcopy\n",
    "import multiprocessing as mp\n",
    "\n",
    "from time import gmtime, strftime\n",
    "import pickle\n",
    "\n",
    "%matplotlib inline\n",
    "%load_ext autoreload"
   ]
  },
  {
   "cell_type": "code",
   "execution_count": 2,
   "id": "3b078521",
   "metadata": {
    "tags": []
   },
   "outputs": [],
   "source": [
    "mock_names = ['gutmock', 'vagimock', 'mockrobiota']\n",
    "levels = [1,2,3,4,5,6,7]\n",
    "v_regions = ['V4', 'V3-V4', 'V1-V3', 'V3-V5', 'full-16S' ]\n",
    "mock_dir = \"mock-community/\""
   ]
  },
  {
   "cell_type": "markdown",
   "id": "5a0d37b8",
   "metadata": {},
   "source": [
    "Observed Taxanomies"
   ]
  },
  {
   "cell_type": "code",
   "execution_count": 3,
   "id": "9d829838",
   "metadata": {
    "tags": []
   },
   "outputs": [],
   "source": [
    "obs_tax_tsv = {}\n",
    "\n",
    "for v_region in v_regions:\n",
    "    obs_tax_tsv[v_region] = {}\n",
    "    \n",
    "    for mockname in mock_names:        \n",
    "        obs_tsv =  glob(join(mockname, v_region, '*','*', \n",
    "                             '*', 'taxonomy.tsv'))\n",
    "        obs_tax_tsv[v_region][mockname] = obs_tsv"
   ]
  },
  {
   "cell_type": "code",
   "execution_count": 4,
   "id": "54fbda21",
   "metadata": {},
   "outputs": [
    {
     "data": {
      "text/plain": [
       "['mockrobiota/full-16S/gg_full-16S/naive-bayes/0.001::[7,7]:disable/taxonomy.tsv',\n",
       " 'mockrobiota/full-16S/gg_full-16S/naive-bayes/0.001::[7,7]:0.5/taxonomy.tsv',\n",
       " 'mockrobiota/full-16S/gg_full-16S/naive-bayes/0.001::[7,7]:0.7/taxonomy.tsv',\n",
       " 'mockrobiota/full-16S/gg_full-16S/naive-bayes/0.001::[7,7]:0.9/taxonomy.tsv',\n",
       " 'mockrobiota/full-16S/gg_full-16S/naive-bayes/0.001::[7,7]:0.98/taxonomy.tsv']"
      ]
     },
     "execution_count": 4,
     "metadata": {},
     "output_type": "execute_result"
    }
   ],
   "source": [
    "obs_tax_tsv['full-16S']['mockrobiota'][:5]"
   ]
  },
  {
   "cell_type": "markdown",
   "id": "d9074a80",
   "metadata": {},
   "source": [
    "# QUANTITATIVE EVALUATION: per sequence comparison"
   ]
  },
  {
   "cell_type": "markdown",
   "id": "7dd1a262",
   "metadata": {},
   "source": [
    "## Evaluation"
   ]
  },
  {
   "cell_type": "markdown",
   "id": "02ac32ae",
   "metadata": {},
   "source": [
    "### Input files"
   ]
  },
  {
   "cell_type": "code",
   "execution_count": 5,
   "id": "d752e9f5",
   "metadata": {
    "tags": []
   },
   "outputs": [
    {
     "name": "stdout",
     "output_type": "stream",
     "text": [
      "### V4\n",
      "### V3-V4\n",
      "### V1-V3\n",
      "### V3-V5\n",
      "### full-16S\n"
     ]
    }
   ],
   "source": [
    "seq_comp_tab_files = {}\n",
    "\n",
    "for v_region in v_regions:\n",
    "\n",
    "    seq_comp_tab_files[v_region] = {}\n",
    "    print(f\"### {v_region}\")\n",
    "    for mockname in mock_names:\n",
    "        if v_region in ['V1-V3', 'V3-V5', 'full-16S']:\n",
    "            trueish_path = join(mock_dir,mockname, '*',\n",
    "                            f'*{v_region}', '*', 'env_taxa.txt')\n",
    "            tab_tsv_path = join(mock_dir,mockname,\n",
    "                            '*',f'*{v_region}', '*', 'env_tab.tsv')\n",
    "        else:\n",
    "            trueish_path = join(\n",
    "                mock_dir,mockname,'*',f'*{v_region}',\n",
    "                '*', 'trueish-taxonomies_norev.tsv')\n",
    "\n",
    "            if v_region == 'V4':\n",
    "                tab_tsv_path = join(\n",
    "                    mock_dir,mockname, '*',f'*{v_region}',\n",
    "                    '*', f'source/qiime2/single/table_{mockname}.tsv')\n",
    "            else:\n",
    "                tab_tsv_path = join(\n",
    "                    mock_dir,mockname, '*',f'*{v_region}',\n",
    "                    '*', f'source/qiime2/paired/table_{mockname}.tsv')\n",
    "    \n",
    "        trueish = glob(trueish_path)[0]\n",
    "        tab_tsv = glob(tab_tsv_path)[0]\n",
    "        \n",
    "#         print(f\"### {mockname}, {trueish}, {tab_tsv}\")\n",
    "\n",
    "        seq_comp_tab_files[v_region][mockname] = (trueish, tab_tsv)"
   ]
  },
  {
   "cell_type": "code",
   "execution_count": 6,
   "id": "a601c96b",
   "metadata": {
    "tags": []
   },
   "outputs": [],
   "source": [
    "seq_comp_tabs = {}\n",
    "\n",
    "for v_region in v_regions:\n",
    "    seq_comp_tabs[v_region] = {}\n",
    "    \n",
    "    for mockname in mock_names:\n",
    "        trueish = pd.read_csv(\n",
    "            seq_comp_tab_files[v_region][mockname][0], \n",
    "            sep=\"\\t\", header=0)\n",
    "\n",
    "        # Unify FeatureID column name\n",
    "        if v_region in ['V1-V3', 'V3-V5', 'full-16S']:\n",
    "            tab_tsv = pd.read_csv(\n",
    "                seq_comp_tab_files[v_region][mockname][1], \n",
    "                sep=\"\\t\", header=0)\n",
    "            tab_tsv = tab_tsv.rename(\n",
    "                columns = {'ID': 'Feature ID'})\n",
    "            trueish = trueish.rename(\n",
    "                columns = {'Taxon': 'exp_tax'})\n",
    "        else:\n",
    "            tab_tsv = pd.read_csv(\n",
    "                seq_comp_tab_files[v_region][mockname][1], \n",
    "                sep=\"\\t\", header=1)\n",
    "            tab_tsv = tab_tsv.rename(\n",
    "                columns = {'#OTU ID': 'Feature ID'})\n",
    "            trueish = trueish.rename(\n",
    "                columns = {'id': 'Feature ID', 'taxonomy': 'exp_tax'})\n",
    "        \n",
    "        # Merge two datasets\n",
    "        seq_comp_tab = pd.merge(tab_tsv, trueish, on=\"Feature ID\")\n",
    "        seq_comp_tabs[v_region][mockname] = seq_comp_tab\n",
    "\n",
    "expected_tab = deepcopy(seq_comp_tabs)"
   ]
  },
  {
   "cell_type": "markdown",
   "id": "2295125f",
   "metadata": {},
   "source": [
    "### Unify database taxonomies"
   ]
  },
  {
   "cell_type": "code",
   "execution_count": 8,
   "id": "3ef2dd95",
   "metadata": {},
   "outputs": [
    {
     "name": "stdout",
     "output_type": "stream",
     "text": [
      "### V4\n",
      "### V3-V4\n",
      "### V1-V3\n",
      "### V3-V5\n",
      "### full-16S\n"
     ]
    }
   ],
   "source": [
    "%autoreload\n",
    "\n",
    "md_seq_comp = {}\n",
    "\n",
    "for v_region in v_regions:\n",
    "    md_seq_comp[v_region] = {}\n",
    "    \n",
    "    print(f\"### {v_region}\")\n",
    "    \n",
    "    args = []\n",
    "    # Add observed taxonomies and keep metadata information\n",
    "        \n",
    "    args = [(\n",
    "            # Obs_tvs_tax, seq_comp_tab,\n",
    "            obs_tax_tsv[v_region][mockname], tab, \n",
    "            # Result dir\n",
    "            join(mockname, v_region, \"RESULTS\", \"per_sequence\"),\n",
    "            # mockname, format_taxonomy, force\n",
    "            mockname, True, True\n",
    "        ) for mockname, tab in seq_comp_tabs[v_region].items()]\n",
    "    \n",
    "    with mp.Pool(processes = 10) as pool:\n",
    "        try:\n",
    "            results = pool.starmap(\n",
    "                mock_evaluation.per_sequence_comparison, args)\n",
    "        except Exception as e:\n",
    "            print(f\"Something when wrong with {v_region} region\")\n",
    "            pool.terminate()\n",
    "            raise e\n",
    "\n",
    "    seq_comp_tabs[v_region] = {item[0]: item[1] for item in results}\n",
    "    md_seq_comp[v_region] = {item[0]: item[2] for item in results }\n",
    "    \n",
    "pickle.dump(seq_comp_tabs, open(f\"seq_comp_tabs_ALL.pickle\", 'wb'))\n",
    "pickle.dump(md_seq_comp, open(f\"md_seq_comp_ALL.pickle\", 'wb'))"
   ]
  },
  {
   "cell_type": "code",
   "execution_count": 9,
   "id": "443fb7fb",
   "metadata": {},
   "outputs": [
    {
     "data": {
      "text/plain": [
       "{'gg_full-16S',\n",
       " 'gsrv_full-16S',\n",
       " 'gsrv_full-16S_filt',\n",
       " 'gtdb_full-16S',\n",
       " 'itgdb_full-16S',\n",
       " 'rdp_full-16S',\n",
       " 'silva_full-16S'}"
      ]
     },
     "execution_count": 9,
     "metadata": {},
     "output_type": "execute_result"
    }
   ],
   "source": [
    "set(md_seq_comp['full-16S']['mockrobiota']['database'])"
   ]
  },
  {
   "cell_type": "code",
   "execution_count": 10,
   "id": "0ea3f318",
   "metadata": {},
   "outputs": [
    {
     "data": {
      "text/html": [
       "<div>\n",
       "<style scoped>\n",
       "    .dataframe tbody tr th:only-of-type {\n",
       "        vertical-align: middle;\n",
       "    }\n",
       "\n",
       "    .dataframe tbody tr th {\n",
       "        vertical-align: top;\n",
       "    }\n",
       "\n",
       "    .dataframe thead th {\n",
       "        text-align: right;\n",
       "    }\n",
       "</style>\n",
       "<table border=\"1\" class=\"dataframe\">\n",
       "  <thead>\n",
       "    <tr style=\"text-align: right;\">\n",
       "      <th></th>\n",
       "      <th>Feature ID</th>\n",
       "      <th>gutmock00S01</th>\n",
       "      <th>gutmock01S01</th>\n",
       "      <th>gutmock02S01</th>\n",
       "      <th>gutmock03S01</th>\n",
       "      <th>gutmock04S01</th>\n",
       "      <th>exp_tax</th>\n",
       "      <th>obs_00</th>\n",
       "      <th>obs_01</th>\n",
       "      <th>obs_02</th>\n",
       "      <th>...</th>\n",
       "      <th>obs_0120</th>\n",
       "      <th>obs_0121</th>\n",
       "      <th>obs_0122</th>\n",
       "      <th>obs_0123</th>\n",
       "      <th>obs_0124</th>\n",
       "      <th>obs_0125</th>\n",
       "      <th>obs_0126</th>\n",
       "      <th>obs_0127</th>\n",
       "      <th>obs_0128</th>\n",
       "      <th>obs_0129</th>\n",
       "    </tr>\n",
       "  </thead>\n",
       "  <tbody>\n",
       "    <tr>\n",
       "      <th>0</th>\n",
       "      <td>a4e837a406b02937ff2c72ee70ccd9c5</td>\n",
       "      <td>390.0</td>\n",
       "      <td>535.0</td>\n",
       "      <td>419.0</td>\n",
       "      <td>218.0</td>\n",
       "      <td>886.0</td>\n",
       "      <td>k__Bacteria; p__Firmicutes; c__Clostridia; o__...</td>\n",
       "      <td>k__Bacteria; p__Firmicutes; c__Clostridia; o__...</td>\n",
       "      <td>k__Bacteria; p__Firmicutes; c__Clostridia; o__...</td>\n",
       "      <td>k__Bacteria; p__Firmicutes; c__Clostridia; o__...</td>\n",
       "      <td>...</td>\n",
       "      <td>k__Bacteria; p__Firmicutes; c__Clostridia; o__...</td>\n",
       "      <td>k__Bacteria; p__Firmicutes; c__Clostridia; o__...</td>\n",
       "      <td>k__Bacteria; p__Firmicutes; c__Clostridia; o__...</td>\n",
       "      <td>k__Bacteria; p__Firmicutes; c__Clostridia; o__...</td>\n",
       "      <td>k__Bacteria; p__Firmicutes; c__Clostridia; o__...</td>\n",
       "      <td>k__Bacteria; p__Firmicutes; c__Clostridia; o__...</td>\n",
       "      <td>k__Bacteria; p__Firmicutes; c__Clostridia; o__...</td>\n",
       "      <td>k__Bacteria; p__Firmicutes; c__Clostridia; o__...</td>\n",
       "      <td>k__Bacteria; p__Firmicutes; c__Clostridia; o__...</td>\n",
       "      <td>k__Bacteria; p__Firmicutes; c__Clostridia; o__...</td>\n",
       "    </tr>\n",
       "    <tr>\n",
       "      <th>1</th>\n",
       "      <td>cfbbef90c136a681b68047afb1d30da5</td>\n",
       "      <td>318.0</td>\n",
       "      <td>302.0</td>\n",
       "      <td>429.0</td>\n",
       "      <td>244.0</td>\n",
       "      <td>422.0</td>\n",
       "      <td>k__Bacteria; p__Bacteroidetes; c__Bacteroidia;...</td>\n",
       "      <td>k__Bacteria; p__Bacteroidetes; c__Bacteroidia;...</td>\n",
       "      <td>k__Bacteria; p__Bacteroidetes; c__Bacteroidia;...</td>\n",
       "      <td>k__Bacteria; p__Bacteroidetes; c__Bacteroidia;...</td>\n",
       "      <td>...</td>\n",
       "      <td>k__Bacteria; p__Bacteroidetes; c__Bacteroidia;...</td>\n",
       "      <td>k__Bacteria; p__Bacteroidetes; c__Bacteroidia;...</td>\n",
       "      <td>k__Bacteria; p__Bacteroidetes; c__Bacteroidia;...</td>\n",
       "      <td>k__Bacteria; p__Bacteroidetes; c__Bacteroidia;...</td>\n",
       "      <td>k__Bacteria; p__Bacteroidetes; c__Bacteroidia;...</td>\n",
       "      <td>k__Bacteria; p__Bacteroidetes; c__Bacteroidia;...</td>\n",
       "      <td>k__Bacteria; p__Bacteroidetes; c__Bacteroidia;...</td>\n",
       "      <td>k__Bacteria; p__Bacteroidetes; c__Bacteroidia;...</td>\n",
       "      <td>k__Bacteria; p__Bacteroidetes; c__Bacteroidia;...</td>\n",
       "      <td>k__Bacteria; p__Bacteroidetes; c__Bacteroidia;...</td>\n",
       "    </tr>\n",
       "    <tr>\n",
       "      <th>2</th>\n",
       "      <td>7a8603388f24ceb73a765c63fbd45827</td>\n",
       "      <td>291.0</td>\n",
       "      <td>275.0</td>\n",
       "      <td>401.0</td>\n",
       "      <td>232.0</td>\n",
       "      <td>403.0</td>\n",
       "      <td>k__Bacteria; p__Bacteroidetes; c__Bacteroidia;...</td>\n",
       "      <td>k__Bacteria; p__Bacteroidetes; c__Bacteroidia;...</td>\n",
       "      <td>k__Bacteria; p__Bacteroidetes; c__Bacteroidia;...</td>\n",
       "      <td>k__Bacteria; p__Bacteroidetes; c__Bacteroidia;...</td>\n",
       "      <td>...</td>\n",
       "      <td>k__Bacteria; p__Bacteroidetes; c__Bacteroidia;...</td>\n",
       "      <td>k__Bacteria; p__Bacteroidetes; c__Bacteroidia;...</td>\n",
       "      <td>k__Bacteria; p__Bacteroidetes; c__Bacteroidia;...</td>\n",
       "      <td>k__Bacteria; p__Bacteroidetes; c__Bacteroidia;...</td>\n",
       "      <td>k__Bacteria; p__Bacteroidetes; c__Bacteroidia;...</td>\n",
       "      <td>k__Bacteria; p__Bacteroidetes; c__Bacteroidia;...</td>\n",
       "      <td>k__Bacteria; p__Bacteroidetes; c__Bacteroidia;...</td>\n",
       "      <td>k__Bacteria; p__Bacteroidetes; c__Bacteroidia;...</td>\n",
       "      <td>k__Bacteria; p__; c__; o__; f__; g__; s__</td>\n",
       "      <td>k__Bacteria; p__; c__; o__; f__; g__; s__</td>\n",
       "    </tr>\n",
       "    <tr>\n",
       "      <th>3</th>\n",
       "      <td>16f8f26defa3f060e1736016f0180600</td>\n",
       "      <td>292.0</td>\n",
       "      <td>269.0</td>\n",
       "      <td>408.0</td>\n",
       "      <td>217.0</td>\n",
       "      <td>405.0</td>\n",
       "      <td>k__Bacteria; p__Bacteroidetes; c__Bacteroidia;...</td>\n",
       "      <td>k__Bacteria; p__Bacteroidetes; c__Bacteroidia;...</td>\n",
       "      <td>k__Bacteria; p__Bacteroidetes; c__Bacteroidia;...</td>\n",
       "      <td>k__Bacteria; p__Bacteroidetes; c__Bacteroidia;...</td>\n",
       "      <td>...</td>\n",
       "      <td>k__Bacteria; p__Bacteroidetes; c__Bacteroidia;...</td>\n",
       "      <td>k__Bacteria; p__Bacteroidetes; c__Bacteroidia;...</td>\n",
       "      <td>k__Bacteria; p__Bacteroidetes; c__Bacteroidia;...</td>\n",
       "      <td>k__Bacteria; p__Bacteroidetes; c__Bacteroidia;...</td>\n",
       "      <td>k__Bacteria; p__Bacteroidetes; c__Bacteroidia;...</td>\n",
       "      <td>k__Bacteria; p__Bacteroidetes; c__Bacteroidia;...</td>\n",
       "      <td>k__Bacteria; p__Bacteroidetes; c__Bacteroidia;...</td>\n",
       "      <td>k__Bacteria; p__Bacteroidetes; c__Bacteroidia;...</td>\n",
       "      <td>k__Bacteria; p__; c__; o__; f__; g__; s__</td>\n",
       "      <td>k__Bacteria; p__; c__; o__; f__; g__; s__</td>\n",
       "    </tr>\n",
       "    <tr>\n",
       "      <th>4</th>\n",
       "      <td>e05e9ce9b60bdf7edca2d3c1a1957983</td>\n",
       "      <td>281.0</td>\n",
       "      <td>262.0</td>\n",
       "      <td>390.0</td>\n",
       "      <td>217.0</td>\n",
       "      <td>387.0</td>\n",
       "      <td>k__Bacteria; p__Bacteroidetes; c__Bacteroidia;...</td>\n",
       "      <td>k__Bacteria; p__Bacteroidetes; c__Bacteroidia;...</td>\n",
       "      <td>k__Bacteria; p__Bacteroidetes; c__Bacteroidia;...</td>\n",
       "      <td>k__Bacteria; p__Bacteroidetes; c__Bacteroidia;...</td>\n",
       "      <td>...</td>\n",
       "      <td>k__Bacteria; p__Bacteroidetes; c__Bacteroidia;...</td>\n",
       "      <td>k__Bacteria; p__Bacteroidetes; c__Bacteroidia;...</td>\n",
       "      <td>k__Bacteria; p__Bacteroidetes; c__Bacteroidia;...</td>\n",
       "      <td>k__Bacteria; p__Bacteroidetes; c__Bacteroidia;...</td>\n",
       "      <td>k__Bacteria; p__Bacteroidetes; c__Bacteroidia;...</td>\n",
       "      <td>k__Bacteria; p__Bacteroidetes; c__Bacteroidia;...</td>\n",
       "      <td>k__Bacteria; p__Bacteroidetes; c__Bacteroidia;...</td>\n",
       "      <td>k__Bacteria; p__Bacteroidetes; c__Bacteroidia;...</td>\n",
       "      <td>k__Bacteria; p__Bacteroidetes; c__Bacteroidia;...</td>\n",
       "      <td>k__Bacteria; p__Bacteroidetes; c__Bacteroidia;...</td>\n",
       "    </tr>\n",
       "  </tbody>\n",
       "</table>\n",
       "<p>5 rows × 137 columns</p>\n",
       "</div>"
      ],
      "text/plain": [
       "                         Feature ID  gutmock00S01  gutmock01S01  gutmock02S01  \\\n",
       "0  a4e837a406b02937ff2c72ee70ccd9c5         390.0         535.0         419.0   \n",
       "1  cfbbef90c136a681b68047afb1d30da5         318.0         302.0         429.0   \n",
       "2  7a8603388f24ceb73a765c63fbd45827         291.0         275.0         401.0   \n",
       "3  16f8f26defa3f060e1736016f0180600         292.0         269.0         408.0   \n",
       "4  e05e9ce9b60bdf7edca2d3c1a1957983         281.0         262.0         390.0   \n",
       "\n",
       "   gutmock03S01  gutmock04S01  \\\n",
       "0         218.0         886.0   \n",
       "1         244.0         422.0   \n",
       "2         232.0         403.0   \n",
       "3         217.0         405.0   \n",
       "4         217.0         387.0   \n",
       "\n",
       "                                             exp_tax  \\\n",
       "0  k__Bacteria; p__Firmicutes; c__Clostridia; o__...   \n",
       "1  k__Bacteria; p__Bacteroidetes; c__Bacteroidia;...   \n",
       "2  k__Bacteria; p__Bacteroidetes; c__Bacteroidia;...   \n",
       "3  k__Bacteria; p__Bacteroidetes; c__Bacteroidia;...   \n",
       "4  k__Bacteria; p__Bacteroidetes; c__Bacteroidia;...   \n",
       "\n",
       "                                              obs_00  \\\n",
       "0  k__Bacteria; p__Firmicutes; c__Clostridia; o__...   \n",
       "1  k__Bacteria; p__Bacteroidetes; c__Bacteroidia;...   \n",
       "2  k__Bacteria; p__Bacteroidetes; c__Bacteroidia;...   \n",
       "3  k__Bacteria; p__Bacteroidetes; c__Bacteroidia;...   \n",
       "4  k__Bacteria; p__Bacteroidetes; c__Bacteroidia;...   \n",
       "\n",
       "                                              obs_01  \\\n",
       "0  k__Bacteria; p__Firmicutes; c__Clostridia; o__...   \n",
       "1  k__Bacteria; p__Bacteroidetes; c__Bacteroidia;...   \n",
       "2  k__Bacteria; p__Bacteroidetes; c__Bacteroidia;...   \n",
       "3  k__Bacteria; p__Bacteroidetes; c__Bacteroidia;...   \n",
       "4  k__Bacteria; p__Bacteroidetes; c__Bacteroidia;...   \n",
       "\n",
       "                                              obs_02  ...  \\\n",
       "0  k__Bacteria; p__Firmicutes; c__Clostridia; o__...  ...   \n",
       "1  k__Bacteria; p__Bacteroidetes; c__Bacteroidia;...  ...   \n",
       "2  k__Bacteria; p__Bacteroidetes; c__Bacteroidia;...  ...   \n",
       "3  k__Bacteria; p__Bacteroidetes; c__Bacteroidia;...  ...   \n",
       "4  k__Bacteria; p__Bacteroidetes; c__Bacteroidia;...  ...   \n",
       "\n",
       "                                            obs_0120  \\\n",
       "0  k__Bacteria; p__Firmicutes; c__Clostridia; o__...   \n",
       "1  k__Bacteria; p__Bacteroidetes; c__Bacteroidia;...   \n",
       "2  k__Bacteria; p__Bacteroidetes; c__Bacteroidia;...   \n",
       "3  k__Bacteria; p__Bacteroidetes; c__Bacteroidia;...   \n",
       "4  k__Bacteria; p__Bacteroidetes; c__Bacteroidia;...   \n",
       "\n",
       "                                            obs_0121  \\\n",
       "0  k__Bacteria; p__Firmicutes; c__Clostridia; o__...   \n",
       "1  k__Bacteria; p__Bacteroidetes; c__Bacteroidia;...   \n",
       "2  k__Bacteria; p__Bacteroidetes; c__Bacteroidia;...   \n",
       "3  k__Bacteria; p__Bacteroidetes; c__Bacteroidia;...   \n",
       "4  k__Bacteria; p__Bacteroidetes; c__Bacteroidia;...   \n",
       "\n",
       "                                            obs_0122  \\\n",
       "0  k__Bacteria; p__Firmicutes; c__Clostridia; o__...   \n",
       "1  k__Bacteria; p__Bacteroidetes; c__Bacteroidia;...   \n",
       "2  k__Bacteria; p__Bacteroidetes; c__Bacteroidia;...   \n",
       "3  k__Bacteria; p__Bacteroidetes; c__Bacteroidia;...   \n",
       "4  k__Bacteria; p__Bacteroidetes; c__Bacteroidia;...   \n",
       "\n",
       "                                            obs_0123  \\\n",
       "0  k__Bacteria; p__Firmicutes; c__Clostridia; o__...   \n",
       "1  k__Bacteria; p__Bacteroidetes; c__Bacteroidia;...   \n",
       "2  k__Bacteria; p__Bacteroidetes; c__Bacteroidia;...   \n",
       "3  k__Bacteria; p__Bacteroidetes; c__Bacteroidia;...   \n",
       "4  k__Bacteria; p__Bacteroidetes; c__Bacteroidia;...   \n",
       "\n",
       "                                            obs_0124  \\\n",
       "0  k__Bacteria; p__Firmicutes; c__Clostridia; o__...   \n",
       "1  k__Bacteria; p__Bacteroidetes; c__Bacteroidia;...   \n",
       "2  k__Bacteria; p__Bacteroidetes; c__Bacteroidia;...   \n",
       "3  k__Bacteria; p__Bacteroidetes; c__Bacteroidia;...   \n",
       "4  k__Bacteria; p__Bacteroidetes; c__Bacteroidia;...   \n",
       "\n",
       "                                            obs_0125  \\\n",
       "0  k__Bacteria; p__Firmicutes; c__Clostridia; o__...   \n",
       "1  k__Bacteria; p__Bacteroidetes; c__Bacteroidia;...   \n",
       "2  k__Bacteria; p__Bacteroidetes; c__Bacteroidia;...   \n",
       "3  k__Bacteria; p__Bacteroidetes; c__Bacteroidia;...   \n",
       "4  k__Bacteria; p__Bacteroidetes; c__Bacteroidia;...   \n",
       "\n",
       "                                            obs_0126  \\\n",
       "0  k__Bacteria; p__Firmicutes; c__Clostridia; o__...   \n",
       "1  k__Bacteria; p__Bacteroidetes; c__Bacteroidia;...   \n",
       "2  k__Bacteria; p__Bacteroidetes; c__Bacteroidia;...   \n",
       "3  k__Bacteria; p__Bacteroidetes; c__Bacteroidia;...   \n",
       "4  k__Bacteria; p__Bacteroidetes; c__Bacteroidia;...   \n",
       "\n",
       "                                            obs_0127  \\\n",
       "0  k__Bacteria; p__Firmicutes; c__Clostridia; o__...   \n",
       "1  k__Bacteria; p__Bacteroidetes; c__Bacteroidia;...   \n",
       "2  k__Bacteria; p__Bacteroidetes; c__Bacteroidia;...   \n",
       "3  k__Bacteria; p__Bacteroidetes; c__Bacteroidia;...   \n",
       "4  k__Bacteria; p__Bacteroidetes; c__Bacteroidia;...   \n",
       "\n",
       "                                            obs_0128  \\\n",
       "0  k__Bacteria; p__Firmicutes; c__Clostridia; o__...   \n",
       "1  k__Bacteria; p__Bacteroidetes; c__Bacteroidia;...   \n",
       "2          k__Bacteria; p__; c__; o__; f__; g__; s__   \n",
       "3          k__Bacteria; p__; c__; o__; f__; g__; s__   \n",
       "4  k__Bacteria; p__Bacteroidetes; c__Bacteroidia;...   \n",
       "\n",
       "                                            obs_0129  \n",
       "0  k__Bacteria; p__Firmicutes; c__Clostridia; o__...  \n",
       "1  k__Bacteria; p__Bacteroidetes; c__Bacteroidia;...  \n",
       "2          k__Bacteria; p__; c__; o__; f__; g__; s__  \n",
       "3          k__Bacteria; p__; c__; o__; f__; g__; s__  \n",
       "4  k__Bacteria; p__Bacteroidetes; c__Bacteroidia;...  \n",
       "\n",
       "[5 rows x 137 columns]"
      ]
     },
     "execution_count": 10,
     "metadata": {},
     "output_type": "execute_result"
    }
   ],
   "source": [
    "seq_comp_tabs['V4']['gutmock'].head()"
   ]
  },
  {
   "cell_type": "markdown",
   "id": "3f134980",
   "metadata": {},
   "source": [
    "### Compute performance scores with a confusion matrix"
   ]
  },
  {
   "cell_type": "markdown",
   "id": "d6dbdde9",
   "metadata": {},
   "source": [
    "#### Expected per sequence relative abundances of taxonomies by level:   \n",
    "(this is needed to compute the wheighted average of the scores) (only need to run once)"
   ]
  },
  {
   "cell_type": "code",
   "execution_count": 11,
   "id": "6cef07cc",
   "metadata": {},
   "outputs": [],
   "source": [
    "seq_comp_tabs = pickle.load(open(f\"seq_comp_tabs_ALL.pickle\", 'rb'))"
   ]
  },
  {
   "cell_type": "code",
   "execution_count": 12,
   "id": "7d45366d",
   "metadata": {},
   "outputs": [],
   "source": [
    "levels = [1, 2, 3, 4, 5, 6, 7]\n",
    "\n",
    "exp_tax_relabun = {}\n",
    "\n",
    "for v_region in v_regions:\n",
    "    exp_tax_relabun[v_region] = {}\n",
    "    for mock, exp in seq_comp_tabs[v_region].items():\n",
    "        exp_tax_relabun[v_region][mock] = {}\n",
    "        df = seq_comp_tabs[v_region][mock].iloc[:, 1:7]\n",
    "              \n",
    "        for level in levels:\n",
    "            d = df.copy()\n",
    "            d['exp_tax'] = df['exp_tax'].apply(lambda x: \"; \".join(x.split('; ')[0:level]))\n",
    "            d = d.groupby('exp_tax').sum()\n",
    "            d = d/d.sum()\n",
    "            exp_tax_relabun[v_region][mock][level] = d\n",
    "            \n",
    "pickle.dump(exp_tax_relabun, open('exp_tax_relabun_ALL.pickle', 'wb'))"
   ]
  },
  {
   "cell_type": "code",
   "execution_count": 13,
   "id": "304610ec",
   "metadata": {},
   "outputs": [
    {
     "data": {
      "text/html": [
       "<div>\n",
       "<style scoped>\n",
       "    .dataframe tbody tr th:only-of-type {\n",
       "        vertical-align: middle;\n",
       "    }\n",
       "\n",
       "    .dataframe tbody tr th {\n",
       "        vertical-align: top;\n",
       "    }\n",
       "\n",
       "    .dataframe thead th {\n",
       "        text-align: right;\n",
       "    }\n",
       "</style>\n",
       "<table border=\"1\" class=\"dataframe\">\n",
       "  <thead>\n",
       "    <tr style=\"text-align: right;\">\n",
       "      <th></th>\n",
       "      <th>mockrobiota00S01</th>\n",
       "      <th>mockrobiota01S01</th>\n",
       "      <th>mockrobiota02S01</th>\n",
       "      <th>mockrobiota03S01</th>\n",
       "      <th>mockrobiota04S01</th>\n",
       "    </tr>\n",
       "    <tr>\n",
       "      <th>exp_tax</th>\n",
       "      <th></th>\n",
       "      <th></th>\n",
       "      <th></th>\n",
       "      <th></th>\n",
       "      <th></th>\n",
       "    </tr>\n",
       "  </thead>\n",
       "  <tbody>\n",
       "    <tr>\n",
       "      <th>k__Archaea; p__Euryarchaeota</th>\n",
       "      <td>0.000000</td>\n",
       "      <td>0.013158</td>\n",
       "      <td>0.013158</td>\n",
       "      <td>0.000000</td>\n",
       "      <td>0.012903</td>\n",
       "    </tr>\n",
       "    <tr>\n",
       "      <th>k__Bacteria; p__Actinobacteria</th>\n",
       "      <td>0.044586</td>\n",
       "      <td>0.019737</td>\n",
       "      <td>0.026316</td>\n",
       "      <td>0.019868</td>\n",
       "      <td>0.025806</td>\n",
       "    </tr>\n",
       "    <tr>\n",
       "      <th>k__Bacteria; p__Aquificae</th>\n",
       "      <td>0.019108</td>\n",
       "      <td>0.000000</td>\n",
       "      <td>0.000000</td>\n",
       "      <td>0.013245</td>\n",
       "      <td>0.012903</td>\n",
       "    </tr>\n",
       "    <tr>\n",
       "      <th>k__Bacteria; p__Bacteroidetes</th>\n",
       "      <td>0.210191</td>\n",
       "      <td>0.243421</td>\n",
       "      <td>0.210526</td>\n",
       "      <td>0.211921</td>\n",
       "      <td>0.258065</td>\n",
       "    </tr>\n",
       "    <tr>\n",
       "      <th>k__Bacteria; p__Chlorobi</th>\n",
       "      <td>0.012739</td>\n",
       "      <td>0.000000</td>\n",
       "      <td>0.019737</td>\n",
       "      <td>0.019868</td>\n",
       "      <td>0.012903</td>\n",
       "    </tr>\n",
       "  </tbody>\n",
       "</table>\n",
       "</div>"
      ],
      "text/plain": [
       "                                mockrobiota00S01  mockrobiota01S01  \\\n",
       "exp_tax                                                              \n",
       "k__Archaea; p__Euryarchaeota            0.000000          0.013158   \n",
       "k__Bacteria; p__Actinobacteria          0.044586          0.019737   \n",
       "k__Bacteria; p__Aquificae               0.019108          0.000000   \n",
       "k__Bacteria; p__Bacteroidetes           0.210191          0.243421   \n",
       "k__Bacteria; p__Chlorobi                0.012739          0.000000   \n",
       "\n",
       "                                mockrobiota02S01  mockrobiota03S01  \\\n",
       "exp_tax                                                              \n",
       "k__Archaea; p__Euryarchaeota            0.013158          0.000000   \n",
       "k__Bacteria; p__Actinobacteria          0.026316          0.019868   \n",
       "k__Bacteria; p__Aquificae               0.000000          0.013245   \n",
       "k__Bacteria; p__Bacteroidetes           0.210526          0.211921   \n",
       "k__Bacteria; p__Chlorobi                0.019737          0.019868   \n",
       "\n",
       "                                mockrobiota04S01  \n",
       "exp_tax                                           \n",
       "k__Archaea; p__Euryarchaeota            0.012903  \n",
       "k__Bacteria; p__Actinobacteria          0.025806  \n",
       "k__Bacteria; p__Aquificae               0.012903  \n",
       "k__Bacteria; p__Bacteroidetes           0.258065  \n",
       "k__Bacteria; p__Chlorobi                0.012903  "
      ]
     },
     "execution_count": 13,
     "metadata": {},
     "output_type": "execute_result"
    }
   ],
   "source": [
    "exp_tax_relabun['V4']['mockrobiota'][2].head()"
   ]
  },
  {
   "cell_type": "markdown",
   "id": "587972af",
   "metadata": {},
   "source": [
    "#### Compute scores:"
   ]
  },
  {
   "cell_type": "code",
   "execution_count": 14,
   "id": "4798e90e",
   "metadata": {
    "scrolled": true
   },
   "outputs": [],
   "source": [
    "%%capture --no-stdout --no-display\n",
    "%autoreload\n",
    "\n",
    "exp_tax_relabun = pickle.load(open('exp_tax_relabun_ALL.pickle', 'rb'))\n",
    "seq_comp_tabs = pickle.load(open(f\"seq_comp_tabs_ALL.pickle\", 'rb'))\n",
    "md_seq_comp = pickle.load(open(f\"md_seq_comp_ALL.pickle\", 'rb'))\n",
    "\n",
    "levels = [1, 2, 3, 4, 5, 6, 7]\n",
    "\n",
    "per_sequence_scores = {}\n",
    "\n",
    "for v_region in seq_comp_tabs.keys():\n",
    "    mocknames = seq_comp_tabs[v_region].keys()\n",
    "     # args: tab, md, tax_abun, mockname, outdir, level, force\n",
    "    args = [(seq_comp_tabs[v_region][mock], # tab\n",
    "             md_seq_comp[v_region][mock], # md\n",
    "             exp_tax_relabun[v_region][mock][lvl], #relative abundance per taxon\n",
    "             mock, \n",
    "             join(mock, v_region, 'RESULTS', 'per_sequence'), # outdir\n",
    "             lvl, True) for lvl, mock in product(levels, mocknames)]\n",
    "    \n",
    "    \n",
    "    # multiprocessing bitch\n",
    "    \n",
    "    with mp.Pool(processes = 10) as pool:\n",
    "        try:\n",
    "            results = pool.starmap(\n",
    "                mock_evaluation.per_sequence_scores, args)\n",
    "        except Exception as e:\n",
    "            print(f\"Something when wrong with {v_region}\")\n",
    "            pool.terminate()\n",
    "            raise e\n",
    "            \n",
    "            \n",
    "    per_sequence_scores[v_region] = {}\n",
    "    for items in results:\n",
    "        mock = items[0]\n",
    "        level = items[1]\n",
    "        df = items[2]\n",
    "        per_sequence_scores[v_region].setdefault(mock, {})\n",
    "        per_sequence_scores[v_region][mock][level] = df\n",
    "        "
   ]
  },
  {
   "cell_type": "code",
   "execution_count": 15,
   "id": "c11c6951",
   "metadata": {},
   "outputs": [],
   "source": [
    "pickle.dump(per_sequence_scores, open(f\"per_sequence_score_obsid_ALL_v2.pickle\", 'wb'))"
   ]
  },
  {
   "cell_type": "markdown",
   "id": "f7cda861",
   "metadata": {},
   "source": [
    "### Taxabarplots"
   ]
  },
  {
   "cell_type": "markdown",
   "id": "77852498",
   "metadata": {},
   "source": [
    "#### Modify for clusterized taxonomies"
   ]
  },
  {
   "cell_type": "markdown",
   "id": "beb8844b",
   "metadata": {},
   "source": [
    "We will modify the taxabarplots to take into account clusterized taxonomies. Therefore, expected taxonomies present in the observed clusterized taxonomies, will be considered a match, and to simply and have the same composition, we will replace the name of the observed by the expected name."
   ]
  },
  {
   "cell_type": "code",
   "execution_count": 16,
   "id": "f6fdf452",
   "metadata": {},
   "outputs": [],
   "source": [
    "seq_comp_tabs = pickle.load(open(f\"seq_comp_tabs_ALL.pickle\", 'rb'))\n",
    "md_seq_comp = pickle.load(open(f\"md_seq_comp_ALL.pickle\", 'rb'))"
   ]
  },
  {
   "cell_type": "code",
   "execution_count": 17,
   "id": "91c3ecf4",
   "metadata": {},
   "outputs": [
    {
     "name": "stdout",
     "output_type": "stream",
     "text": [
      "V4\n",
      "gutmock\n",
      "vagimock\n",
      "mockrobiota\n",
      "V3-V4\n",
      "gutmock\n",
      "vagimock\n",
      "mockrobiota\n",
      "V1-V3\n",
      "gutmock\n",
      "vagimock\n",
      "mockrobiota\n",
      "V3-V5\n",
      "gutmock\n",
      "vagimock\n",
      "mockrobiota\n",
      "full-16S\n",
      "gutmock\n",
      "vagimock\n",
      "mockrobiota\n"
     ]
    }
   ],
   "source": [
    "%autoreload\n",
    "levels = [1,2,3,4,5,6,7]\n",
    "\n",
    "for v_region in seq_comp_tabs.keys():\n",
    "    print(v_region)\n",
    "    for mockname, df in seq_comp_tabs[v_region].items():\n",
    "        print(mockname)\n",
    "        md = md_seq_comp[v_region][mockname]\n",
    "        \n",
    "        # Args: md, comp_tab, results_dor, mockname, level, Force\n",
    "        args = [(md, df, join(mockname, v_region), mockname, lvl, True) for lvl in levels]\n",
    "\n",
    "        with mp.Pool(processes = 10) as pool:\n",
    "            try:\n",
    "                results = pool.starmap(\n",
    "                        mock_evaluation.modify_taxabarplots, args)\n",
    "            except Exception as e:\n",
    "                print(f\"Something when wrong with the levels of {v_region}-{mockname}\")\n",
    "                pool.terminate()\n",
    "                raise e"
   ]
  },
  {
   "cell_type": "markdown",
   "id": "a688a374",
   "metadata": {},
   "source": [
    "#### Read modified taxabarplots (observed abundancies) and expected abundancies"
   ]
  },
  {
   "cell_type": "code",
   "execution_count": 12,
   "id": "ab1ee13d",
   "metadata": {},
   "outputs": [],
   "source": [
    "clades = [\"Kingdom\", \"Phylum\", \"Class\", \"Order\", \"Family\", \"Genus\", \"Species\"]\n",
    "\n",
    "obs_abun = {}\n",
    "exp_df = {}\n",
    "for v_region in expected_tab.keys():\n",
    "    obs_abun[v_region] = {}\n",
    "    exp_df[v_region] = {}\n",
    "    \n",
    "    for mockname, df in expected_tab[v_region].items():\n",
    "        obs_abun[v_region][mockname] = {}\n",
    "        \n",
    "        df['Feature ID'] = df['exp_tax']\n",
    "        df = df.drop(['exp_tax'], axis=1)\n",
    "        df.rename(columns={'Feature ID': 'Taxon'}, inplace=True)\n",
    "        samples = list(df.columns)[1:]\n",
    "        # split taxa\n",
    "        df[clades] = df[\"Taxon\"].str.split('; ', expand=True)\n",
    "        exp_df[v_region][mockname] = (df, samples)\n",
    "        \n",
    "        for lvl in levels:\n",
    "            # mockname/region/db/method/clf_params/\n",
    "            obs = glob(join(mockname, v_region, '*','*',\n",
    "                            '*', f'taxa-barplot-L{lvl}*_mod.tsv'))\n",
    "            obs_abun[v_region][mockname][lvl] = obs"
   ]
  },
  {
   "cell_type": "code",
   "execution_count": 13,
   "id": "ce358f60",
   "metadata": {
    "tags": []
   },
   "outputs": [],
   "source": [
    "# Read Taxa-Barplots to df\n",
    "ob_df = {}\n",
    "for v_region in obs_abun.keys():\n",
    "    ob_df[v_region] = {}\n",
    "    for mockname in obs_abun[v_region].keys():\n",
    "        ob_df[v_region][mockname] = {}\n",
    "        \n",
    "        for lvl, ob_list in obs_abun[v_region][mockname].items():\n",
    "\n",
    "            dfs = [(ob_path, \n",
    "                    pd.read_csv(\n",
    "                        ob_path, header = 1, index_col = 0, sep='\\t')\n",
    "                   ) for ob_path in ob_list]\n",
    "\n",
    "            ob_df[v_region][mockname][lvl] = dfs"
   ]
  },
  {
   "cell_type": "markdown",
   "id": "9482b5c0",
   "metadata": {},
   "source": [
    "Now, we will modified this QIIME table so that the taxonomy syntax matches the syntax database. Specifically:\n",
    "\n",
    "- we have add a space between the separator (';') of the clades\n",
    "- add the prefix (e.g. s, g...) before an unspecified clade\n",
    "- Split taxa in 7 different columns (7-level)"
   ]
  },
  {
   "cell_type": "code",
   "execution_count": 14,
   "id": "e35d79ef",
   "metadata": {
    "scrolled": true,
    "tags": []
   },
   "outputs": [],
   "source": [
    "for v_region in v_regions:\n",
    "    for mockname in mock_names:\n",
    "        \n",
    "        for lvl, dfs in ob_df[v_region][mockname].items():\n",
    "            ob_list = []\n",
    "\n",
    "            for df_path, df in dfs:\n",
    "                #display(df_path)\n",
    "                df = df.reset_index().rename(columns={'#OTU ID': 'Taxon'})\n",
    "                # split taxa                \n",
    "                df[clades[:lvl]] = df.loc[:, 'Taxon'].str.split('; ', expand=True)\n",
    "                #display(df)\n",
    "                ob_list.append((df_path, df))\n",
    "            ob_df[v_region][mockname][lvl] = ob_list"
   ]
  },
  {
   "cell_type": "code",
   "execution_count": 20,
   "id": "1f4ac9c6",
   "metadata": {
    "tags": []
   },
   "outputs": [
    {
     "data": {
      "text/html": [
       "<div>\n",
       "<style scoped>\n",
       "    .dataframe tbody tr th:only-of-type {\n",
       "        vertical-align: middle;\n",
       "    }\n",
       "\n",
       "    .dataframe tbody tr th {\n",
       "        vertical-align: top;\n",
       "    }\n",
       "\n",
       "    .dataframe thead th {\n",
       "        text-align: right;\n",
       "    }\n",
       "</style>\n",
       "<table border=\"1\" class=\"dataframe\">\n",
       "  <thead>\n",
       "    <tr style=\"text-align: right;\">\n",
       "      <th></th>\n",
       "      <th>Taxon</th>\n",
       "      <th>mockrobiota00S01</th>\n",
       "      <th>mockrobiota01S01</th>\n",
       "      <th>mockrobiota02S01</th>\n",
       "      <th>mockrobiota03S01</th>\n",
       "      <th>mockrobiota04S01</th>\n",
       "      <th>Kingdom</th>\n",
       "      <th>Phylum</th>\n",
       "    </tr>\n",
       "  </thead>\n",
       "  <tbody>\n",
       "    <tr>\n",
       "      <th>0</th>\n",
       "      <td>NaN</td>\n",
       "      <td>4.0</td>\n",
       "      <td>4.0</td>\n",
       "      <td>4.0</td>\n",
       "      <td>4.0</td>\n",
       "      <td>3.0</td>\n",
       "      <td>NaN</td>\n",
       "      <td>NaN</td>\n",
       "    </tr>\n",
       "    <tr>\n",
       "      <th>1</th>\n",
       "      <td>k__Archaea; p__Euryarchaeota</td>\n",
       "      <td>0.0</td>\n",
       "      <td>1.0</td>\n",
       "      <td>1.0</td>\n",
       "      <td>1.0</td>\n",
       "      <td>0.0</td>\n",
       "      <td>k__Archaea</td>\n",
       "      <td>p__Euryarchaeota</td>\n",
       "    </tr>\n",
       "    <tr>\n",
       "      <th>2</th>\n",
       "      <td>k__Bacteria; p__</td>\n",
       "      <td>3.0</td>\n",
       "      <td>3.0</td>\n",
       "      <td>4.0</td>\n",
       "      <td>5.0</td>\n",
       "      <td>5.0</td>\n",
       "      <td>k__Bacteria</td>\n",
       "      <td>p__</td>\n",
       "    </tr>\n",
       "    <tr>\n",
       "      <th>3</th>\n",
       "      <td>k__Bacteria; p__Acidobacteria</td>\n",
       "      <td>1.0</td>\n",
       "      <td>0.0</td>\n",
       "      <td>0.0</td>\n",
       "      <td>0.0</td>\n",
       "      <td>1.0</td>\n",
       "      <td>k__Bacteria</td>\n",
       "      <td>p__Acidobacteria</td>\n",
       "    </tr>\n",
       "    <tr>\n",
       "      <th>4</th>\n",
       "      <td>k__Bacteria; p__Actinobacteria</td>\n",
       "      <td>6.0</td>\n",
       "      <td>4.0</td>\n",
       "      <td>4.0</td>\n",
       "      <td>4.0</td>\n",
       "      <td>4.0</td>\n",
       "      <td>k__Bacteria</td>\n",
       "      <td>p__Actinobacteria</td>\n",
       "    </tr>\n",
       "  </tbody>\n",
       "</table>\n",
       "</div>"
      ],
      "text/plain": [
       "                            Taxon  mockrobiota00S01  mockrobiota01S01  \\\n",
       "0                             NaN               4.0               4.0   \n",
       "1    k__Archaea; p__Euryarchaeota               0.0               1.0   \n",
       "2                k__Bacteria; p__               3.0               3.0   \n",
       "3   k__Bacteria; p__Acidobacteria               1.0               0.0   \n",
       "4  k__Bacteria; p__Actinobacteria               6.0               4.0   \n",
       "\n",
       "   mockrobiota02S01  mockrobiota03S01  mockrobiota04S01      Kingdom  \\\n",
       "0               4.0               4.0               3.0          NaN   \n",
       "1               1.0               1.0               0.0   k__Archaea   \n",
       "2               4.0               5.0               5.0  k__Bacteria   \n",
       "3               0.0               0.0               1.0  k__Bacteria   \n",
       "4               4.0               4.0               4.0  k__Bacteria   \n",
       "\n",
       "              Phylum  \n",
       "0                NaN  \n",
       "1   p__Euryarchaeota  \n",
       "2                p__  \n",
       "3   p__Acidobacteria  \n",
       "4  p__Actinobacteria  "
      ]
     },
     "execution_count": 20,
     "metadata": {},
     "output_type": "execute_result"
    }
   ],
   "source": [
    "ob_df['V1-V3']['mockrobiota'][2][118][1].head()"
   ]
  },
  {
   "cell_type": "markdown",
   "id": "05c2f44c",
   "metadata": {},
   "source": [
    "#### Generate merged taxabarplots"
   ]
  },
  {
   "cell_type": "markdown",
   "id": "78b59f59",
   "metadata": {},
   "source": [
    "Generate a merged df for downstream analysis"
   ]
  },
  {
   "cell_type": "code",
   "execution_count": null,
   "id": "b86a2be8",
   "metadata": {
    "scrolled": true,
    "tags": []
   },
   "outputs": [],
   "source": [
    "%%time\n",
    "%autoreload\n",
    "metadata_dfs = {}\n",
    "merged_dfs = {}\n",
    "\n",
    "for v_region in v_regions:\n",
    "    metadata_dfs[v_region] = {}\n",
    "    merged_dfs[v_region] = {}\n",
    "    \n",
    "    for mockname in mock_names:\n",
    "        metadata_dfs[v_region][mockname] = {}\n",
    "        merged_dfs[v_region][mockname] = {}\n",
    "        \n",
    "        for lvl, obs_ele in ob_df[v_region][mockname].items():\n",
    "            exp = exp_df[v_region][mockname][0]\n",
    "            exp = exp.fillna('Unknown')\n",
    "            outdir = join(mockname, v_region, 'RESULTS', 'taxabarplots')\n",
    "            check_dir(outdir)\n",
    "            \n",
    "            metadata_df, merged_df = mock_evaluation.merge_taxaplots(\n",
    "                mockname, obs_ele, exp, outdir, level=lvl, \n",
    "                format_taxonomy = False, force=True)\n",
    "\n",
    "            metadata_dfs[v_region][mockname][lvl] = metadata_df\n",
    "            merged_dfs[v_region][mockname][lvl] = merged_df"
   ]
  }
 ],
 "metadata": {
  "kernelspec": {
   "display_name": "Python 3 (ipykernel)",
   "language": "python",
   "name": "python3"
  },
  "language_info": {
   "codemirror_mode": {
    "name": "ipython",
    "version": 3
   },
   "file_extension": ".py",
   "mimetype": "text/x-python",
   "name": "python",
   "nbconvert_exporter": "python",
   "pygments_lexer": "ipython3",
   "version": "3.9.15"
  },
  "notify_time": "30",
  "toc": {
   "base_numbering": 1,
   "nav_menu": {
    "height": "317px",
    "width": "402px"
   },
   "number_sections": true,
   "sideBar": true,
   "skip_h1_title": false,
   "title_cell": "Table of Contents",
   "title_sidebar": "Contents",
   "toc_cell": true,
   "toc_position": {
    "height": "calc(100% - 180px)",
    "left": "10px",
    "top": "150px",
    "width": "281px"
   },
   "toc_section_display": true,
   "toc_window_display": false
  },
  "varInspector": {
   "cols": {
    "lenName": 16,
    "lenType": 16,
    "lenVar": 40
   },
   "kernels_config": {
    "python": {
     "delete_cmd_postfix": "",
     "delete_cmd_prefix": "del ",
     "library": "var_list.py",
     "varRefreshCmd": "print(var_dic_list())"
    },
    "r": {
     "delete_cmd_postfix": ") ",
     "delete_cmd_prefix": "rm(",
     "library": "var_list.r",
     "varRefreshCmd": "cat(var_dic_list()) "
    }
   },
   "types_to_exclude": [
    "module",
    "function",
    "builtin_function_or_method",
    "instance",
    "_Feature"
   ],
   "window_display": false
  }
 },
 "nbformat": 4,
 "nbformat_minor": 5
}
