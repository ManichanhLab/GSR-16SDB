{
 "cells": [
  {
   "cell_type": "markdown",
   "id": "a40a8674",
   "metadata": {},
   "source": [
    "# GSRV & Real Datasets"
   ]
  },
  {
   "cell_type": "markdown",
   "id": "936ddedf",
   "metadata": {},
   "source": [
    "## Enviroment preparation"
   ]
  },
  {
   "cell_type": "code",
   "execution_count": 19,
   "id": "24691f62",
   "metadata": {},
   "outputs": [
    {
     "name": "stdout",
     "output_type": "stream",
     "text": [
      "The autoreload extension is already loaded. To reload it, use:\n",
      "  %reload_ext autoreload\n"
     ]
    }
   ],
   "source": [
    "import qiime2.plugins.taxa.actions as taxa_actions\n",
    "\n",
    "import os\n",
    "from os import system\n",
    "from os.path import join, basename, dirname, exists, splitext\n",
    "\n",
    "%load_ext autoreload\n",
    "# %load_ext memory_profiler\n",
    "%matplotlib inline\n",
    "\n",
    "import multiprocessing as mp\n",
    "import logging\n",
    "# from memory_profiler import memory_usage\n",
    "\n",
    "import matplotlib.pyplot as plt\n",
    "\n",
    "# Custom functions\n",
    "from utils import check_dir\n",
    "import utils\n",
    "from db_comparison import get_taxonomy, get_classifier\n",
    "import mock_community"
   ]
  },
  {
   "cell_type": "code",
   "execution_count": 20,
   "id": "bfb1111f",
   "metadata": {},
   "outputs": [],
   "source": [
    "logging.basicConfig(\n",
    "    filename='benchmarking_copy1.log', \n",
    "    format='%(asctime)s %(message)s', filemode = 'w',\n",
    "    level=logging.INFO)"
   ]
  },
  {
   "cell_type": "code",
   "execution_count": 21,
   "id": "2105f111",
   "metadata": {},
   "outputs": [],
   "source": [
    "dirs = {\n",
    "    'gut': \"real_datasets/data/gut\",\n",
    "    'vagina': \"real_datasets/data/vagina\"\n",
    "}\n",
    "\n",
    "in_files = {\n",
    "    'gut':{\n",
    "        'rep-seqs': join(dirs['gut'], \"rep_seqs_dada2_FFQ_DR_final.qza\"),\n",
    "        'table': join(dirs['gut'], \"table_FFQ_DR_final.qza\")}\n",
    "    ,\n",
    "    'vagina': {\n",
    "        'rep-seqs': join(dirs['vagina'], \"rep-seqs_run29_40b.qza\"),\n",
    "        'table': join(dirs['vagina'], \"table_run29_40b.qza\")\n",
    "    }\n",
    "}"
   ]
  },
  {
   "cell_type": "code",
   "execution_count": 22,
   "id": "c0cd2b4d",
   "metadata": {},
   "outputs": [],
   "source": [
    "# Database files\n",
    "created_dir = \"/new_approach/created_db\"\n",
    "\n",
    "databases = {\n",
    "    \"gsrv_V4\": {'seq': join(created_dir, 'gsrv_V4_cluster-1_seqs.qza'),\n",
    "             'taxa': join(created_dir, 'gsrv_V4_cluster-1_taxa.qza')\n",
    "                 },\n",
    "    \"itgdb_V4\": {'seq': join(created_dir, 'itgdb_V4_seqs.qza'),\n",
    "             'taxa': join(created_dir, 'itgdb_V4_taxa.qza')\n",
    "                 },\n",
    "    \"silva_V4\": {'seq': join(created_dir, 'silva_V4_seqs.qza'),\n",
    "             'taxa': join(created_dir, 'silva_V4_taxa.qza')\n",
    "                 },\n",
    "    \"rdp_V4\":{'seq': join(created_dir, 'rdp_V4_seqs.qza'),\n",
    "             'taxa': join(created_dir, 'rdp_V4_taxa.qza')\n",
    "             },\n",
    "    \"gg_V4\":{'seq': join(created_dir, 'gg_V4_seqs.qza'),\n",
    "             'taxa': join(created_dir, 'gg_V4_taxa.qza')\n",
    "             }\n",
    "#     ,\n",
    "#     \"metasquare_V4\":{'seq': join(created_dir, 'metasquare_V4_seqs.qza'),\n",
    "#              'taxa': join(created_dir, 'metasquare_V4_taxa.qza')\n",
    "#                  }\n",
    "}"
   ]
  },
  {
   "cell_type": "markdown",
   "id": "3aa20040",
   "metadata": {},
   "source": [
    "## Built Classifiers "
   ]
  },
  {
   "cell_type": "code",
   "execution_count": 23,
   "id": "4b5b3c43",
   "metadata": {},
   "outputs": [],
   "source": [
    "classifier_dir = 'classifiers'\n",
    "check_dir(classifier_dir)"
   ]
  },
  {
   "cell_type": "code",
   "execution_count": 24,
   "id": "576fae2d",
   "metadata": {},
   "outputs": [],
   "source": [
    "commands = []\n",
    "\n",
    "# Generate classifiers\n",
    "cmds_nb, clf_paths_nb = get_classifier(\n",
    "        databases, classifier_dir, bespoke=False, \n",
    "        p_alpha = 0.001, p_feat = '[7,7]', force=False)\n",
    "    \n",
    "commands.extend(cmds_nb)\n",
    "classifiers_paths = clf_paths_nb"
   ]
  },
  {
   "cell_type": "code",
   "execution_count": 25,
   "id": "e4fcc9b8",
   "metadata": {},
   "outputs": [
    {
     "name": "stdout",
     "output_type": "stream",
     "text": [
      "5\n",
      "0\n"
     ]
    }
   ],
   "source": [
    "print(len(classifiers_paths))\n",
    "print(len(commands))"
   ]
  },
  {
   "cell_type": "code",
   "execution_count": null,
   "id": "011412b7",
   "metadata": {},
   "outputs": [],
   "source": [
    "%autoreload\n",
    "mem_stamps = {}\n",
    "for cmd, clf_path in zip(commands, classifiers_paths):\n",
    "    # Initialize timer class\n",
    "    t = utils.Timer(\n",
    "        name = f\"{clf_path}\",\n",
    "        logger = logging.info)\n",
    "    # start record usage time\n",
    "    t.start()\n",
    "    # Run function + record memory usage\n",
    "    res = memory_usage((os.system, [cmd]), \n",
    "        interval = 1, max_iterations = 1, include_children = True,\n",
    "        retval=True)\n",
    "    # Stop recording usage time\n",
    "    t.stop()\n",
    "    \n",
    "    # Add memory usage information to logging\n",
    "    mem = res[0]\n",
    "    mem_stamps[clf_path] = mem\n",
    "    logging.info(f\"Memory Usage peak: {clf_path} {max(mem)* 1.048576} MB\")\n",
    "    logging.info(f\"Memory Usage mean: {clf_path} {(sum(mem)/len(mem))* 1.048576} MB\")\n",
    "    \n",
    "print(utils.Timer.timers)"
   ]
  },
  {
   "cell_type": "code",
   "execution_count": null,
   "id": "0d79fc7d",
   "metadata": {},
   "outputs": [],
   "source": [
    "# Plot memory usage\n",
    "for clf_path, mem in mem_stamps.items():\n",
    "    plt.plot(*zip(*enumerate(mem)), label = clf_path)\n",
    "\n",
    "plt.legend()\n",
    "plt.show()"
   ]
  },
  {
   "cell_type": "markdown",
   "id": "40baf239",
   "metadata": {},
   "source": [
    "## Taxonomy assignment"
   ]
  },
  {
   "cell_type": "code",
   "execution_count": null,
   "id": "059805bd",
   "metadata": {},
   "outputs": [],
   "source": [
    "all_tax = {}\n",
    "\n",
    "# Confidence value\n",
    "for site in in_files.keys():\n",
    "    # Rep-seqs\n",
    "    rep_seqs_file = in_files[site]['rep-seqs']\n",
    "    rep_seqs = utils.import_qiime_artifact(rep_seqs_file)\n",
    "    \n",
    "    utils.check_dir('real_datasets')\n",
    "    \n",
    "    for clf in classifiers_paths:\n",
    "        \n",
    "        # Function arguments of get_taxonomy\n",
    "        args = [\n",
    "            # rep_seqs_artifact, classifier_paths, out_dir, label\n",
    "            rep_seqs, [clf], 'real_datasets', site,\n",
    "            # method, p_confidence, threads, mock_community, force\n",
    "             \"naive-bayes\", 'disable', 35, False, False\n",
    "               ]\n",
    "\n",
    "        # Initialize timer class\n",
    "        t = utils.Timer(\n",
    "            name = f\"{site}-{clf}\",\n",
    "            logger = logging.info)\n",
    "        # start record usage time\n",
    "        t.start()\n",
    "        # Run function + record memory usage\n",
    "        res = memory_usage((get_taxonomy, args), \n",
    "            interval = 1, max_iterations = 1, include_children = True,\n",
    "            retval=True)\n",
    "        # Stop recording usage ime\n",
    "        t.stop()  \n",
    "\n",
    "        # Function output\n",
    "        tax_nb = res[1]\n",
    "        all_tax[f\"{site}-{clf}\"] = tax_nb\n",
    "\n",
    "        # Add memory usage information to logging\n",
    "        mem = res[0]\n",
    "        logging.info(f\"Memory Usage peak: {site}-{clf} {max(mem)* 1.048576} MB\")\n",
    "        logging.info(f\"Memory Usage mean: {site}-{clf} {(sum(mem)/len(mem))* 1.048576} MB\")\n",
    "\n",
    "        # Plot memory usage\n",
    "        plt.plot(*zip(*enumerate(mem)), label = f\"{site}-{clf}\")\n",
    "    \n",
    "print(utils.Timer.timers)\n",
    "plt.legend()\n",
    "plt.show()"
   ]
  },
  {
   "cell_type": "code",
   "execution_count": 29,
   "id": "06ed64b7",
   "metadata": {},
   "outputs": [],
   "source": [
    "all_tax = {}\n",
    "for site in in_files.keys():\n",
    "    # Rep-seqs\n",
    "    rep_seqs_file = in_files[site]['rep-seqs']\n",
    "    rep_seqs = utils.import_qiime_artifact(rep_seqs_file)\n",
    "    \n",
    "    utils.check_dir('real_datasets')\n",
    "    \n",
    "    tax_nb = get_taxonomy(\n",
    "                rep_seqs_artifact = rep_seqs, classifier_paths = classifiers_paths,\n",
    "                out_dir = 'real_datasets', method = \"naive-bayes\", threads=4,\n",
    "                mock_community=False, p_confidence = 'disable', force=False,\n",
    "                label=site)\n",
    "    all_tax[site] = tax_nb"
   ]
  },
  {
   "cell_type": "markdown",
   "id": "df1431f6",
   "metadata": {},
   "source": [
    "## Taxa-Barplots"
   ]
  },
  {
   "cell_type": "code",
   "execution_count": 31,
   "id": "777b1fea",
   "metadata": {},
   "outputs": [
    {
     "name": "stdout",
     "output_type": "stream",
     "text": [
      "gut\n",
      "gut\n",
      "gut\n",
      "gut\n",
      "gut\n",
      "vagina\n",
      "vagina\n",
      "vagina\n",
      "vagina\n",
      "vagina\n"
     ]
    }
   ],
   "source": [
    "lvl = 7\n",
    "for site, d in all_tax.items():\n",
    "    tab_file = in_files[site]['table']\n",
    "    tab = utils.import_qiime_artifact(tab_file)\n",
    "    \n",
    "    for key, elements in d.items():           \n",
    "        tax_path = elements[1]\n",
    "        tax_artifact = elements[0]\n",
    "\n",
    "        tb_path = join(dirname(tax_path),f\"taxa-barplot-L{lvl}_{key}_{site}\")\n",
    "        tsv_tab = f\"{tb_path}.tsv\"\n",
    "        print(site)\n",
    "\n",
    "        mock_community.generate_taxa_barplots(\n",
    "            tax_artifact = tax_artifact, tab_artifact = tab,\n",
    "            level = lvl, output = tsv_tab , force = False\n",
    "        )"
   ]
  }
 ],
 "metadata": {
  "kernelspec": {
   "display_name": "Python 3 (ipykernel)",
   "language": "python",
   "name": "python3"
  },
  "language_info": {
   "codemirror_mode": {
    "name": "ipython",
    "version": 3
   },
   "file_extension": ".py",
   "mimetype": "text/x-python",
   "name": "python",
   "nbconvert_exporter": "python",
   "pygments_lexer": "ipython3",
   "version": "3.9.15"
  },
  "notify_time": "30",
  "toc": {
   "base_numbering": 1,
   "nav_menu": {
    "height": "271px",
    "width": "422px"
   },
   "number_sections": true,
   "sideBar": true,
   "skip_h1_title": true,
   "title_cell": "Table of Contents",
   "title_sidebar": "Contents",
   "toc_cell": false,
   "toc_position": {},
   "toc_section_display": true,
   "toc_window_display": false
  },
  "varInspector": {
   "cols": {
    "lenName": 16,
    "lenType": 16,
    "lenVar": 40
   },
   "kernels_config": {
    "python": {
     "delete_cmd_postfix": "",
     "delete_cmd_prefix": "del ",
     "library": "var_list.py",
     "varRefreshCmd": "print(var_dic_list())"
    },
    "r": {
     "delete_cmd_postfix": ") ",
     "delete_cmd_prefix": "rm(",
     "library": "var_list.r",
     "varRefreshCmd": "cat(var_dic_list()) "
    }
   },
   "types_to_exclude": [
    "module",
    "function",
    "builtin_function_or_method",
    "instance",
    "_Feature"
   ],
   "window_display": false
  }
 },
 "nbformat": 4,
 "nbformat_minor": 5
}
