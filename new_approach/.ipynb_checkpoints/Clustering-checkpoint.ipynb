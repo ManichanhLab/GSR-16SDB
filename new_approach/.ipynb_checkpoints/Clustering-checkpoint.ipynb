{
 "cells": [
  {
   "cell_type": "markdown",
   "id": "a8d9b712",
   "metadata": {
    "toc": true
   },
   "source": [
    "<h1>Table of Contents<span class=\"tocSkip\"></span></h1>\n",
    "<div class=\"toc\"><ul class=\"toc-item\"><li><span><a href=\"#Clusterize-the-database-sequences\" data-toc-modified-id=\"Clusterize-the-database-sequences-1\"><span class=\"toc-item-num\">1&nbsp;&nbsp;</span>Clusterize the database sequences</a></span></li><li><span><a href=\"#Read\" data-toc-modified-id=\"Read-2\"><span class=\"toc-item-num\">2&nbsp;&nbsp;</span>Read</a></span><ul class=\"toc-item\"><li><span><a href=\"#download-results\" data-toc-modified-id=\"download-results-2.1\"><span class=\"toc-item-num\">2.1&nbsp;&nbsp;</span>download results</a></span></li></ul></li><li><span><a href=\"#Get-clusterized-sequences-and-taxa\" data-toc-modified-id=\"Get-clusterized-sequences-and-taxa-3\"><span class=\"toc-item-num\">3&nbsp;&nbsp;</span>Get clusterized sequences and taxa</a></span></li></ul></div>"
   ]
  },
  {
   "cell_type": "code",
   "execution_count": 15,
   "id": "2cefd688",
   "metadata": {},
   "outputs": [
    {
     "name": "stdout",
     "output_type": "stream",
     "text": [
      "The autoreload extension is already loaded. To reload it, use:\n",
      "  %reload_ext autoreload\n"
     ]
    }
   ],
   "source": [
    "from qiime2 import Artifact\n",
    "\n",
    "from os.path import join, dirname, exists, basename, splitext\n",
    "import os\n",
    "from glob import glob\n",
    "\n",
    "import networkx as nx\n",
    "import matplotlib.pyplot as plt\n",
    "\n",
    "import pickle\n",
    "import multiprocessing as mp\n",
    "\n",
    "from Bio import SeqIO\n",
    "from Bio.SeqRecord import SeqRecord\n",
    "\n",
    "import utils\n",
    "import new_approach\n",
    "import parse_cdhit\n",
    "\n",
    "%matplotlib inline\n",
    "%load_ext autoreload"
   ]
  },
  {
   "cell_type": "code",
   "execution_count": 16,
   "id": "777722b7",
   "metadata": {},
   "outputs": [],
   "source": [
    "db_dir = 'created_db'\n",
    "db_name = 'gsrv'\n",
    "v_regions = [\"V4\", \"V3-V4\", \"V1-V3\", \"V3-V5\"]\n",
    "identities = [0.99, 1]"
   ]
  },
  {
   "cell_type": "code",
   "execution_count": 17,
   "id": "38d193a7",
   "metadata": {},
   "outputs": [
    {
     "name": "stdout",
     "output_type": "stream",
     "text": [
      "env_files[v_region]={'seq': 'created_db/gsrv_V4_seqs.fasta', 'taxa': 'created_db/gsrv_V4_taxa.txt'}\n",
      "env_files[v_region]={'seq': 'created_db/gsrv_V3-V4_seqs.fasta', 'taxa': 'created_db/gsrv_V3-V4_taxa.txt'}\n",
      "env_files[v_region]={'seq': 'created_db/gsrv_V1-V3_seqs.fasta', 'taxa': 'created_db/gsrv_V1-V3_taxa.txt'}\n",
      "env_files[v_region]={'seq': 'created_db/gsrv_V3-V5_seqs.fasta', 'taxa': 'created_db/gsrv_V3-V5_taxa.txt'}\n"
     ]
    }
   ],
   "source": [
    "# Outputs\n",
    "env_files = {}\n",
    "cdhit_out = {}\n",
    "cdhit_out_ord = {}\n",
    "db_out_prefix = {}\n",
    "\n",
    "\n",
    "for v_region in v_regions:\n",
    "    # database files\n",
    "    env_files[v_region] = {\n",
    "        'seq' : glob(\n",
    "            join(db_dir, f\"{db_name}_{v_region}*.fasta\"))[0],\n",
    "        'taxa': glob(\n",
    "            join(db_dir, f\"{db_name}_{v_region}*.txt\"))[0]\n",
    "    }\n",
    "    \n",
    "    # Outdir\n",
    "    cluster_dir = f\"Clustering/{v_region}\"\n",
    "    utils.check_dir(cluster_dir)\n",
    "    \n",
    "    # chdit out\n",
    "    cdhit_out[v_region] = { identity: join(\n",
    "        cluster_dir, \n",
    "        f\"{db_name}_{v_region}_cluster-{identity}.clstr\"\n",
    "    ) for identity in identities}\n",
    "    \n",
    "    cdhit_out_ord[v_region] = { identity: join(\n",
    "        cluster_dir, \n",
    "        f\"{db_name}_{v_region}_cluster-{identity}_ord.clstr\"\n",
    "    ) for identity in identities}\n",
    "    \n",
    "    print(f\"{env_files[v_region]=}\")"
   ]
  },
  {
   "cell_type": "markdown",
   "id": "1e449eb6",
   "metadata": {},
   "source": [
    "## Clusterize the database sequences\n",
    "Clusterize the database using cd-hit and sort the clusters by size"
   ]
  },
  {
   "cell_type": "code",
   "execution_count": null,
   "id": "86551f8e",
   "metadata": {},
   "outputs": [],
   "source": [
    "force = True\n",
    "\n",
    "for v_region in v_regions:\n",
    "    for identity in identities:\n",
    "        # Outfiles\n",
    "        cdhit_out_fasta = splitext(cdhit_out[v_region][identity])[0]\n",
    "        \n",
    "        if not exists(cdhit_out_fasta) or force:\n",
    "            !time cd-hit-est -i {env_files[v_region]['seq']} -o {cdhit_out_fasta} -c {identity} -M 50000 -T 30 -g 1 -d 0\n",
    "            !clstr_sort_by < {cdhit_out[v_region][identity]} no > {cdhit_out_ord[v_region][identity]}"
   ]
  },
  {
   "cell_type": "markdown",
   "id": "1db17c01",
   "metadata": {},
   "source": [
    "## Read"
   ]
  },
  {
   "cell_type": "code",
   "execution_count": 19,
   "id": "a84a1b9d",
   "metadata": {
    "scrolled": true
   },
   "outputs": [
    {
     "name": "stdout",
     "output_type": "stream",
     "text": [
      "### V4 ###\n"
     ]
    },
    {
     "name": "stderr",
     "output_type": "stream",
     "text": [
      "/tmp/ipykernel_33982/2173043270.py:14: DeprecationWarning: info is deprecated and will be removed in version 3.0.\n",
      "\n",
      "  print(f\"{db}: {nx.info(graphs[v_region][db])}\")\n"
     ]
    },
    {
     "name": "stdout",
     "output_type": "stream",
     "text": [
      "gsrv_V4_cluster-0.99: Graph with 48531 nodes and 24890 edges\n",
      "gsrv_V4_cluster-1: Graph with 48531 nodes and 9730 edges\n",
      "### V3-V4 ###\n",
      "gsrv_V3-V4_cluster-0.99: Graph with 56616 nodes and 29613 edges\n",
      "gsrv_V3-V4_cluster-1: Graph with 56616 nodes and 6600 edges\n",
      "### V1-V3 ###\n",
      "gsrv_V1-V3_cluster-0.99: Graph with 28566 nodes and 13902 edges\n",
      "gsrv_V1-V3_cluster-1: Graph with 28566 nodes and 1692 edges\n",
      "### V3-V5 ###\n",
      "gsrv_V3-V5_cluster-0.99: Graph with 62581 nodes and 31871 edges\n",
      "gsrv_V3-V5_cluster-1: Graph with 62581 nodes and 5975 edges\n"
     ]
    }
   ],
   "source": [
    "graphs = {}\n",
    "\n",
    "# parse cd-hit cluster file\n",
    "for v_region, d in cdhit_out_ord.items():\n",
    "    graphs[v_region] = {}\n",
    "    print(f\"### {v_region} ###\")\n",
    "    for identity, path in d.items():\n",
    "        db = basename(path)[:-10]\n",
    "    #     db = basename(file_ord)\n",
    "        \n",
    "        # Create graph\n",
    "        clusters = parse_cdhit.read_cluster(path)\n",
    "        graphs[v_region][db] = parse_cdhit.create_graph(clusters)\n",
    "        print(f\"{db}: {nx.info(graphs[v_region][db])}\")"
   ]
  },
  {
   "cell_type": "markdown",
   "id": "9a0a65af",
   "metadata": {},
   "source": [
    "Comparing the same database with different identity, we can see that the number of nodes is constant whereas the number of edges is lower in 100% identity clusters."
   ]
  },
  {
   "cell_type": "code",
   "execution_count": 20,
   "id": "cf07eadf",
   "metadata": {},
   "outputs": [],
   "source": [
    "taxon = [\"family\", \"genus\", \"species\"]\n",
    "\n",
    "for v_region in v_regions:\n",
    "    for db, g in graphs[v_region].items():\n",
    "\n",
    "        # Obtain node attributes\n",
    "        taxonomy, species, genus, family = parse_cdhit.cluster_attributes(\n",
    "            env_files[v_region]['taxa'])\n",
    "\n",
    "        # Add node attributes\n",
    "        nx.set_node_attributes(g, taxonomy, 'taxonomy')\n",
    "        nx.set_node_attributes(g, species, 'species')\n",
    "        nx.set_node_attributes(g, genus, 'genus')\n",
    "        nx.set_node_attributes(g, family, 'family')"
   ]
  },
  {
   "cell_type": "code",
   "execution_count": 21,
   "id": "0ff1a369",
   "metadata": {},
   "outputs": [
    {
     "name": "stdout",
     "output_type": "stream",
     "text": [
      "#############################\n",
      "#### V_Region : V4\n",
      "#############################\n",
      "\n",
      "#####\n",
      "#### GRAPH : gsrv_V4_cluster-0.99\n",
      "#####\n",
      "\n",
      "Number of clusters = 23641\n",
      "Number of cluster with 1 seq = 17840\n",
      "Number of cluster with > 3 seqs = 2109\n",
      "\n",
      "Length of the 0 component = 290\n",
      "\n",
      "Sizes of the clusters:\n",
      "{1, 2, 3, 4, 5, 6, 7, 8, 9, 10, 11, 12, 13, 14, 15, 16, 17, 18, 19, 20, 21, 22, 23, 24, 25, 26, 27, 28, 29, 30, 31, 32, 33, 34, 35, 36, 37, 38, 40, 41, 42, 43, 44, 45, 46, 47, 48, 49, 50, 51, 52, 54, 55, 57, 60, 63, 65, 66, 67, 71, 74, 76, 80, 85, 88, 90, 95, 96, 103, 107, 108, 113, 121, 132, 135, 145, 167, 170, 180, 201, 208, 290}\n"
     ]
    },
    {
     "data": {
      "image/png": "[encoded data removed]",
      "text/plain": [
       "<Figure size 432x288 with 1 Axes>"
      ]
     },
     "metadata": {
      "needs_background": "light"
     },
     "output_type": "display_data"
    },
    {
     "name": "stdout",
     "output_type": "stream",
     "text": [
      "#####\n",
      "#### GRAPH : gsrv_V4_cluster-1\n",
      "#####\n",
      "\n",
      "Number of clusters = 38801\n",
      "Number of cluster with 1 seq = 34790\n",
      "Number of cluster with > 3 seqs = 882\n",
      "\n",
      "Length of the 0 component = 130\n",
      "\n",
      "Sizes of the clusters:\n",
      "{1, 130, 3, 4, 5, 6, 7, 8, 9, 10, 11, 12, 13, 14, 15, 16, 17, 18, 19, 20, 21, 22, 23, 25, 26, 27, 28, 29, 30, 31, 32, 33, 35, 36, 44, 2, 57, 64, 65, 73, 75, 79, 81}\n"
     ]
    },
    {
     "data": {
      "image/png": "[encoded data removed]",
      "text/plain": [
       "<Figure size 432x288 with 1 Axes>"
      ]
     },
     "metadata": {
      "needs_background": "light"
     },
     "output_type": "display_data"
    },
    {
     "name": "stdout",
     "output_type": "stream",
     "text": [
      "#############################\n",
      "#### V_Region : V3-V4\n",
      "#############################\n",
      "\n",
      "#####\n",
      "#### GRAPH : gsrv_V3-V4_cluster-0.99\n",
      "#####\n",
      "\n",
      "Number of clusters = 27003\n",
      "Number of cluster with 1 seq = 20193\n",
      "Number of cluster with > 3 seqs = 2528\n",
      "\n",
      "Length of the 0 component = 436\n",
      "\n",
      "Sizes of the clusters:\n",
      "{1, 2, 3, 4, 5, 6, 7, 8, 9, 10, 11, 12, 13, 14, 15, 16, 17, 18, 19, 20, 21, 22, 23, 24, 25, 26, 27, 28, 29, 30, 31, 32, 33, 34, 35, 36, 37, 38, 39, 40, 41, 42, 43, 45, 46, 47, 48, 49, 50, 51, 52, 54, 57, 59, 62, 63, 64, 66, 67, 68, 71, 85, 86, 94, 97, 107, 108, 110, 126, 141, 145, 179, 186, 211, 326, 373, 436}\n"
     ]
    },
    {
     "data": {
      "image/png": "[encoded data removed]",
      "text/plain": [
       "<Figure size 432x288 with 1 Axes>"
      ]
     },
     "metadata": {
      "needs_background": "light"
     },
     "output_type": "display_data"
    },
    {
     "name": "stdout",
     "output_type": "stream",
     "text": [
      "#####\n",
      "#### GRAPH : gsrv_V3-V4_cluster-1\n",
      "#####\n",
      "\n",
      "Number of clusters = 50016\n",
      "Number of cluster with 1 seq = 46337\n",
      "Number of cluster with > 3 seqs = 466\n",
      "\n",
      "Length of the 0 component = 110\n",
      "\n",
      "Sizes of the clusters:\n",
      "{1, 2, 3, 4, 5, 6, 7, 8, 9, 10, 11, 12, 13, 14, 15, 16, 17, 18, 20, 21, 22, 23, 24, 26, 30, 32, 33, 43, 55, 71, 75, 110}\n"
     ]
    },
    {
     "data": {
      "image/png": "[encoded data removed]",
      "text/plain": [
       "<Figure size 432x288 with 1 Axes>"
      ]
     },
     "metadata": {
      "needs_background": "light"
     },
     "output_type": "display_data"
    },
    {
     "name": "stdout",
     "output_type": "stream",
     "text": [
      "#############################\n",
      "#### V_Region : V1-V3\n",
      "#############################\n",
      "\n",
      "#####\n",
      "#### GRAPH : gsrv_V1-V3_cluster-0.99\n",
      "#####\n",
      "\n",
      "Number of clusters = 14664\n",
      "Number of cluster with 1 seq = 10922\n",
      "Number of cluster with > 3 seqs = 1235\n",
      "\n",
      "Length of the 0 component = 262\n",
      "\n",
      "Sizes of the clusters:\n",
      "{1, 2, 3, 4, 5, 262, 7, 8, 9, 10, 11, 140, 13, 14, 15, 144, 17, 18, 19, 20, 21, 22, 23, 24, 25, 26, 27, 156, 29, 30, 31, 32, 33, 34, 35, 28, 37, 6, 39, 41, 42, 43, 45, 174, 46, 48, 49, 56, 57, 12, 62, 66, 72, 75, 77, 80, 16, 83, 103, 105, 118, 121}\n"
     ]
    },
    {
     "data": {
      "image/png": "[encoded data removed]",
      "text/plain": [
       "<Figure size 432x288 with 1 Axes>"
      ]
     },
     "metadata": {
      "needs_background": "light"
     },
     "output_type": "display_data"
    },
    {
     "name": "stdout",
     "output_type": "stream",
     "text": [
      "#####\n",
      "#### GRAPH : gsrv_V1-V3_cluster-1\n",
      "#####\n",
      "\n",
      "Number of clusters = 26874\n",
      "Number of cluster with 1 seq = 25566\n",
      "Number of cluster with > 3 seqs = 80\n",
      "\n",
      "Length of the 0 component = 15\n",
      "\n",
      "Sizes of the clusters:\n",
      "{1, 2, 3, 4, 5, 6, 7, 8, 9, 11, 15}\n"
     ]
    },
    {
     "data": {
      "image/png": "[encoded data removed]",
      "text/plain": [
       "<Figure size 432x288 with 1 Axes>"
      ]
     },
     "metadata": {
      "needs_background": "light"
     },
     "output_type": "display_data"
    },
    {
     "name": "stdout",
     "output_type": "stream",
     "text": [
      "#############################\n",
      "#### V_Region : V3-V5\n",
      "#############################\n",
      "\n",
      "#####\n",
      "#### GRAPH : gsrv_V3-V5_cluster-0.99\n",
      "#####\n",
      "\n",
      "Number of clusters = 30710\n",
      "Number of cluster with 1 seq = 23281\n",
      "Number of cluster with > 3 seqs = 2760\n",
      "\n",
      "Length of the 0 component = 322\n",
      "\n",
      "Sizes of the clusters:\n",
      "{1, 2, 3, 4, 5, 6, 7, 8, 9, 10, 11, 12, 13, 14, 15, 16, 17, 18, 19, 20, 21, 22, 23, 24, 25, 26, 27, 28, 29, 30, 31, 32, 33, 34, 35, 36, 37, 38, 39, 40, 41, 42, 43, 44, 45, 47, 48, 51, 52, 53, 54, 55, 56, 57, 58, 59, 60, 61, 62, 63, 67, 68, 69, 77, 82, 84, 85, 87, 93, 105, 106, 110, 117, 125, 139, 145, 148, 157, 158, 164, 217, 246, 262, 322}\n"
     ]
    },
    {
     "data": {
      "image/png": "[encoded data removed]",
      "text/plain": [
       "<Figure size 432x288 with 1 Axes>"
      ]
     },
     "metadata": {
      "needs_background": "light"
     },
     "output_type": "display_data"
    },
    {
     "name": "stdout",
     "output_type": "stream",
     "text": [
      "#####\n",
      "#### GRAPH : gsrv_V3-V5_cluster-1\n",
      "#####\n",
      "\n",
      "Number of clusters = 56606\n",
      "Number of cluster with 1 seq = 53011\n",
      "Number of cluster with > 3 seqs = 380\n",
      "\n",
      "Length of the 0 component = 97\n",
      "\n",
      "Sizes of the clusters:\n",
      "{1, 2, 3, 4, 5, 6, 7, 8, 9, 10, 11, 12, 13, 14, 15, 16, 18, 19, 20, 22, 24, 25, 26, 30, 31, 32, 34, 40, 51, 64, 97}\n"
     ]
    },
    {
     "data": {
      "image/png": "[encoded data removed]",
      "text/plain": [
       "<Figure size 432x288 with 1 Axes>"
      ]
     },
     "metadata": {
      "needs_background": "light"
     },
     "output_type": "display_data"
    }
   ],
   "source": [
    "for v_region in v_regions:\n",
    "    print(f\"#############################\\n#### V_Region : {v_region}\\n#############################\\n\")\n",
    "    for db, g in graphs[v_region].items():\n",
    "        print(f\"#####\\n#### GRAPH : {db}\\n#####\\n\")\n",
    "        parse_cdhit.get_graph_information(g)"
   ]
  },
  {
   "cell_type": "markdown",
   "id": "51090877",
   "metadata": {},
   "source": [
    "Above we can see that the cluster with 100% of identity have more clusters but with lower size, because it more difficult to group sequences in the same cluster."
   ]
  },
  {
   "cell_type": "markdown",
   "id": "946c41cd",
   "metadata": {},
   "source": [
    "### download results"
   ]
  },
  {
   "cell_type": "code",
   "execution_count": 22,
   "id": "3556549d",
   "metadata": {},
   "outputs": [
    {
     "name": "stdout",
     "output_type": "stream",
     "text": [
      "CPU times: user 2min 42s, sys: 14.6 s, total: 2min 57s\n",
      "Wall time: 3min 5s\n"
     ]
    }
   ],
   "source": [
    "%%time\n",
    "taxon = [\"family\", \"genus\", \"species\"]\n",
    "threads = 20\n",
    "force = True\n",
    "\n",
    "for v_region in v_regions:\n",
    "    clusters_df_obj = join(\n",
    "        f\"Clustering/{v_region}\", \"clusters_df.pickle\")\n",
    "\n",
    "    if not exists(clusters_df_obj) or force:\n",
    "        clusters_df = {}\n",
    "        \n",
    "        for key, g in graphs[v_region].items():\n",
    "            df = parse_cdhit.results_to_df2(\n",
    "                g, taxon, key, f\"Clustering/{v_region}\", \n",
    "                force=force, threads=threads)\n",
    "            \n",
    "            clusters_df[key] = df\n",
    "\n",
    "        pickle.dump(clusters_df, open(clusters_df_obj, 'wb'))"
   ]
  },
  {
   "cell_type": "markdown",
   "id": "bfc2651e",
   "metadata": {},
   "source": [
    "## Get clusterized sequences and taxa\n",
    "\n",
    "Centroid = first member of the cluster\n",
    "\n",
    "If the cluster len = 1:\n",
    "- Put the sequence and taxa of this centroid  \n",
    "\n",
    "else:\n",
    "- Put the sequence of the centroid (first element)\n",
    "- Join the taxonomies"
   ]
  },
  {
   "cell_type": "code",
   "execution_count": 23,
   "id": "e592f618",
   "metadata": {},
   "outputs": [
    {
     "name": "stdout",
     "output_type": "stream",
     "text": [
      "CPU times: user 1min 38s, sys: 19.7 s, total: 1min 58s\n",
      "Wall time: 2min 12s\n"
     ]
    }
   ],
   "source": [
    "%%time\n",
    "%autoreload\n",
    "db_clu = {}\n",
    "threads=25\n",
    "force = True\n",
    "\n",
    "\n",
    "for v_region in v_regions:\n",
    "    db_clu[v_region] = {}\n",
    "    db_clu_obj = join(\n",
    "        f\"Clustering/{v_region}\", f\"db_clu_dict_{v_region}.pickle\")\n",
    "\n",
    "    if not exists(db_clu_obj) or force:\n",
    "        for db, g in graphs[v_region].items():\n",
    "            ## In cluster with 100% identity keep only the centroid\n",
    "            if '1' in db:\n",
    "                only_centroid = True\n",
    "            else:\n",
    "                only_centroid = False\n",
    "\n",
    "            args = [(g.subgraph(comp), only_centroid) for comp in list(nx.connected_components(g))]\n",
    "\n",
    "            with mp.Pool(processes=threads) as pool:\n",
    "                try:\n",
    "                    results = pool.starmap(\n",
    "                        parse_cdhit.get_taxa_from_cluster, args)\n",
    "                except Exception as e:\n",
    "                    pool.terminate()\n",
    "                    raise e\n",
    "\n",
    "            if only_centroid:\n",
    "                db_clu[v_region][db] = {\n",
    "                    item[0]:item[1] for item in results}\n",
    "            else:\n",
    "                db_clu[v_region][db] = {\n",
    "                    i:tax.copy() for ids, tax in results for i in ids}\n",
    "\n",
    "        pickle.dump(db_clu, open(db_clu_obj, 'wb'))\n",
    "    else:\n",
    "        db_clu = pickle.load(open(db_clu_obj, 'rb'))"
   ]
  },
  {
   "cell_type": "markdown",
   "id": "7d5c2ae0",
   "metadata": {},
   "source": [
    "At this point, we have decided to only work with clusters at 100% identity, because for V4 region we think that is a better approach.  \n",
    "\n",
    "Add sequences and check if all the centroids from the fasta file are recorded."
   ]
  },
  {
   "cell_type": "code",
   "execution_count": 24,
   "id": "9da1ed0a",
   "metadata": {
    "scrolled": true
   },
   "outputs": [
    {
     "name": "stdout",
     "output_type": "stream",
     "text": [
      "### V4\n",
      "created_db/gsrv_V4_seqs.fasta --> gsrv_V4_cluster-0.99\n",
      "Clustering/V4/gsrv_V4_cluster-1 --> gsrv_V4_cluster-1\n",
      "### V3-V4\n",
      "created_db/gsrv_V3-V4_seqs.fasta --> gsrv_V3-V4_cluster-0.99\n",
      "Clustering/V3-V4/gsrv_V3-V4_cluster-1 --> gsrv_V3-V4_cluster-1\n",
      "### V1-V3\n",
      "Clustering/V1-V3/gsrv_V1-V3_cluster-0.99 --> gsrv_V1-V3_cluster-0.99\n",
      "Clustering/V1-V3/gsrv_V1-V3_cluster-1 --> gsrv_V1-V3_cluster-1\n",
      "### V3-V5\n",
      "created_db/gsrv_V3-V5_seqs.fasta --> gsrv_V3-V5_cluster-0.99\n",
      "Clustering/V3-V5/gsrv_V3-V5_cluster-1 --> gsrv_V3-V5_cluster-1\n"
     ]
    }
   ],
   "source": [
    "# Append seqs\n",
    "for v_region in v_regions:\n",
    "    print(f\"### {v_region}\")\n",
    "    for key, db in db_clu[v_region].items():\n",
    "        # Choose cluster fasta\n",
    "        if '1' in key:\n",
    "            fasta_file = join(f\"Clustering/{v_region}\", key)\n",
    "        # Choose original fasta\n",
    "        else:\n",
    "            fasta_file = env_files[v_region]['seq']\n",
    "\n",
    "        print(f\"{fasta_file} --> {key}\")\n",
    "\n",
    "        with open(fasta_file, \"r\") as seqsfile:\n",
    "            for record in SeqIO.parse(seqsfile, \"fasta\"):\n",
    "                ID = record.id\n",
    "                seq= record.seq\n",
    "\n",
    "                if ID in db:\n",
    "                    db[ID]['seq'] = seq\n",
    "                else:\n",
    "                    print(f\"{ID} not in {key} db\")"
   ]
  },
  {
   "cell_type": "markdown",
   "id": "43a98458",
   "metadata": {},
   "source": [
    "Downloand clusters files"
   ]
  },
  {
   "cell_type": "code",
   "execution_count": 25,
   "id": "eb9b7353",
   "metadata": {},
   "outputs": [
    {
     "name": "stdout",
     "output_type": "stream",
     "text": [
      "gsrv_V4_cluster-0.99\n",
      "gsrv_V4_cluster-1\n",
      "gsrv_V3-V4_cluster-0.99\n",
      "gsrv_V3-V4_cluster-1\n",
      "gsrv_V1-V3_cluster-0.99\n",
      "gsrv_V1-V3_cluster-1\n",
      "gsrv_V3-V5_cluster-0.99\n",
      "gsrv_V3-V5_cluster-1\n"
     ]
    }
   ],
   "source": [
    "force = True\n",
    "for v_region in v_regions:\n",
    "    for key, db in db_clu[v_region].items():\n",
    "        print(key)\n",
    "        # Download as txt and fasta\n",
    "        taxa_file = join(db_dir, f\"{key}_taxa.txt\")\n",
    "        seqs_file = join(db_dir, f\"{key}_seqs.fasta\")\n",
    "        \n",
    "\n",
    "        if not exists(taxa_file) or not exists(seqs_file) or force:\n",
    "            utils.download_db_from_dict(db, \n",
    "                                        taxa_out_file = taxa_file,\n",
    "                                        seqs_out_file = seqs_file)\n",
    "            utils.file_to_qza(taxa_file, input_type = 'taxa')\n",
    "            utils.file_to_qza(seqs_file, input_type = 'seq')"
   ]
  }
 ],
 "metadata": {
  "kernelspec": {
   "display_name": "Python [conda env:qiime2]",
   "language": "python",
   "name": "conda-env-qiime2-py"
  },
  "language_info": {
   "codemirror_mode": {
    "name": "ipython",
    "version": 3
   },
   "file_extension": ".py",
   "mimetype": "text/x-python",
   "name": "python",
   "nbconvert_exporter": "python",
   "pygments_lexer": "ipython3",
   "version": "3.8.13"
  },
  "toc": {
   "base_numbering": 1,
   "nav_menu": {},
   "number_sections": true,
   "sideBar": true,
   "skip_h1_title": false,
   "title_cell": "Table of Contents",
   "title_sidebar": "Contents",
   "toc_cell": true,
   "toc_position": {},
   "toc_section_display": true,
   "toc_window_display": false
  }
 },
 "nbformat": 4,
 "nbformat_minor": 5
}
