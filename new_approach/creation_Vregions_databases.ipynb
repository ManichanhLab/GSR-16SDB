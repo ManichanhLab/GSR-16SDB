{
 "cells": [
  {
   "cell_type": "markdown",
   "id": "a31f9621",
   "metadata": {
    "toc": true
   },
   "source": [
    "<h1>Table of Contents<span class=\"tocSkip\"></span></h1>\n",
    "<div class=\"toc\"><ul class=\"toc-item\"><li><span><a href=\"#Extract-V-regions\" data-toc-modified-id=\"Extract-V-regions-1\"><span class=\"toc-item-num\">1&nbsp;&nbsp;</span>Extract V regions</a></span></li><li><span><a href=\"#Dereplicate\" data-toc-modified-id=\"Dereplicate-2\"><span class=\"toc-item-num\">2&nbsp;&nbsp;</span>Dereplicate</a></span></li><li><span><a href=\"#Check-PATRIC-db\" data-toc-modified-id=\"Check-PATRIC-db-3\"><span class=\"toc-item-num\">3&nbsp;&nbsp;</span>Check PATRIC db</a></span></li></ul></div>"
   ]
  },
  {
   "cell_type": "code",
   "execution_count": 8,
   "id": "05b4bc20",
   "metadata": {
    "scrolled": true
   },
   "outputs": [
    {
     "name": "stdout",
     "output_type": "stream",
     "text": [
      "The autoreload extension is already loaded. To reload it, use:\n",
      "  %reload_ext autoreload\n"
     ]
    }
   ],
   "source": [
    "from qiime2 import Artifact\n",
    "\n",
    "from os.path import join, dirname, exists\n",
    "import os\n",
    "\n",
    "import networkx as nx\n",
    "\n",
    "import utils\n",
    "import new_approach\n",
    "import parse_cdhit\n",
    "%load_ext autoreload"
   ]
  },
  {
   "cell_type": "code",
   "execution_count": 9,
   "id": "02a9439e",
   "metadata": {},
   "outputs": [
    {
     "data": {
      "text/plain": [
       "{'gsrv': {'V4': 'created_db/gsrv_V4',\n",
       "  'V3-V4': 'created_db/gsrv_V3-V4',\n",
       "  'V1-V3': 'created_db/gsrv_V1-V3',\n",
       "  'V3-V5': 'created_db/gsrv_V3-V5'},\n",
       " 'rdp': {'V4': 'created_db/rdp_V4',\n",
       "  'V3-V4': 'created_db/rdp_V3-V4',\n",
       "  'V1-V3': 'created_db/rdp_V1-V3',\n",
       "  'V3-V5': 'created_db/rdp_V3-V5'},\n",
       " 'silva': {'V4': 'created_db/silva_V4',\n",
       "  'V3-V4': 'created_db/silva_V3-V4',\n",
       "  'V1-V3': 'created_db/silva_V1-V3',\n",
       "  'V3-V5': 'created_db/silva_V3-V5'},\n",
       " 'gg': {'V4': 'created_db/gg_V4',\n",
       "  'V3-V4': 'created_db/gg_V3-V4',\n",
       "  'V1-V3': 'created_db/gg_V1-V3',\n",
       "  'V3-V5': 'created_db/gg_V3-V5'},\n",
       " 'gtdb': {'V4': 'created_db/gtdb_V4',\n",
       "  'V3-V4': 'created_db/gtdb_V3-V4',\n",
       "  'V1-V3': 'created_db/gtdb_V1-V3',\n",
       "  'V3-V5': 'created_db/gtdb_V3-V5'}}"
      ]
     },
     "execution_count": 9,
     "metadata": {},
     "output_type": "execute_result"
    }
   ],
   "source": [
    "or_dir = 'original_db'\n",
    "new_dir = 'created_db'\n",
    "\n",
    "v_regions = ['V4', 'V3-V4', 'V1-V3', 'V3-V5']\n",
    "# v_regions = ['V4']\n",
    "\n",
    "# Full 16S databases\n",
    "dbs = {'gsrv': {\n",
    "    'seq': join(new_dir, 'gsrv_full-16S_seqs.qza'),\n",
    "    'taxa': join(new_dir, 'gsrv_full-16S_taxa.qza')\n",
    "    },\n",
    "      \"rdp\" :{\n",
    "        'seq' : join(or_dir, \"rdp_16S_seqs.qza\"),\n",
    "        'taxa': join(or_dir, \"rdp_16S_taxa_spformat.qza\")\n",
    "    },\n",
    "    \"silva\" : {\n",
    "        'seq' :join(or_dir, \"silva_138_NR99_seqs.qza\"),\n",
    "        'taxa': join(or_dir, \"silva_138_NR99_taxa.qza\")\n",
    "    },\n",
    "    \"gg\": {\n",
    "        'seq':join(or_dir, \"gg_13_8_NR99_seqs.qza\"),\n",
    "        'taxa':join(or_dir, \"gg_13_8_NR99_taxa_spformat.qza\")\n",
    "    }\n",
    "#        ,\n",
    "#        \"metasquare\": {\n",
    "#            'seq':join(or_dir, \"metasquare_full-16S_seqs.qza\"),\n",
    "#            'taxa':join(or_dir, \"metasquare_full-16S_taxa.qza\")\n",
    "#        }\n",
    "    ,\n",
    "       \"gtdb\": {\n",
    "           'seq':join(or_dir, \"gtdb_full-16S_seqs.qza\"),\n",
    "           'taxa':join(or_dir, \"gtdb_full-16S_taxa.qza\")\n",
    "       }\n",
    "      \n",
    "}\n",
    "\n",
    "\n",
    "db_out_prefixes = {db: {v_region: join(new_dir, f'{db}_{v_region}') for v_region in v_regions} for db in dbs }\n",
    "db_out_prefixes\n"
   ]
  },
  {
   "cell_type": "markdown",
   "id": "5e5f25ed",
   "metadata": {},
   "source": [
    "# Extract V regions"
   ]
  },
  {
   "cell_type": "markdown",
   "id": "bb21fc34",
   "metadata": {},
   "source": [
    "To obtain the primers to extract the regions, we used the table 1 from this [article](https://doi.org/10.1128/msphere.01202-20)"
   ]
  },
  {
   "cell_type": "code",
   "execution_count": 3,
   "id": "6d6ca17f",
   "metadata": {},
   "outputs": [],
   "source": [
    "%autoreload\n",
    "v_primers = utils.get_vregion_primers()\n",
    "v_lengths = utils.get_vregion_lengths()"
   ]
  },
  {
   "cell_type": "code",
   "execution_count": 10,
   "id": "c9be8c91",
   "metadata": {
    "scrolled": false
   },
   "outputs": [
    {
     "name": "stdout",
     "output_type": "stream",
     "text": [
      "V4\n",
      "V3-V4\n",
      "V1-V3\n",
      "V3-V5\n",
      "V4\n",
      "V3-V4\n",
      "V1-V3\n",
      "V3-V5\n",
      "V4\n",
      "V3-V4\n",
      "V1-V3\n",
      "V3-V5\n",
      "V4\n",
      "V3-V4\n",
      "V1-V3\n",
      "V3-V5\n",
      "V4\n",
      "V3-V4\n",
      "V1-V3\n",
      "V3-V5\n"
     ]
    }
   ],
   "source": [
    "%autoreload\n",
    "out_seqs_files = {}\n",
    "for db, prefixes in db_out_prefixes.items():\n",
    "    out_seqs_files[db] = {}\n",
    "    for v_region, prefix in prefixes.items():\n",
    "        print(v_region)\n",
    "        out_seqs_file = new_approach.extract_region(\n",
    "        seqs= dbs[db]['seq'], \n",
    "        prefix_db = prefix,  \n",
    "        f_primer = v_primers[v_region]['f'], \n",
    "        r_primer = v_primers[v_region]['r'], \n",
    "        min_length = v_lengths[v_region]['min'], \n",
    "        max_length = v_lengths[v_region]['max'], \n",
    "        threads = 35, force=False, output_formats = ['qza', 'fasta'])\n",
    "\n",
    "        out_seqs_files[db][v_region] = out_seqs_file\n"
   ]
  },
  {
   "cell_type": "code",
   "execution_count": 11,
   "id": "68863d85",
   "metadata": {},
   "outputs": [
    {
     "data": {
      "text/plain": [
       "{'gsrv': {'V4': {'qza': 'created_db/gsrv_V4_seqs.qza',\n",
       "   'fasta': 'created_db/gsrv_V4_seqs.fasta'},\n",
       "  'V3-V4': {'qza': 'created_db/gsrv_V3-V4_seqs.qza',\n",
       "   'fasta': 'created_db/gsrv_V3-V4_seqs.fasta'},\n",
       "  'V1-V3': {'qza': 'created_db/gsrv_V1-V3_seqs.qza',\n",
       "   'fasta': 'created_db/gsrv_V1-V3_seqs.fasta'},\n",
       "  'V3-V5': {'qza': 'created_db/gsrv_V3-V5_seqs.qza',\n",
       "   'fasta': 'created_db/gsrv_V3-V5_seqs.fasta'}},\n",
       " 'rdp': {'V4': {'qza': 'created_db/rdp_V4_seqs.qza',\n",
       "   'fasta': 'created_db/rdp_V4_seqs.fasta'},\n",
       "  'V3-V4': {'qza': 'created_db/rdp_V3-V4_seqs.qza',\n",
       "   'fasta': 'created_db/rdp_V3-V4_seqs.fasta'},\n",
       "  'V1-V3': {'qza': 'created_db/rdp_V1-V3_seqs.qza',\n",
       "   'fasta': 'created_db/rdp_V1-V3_seqs.fasta'},\n",
       "  'V3-V5': {'qza': 'created_db/rdp_V3-V5_seqs.qza',\n",
       "   'fasta': 'created_db/rdp_V3-V5_seqs.fasta'}},\n",
       " 'silva': {'V4': {'qza': 'created_db/silva_V4_seqs.qza',\n",
       "   'fasta': 'created_db/silva_V4_seqs.fasta'},\n",
       "  'V3-V4': {'qza': 'created_db/silva_V3-V4_seqs.qza',\n",
       "   'fasta': 'created_db/silva_V3-V4_seqs.fasta'},\n",
       "  'V1-V3': {'qza': 'created_db/silva_V1-V3_seqs.qza',\n",
       "   'fasta': 'created_db/silva_V1-V3_seqs.fasta'},\n",
       "  'V3-V5': {'qza': 'created_db/silva_V3-V5_seqs.qza',\n",
       "   'fasta': 'created_db/silva_V3-V5_seqs.fasta'}},\n",
       " 'gg': {'V4': {'qza': 'created_db/gg_V4_seqs.qza',\n",
       "   'fasta': 'created_db/gg_V4_seqs.fasta'},\n",
       "  'V3-V4': {'qza': 'created_db/gg_V3-V4_seqs.qza',\n",
       "   'fasta': 'created_db/gg_V3-V4_seqs.fasta'},\n",
       "  'V1-V3': {'qza': 'created_db/gg_V1-V3_seqs.qza',\n",
       "   'fasta': 'created_db/gg_V1-V3_seqs.fasta'},\n",
       "  'V3-V5': {'qza': 'created_db/gg_V3-V5_seqs.qza',\n",
       "   'fasta': 'created_db/gg_V3-V5_seqs.fasta'}},\n",
       " 'gtdb': {'V4': {'qza': 'created_db/gtdb_V4_seqs.qza',\n",
       "   'fasta': 'created_db/gtdb_V4_seqs.fasta'},\n",
       "  'V3-V4': {'qza': 'created_db/gtdb_V3-V4_seqs.qza',\n",
       "   'fasta': 'created_db/gtdb_V3-V4_seqs.fasta'},\n",
       "  'V1-V3': {'qza': 'created_db/gtdb_V1-V3_seqs.qza',\n",
       "   'fasta': 'created_db/gtdb_V1-V3_seqs.fasta'},\n",
       "  'V3-V5': {'qza': 'created_db/gtdb_V3-V5_seqs.qza',\n",
       "   'fasta': 'created_db/gtdb_V3-V5_seqs.fasta'}}}"
      ]
     },
     "execution_count": 11,
     "metadata": {},
     "output_type": "execute_result"
    }
   ],
   "source": [
    "out_seqs_files"
   ]
  },
  {
   "cell_type": "markdown",
   "id": "a87396c1",
   "metadata": {},
   "source": [
    "# Dereplicate"
   ]
  },
  {
   "cell_type": "markdown",
   "id": "77ae8e80",
   "metadata": {},
   "source": [
    "We have extracted only a region, so there are more chances that the sequences we added are redundant. We will delete entries with the same taxonomy and sequence."
   ]
  },
  {
   "cell_type": "code",
   "execution_count": 14,
   "id": "0f8419e1",
   "metadata": {},
   "outputs": [
    {
     "name": "stdout",
     "output_type": "stream",
     "text": [
      "Dereplicating gsrv V4...\n",
      "Dereplicating gsrv V3-V4...\n",
      "Dereplicating gsrv V1-V3...\n",
      "Dereplicating gsrv V3-V5...\n",
      "Dereplicating rdp V4...\n",
      "Dereplicating rdp V3-V4...\n",
      "Dereplicating rdp V1-V3...\n",
      "Dereplicating rdp V3-V5...\n",
      "Dereplicating silva V4...\n",
      "Dereplicating silva V3-V4...\n",
      "Dereplicating silva V1-V3...\n",
      "Dereplicating silva V3-V5...\n",
      "Dereplicating gg V4...\n",
      "Dereplicating gg V3-V4...\n",
      "Dereplicating gg V1-V3...\n",
      "Dereplicating gg V3-V5...\n",
      "Dereplicating gtdb V4...\n",
      "Saved FeatureData[Sequence] to: created_db/gtdb_V4_seqs.qza\n",
      "Saved FeatureData[Taxonomy] to: created_db/gtdb_V4_taxa.qza\n",
      "Dereplicating gtdb V3-V4...\n",
      "Saved FeatureData[Sequence] to: created_db/gtdb_V3-V4_seqs.qza\n",
      "Saved FeatureData[Taxonomy] to: created_db/gtdb_V3-V4_taxa.qza\n",
      "Dereplicating gtdb V1-V3...\n",
      "Saved FeatureData[Sequence] to: created_db/gtdb_V1-V3_seqs.qza\n",
      "Saved FeatureData[Taxonomy] to: created_db/gtdb_V1-V3_taxa.qza\n",
      "Dereplicating gtdb V3-V5...\n",
      "Saved FeatureData[Sequence] to: created_db/gtdb_V3-V5_seqs.qza\n",
      "Saved FeatureData[Taxonomy] to: created_db/gtdb_V3-V5_taxa.qza\n"
     ]
    }
   ],
   "source": [
    "dbs_extracted = {}\n",
    "\n",
    "for db, items in out_seqs_files.items():\n",
    "    dbs_extracted[db] = {}\n",
    "    for v_region, files in items.items():\n",
    "        \n",
    "        print(f\"Dereplicating {db} {v_region}...\")\n",
    "        \n",
    "        taxa_input = dbs[db]['taxa']\n",
    "        taxa_output = f\"{db_out_prefixes[db][v_region]}_taxa.qza\"\n",
    "        \n",
    "        seqs_input = seqs_output = files['qza']\n",
    "        \n",
    "        new_approach.dereplicate(\n",
    "            taxa_in = taxa_input,\n",
    "            taxa_out = taxa_output,\n",
    "            seqs_in = seqs_input,\n",
    "            seqs_out = seqs_output,\n",
    "            force = False\n",
    "        )\n",
    "        \n",
    "        seqs_out_fasta = f\"{os.path.splitext(seqs_output)[0]}.fasta\"\n",
    "        taxa_out_txt = f\"{os.path.splitext(taxa_output)[0]}.txt\"\n",
    "        \n",
    "        dbs_extracted[db][v_region] = {'seq': seqs_out_fasta, 'taxa' : taxa_out_txt}"
   ]
  },
  {
   "cell_type": "markdown",
   "id": "900d202d",
   "metadata": {},
   "source": [
    "Check numbers"
   ]
  },
  {
   "cell_type": "code",
   "execution_count": 15,
   "id": "be0af126",
   "metadata": {},
   "outputs": [
    {
     "name": "stdout",
     "output_type": "stream",
     "text": [
      "gsrv full-16S\n",
      "90409 created_db/gsrv_full-16S_taxa.txt\n",
      "gsrv V4\n",
      "48532 created_db/gsrv_V4_taxa.txt\n",
      "gsrv V3-V4\n",
      "56617 created_db/gsrv_V3-V4_taxa.txt\n",
      "gsrv V1-V3\n",
      "28567 created_db/gsrv_V1-V3_taxa.txt\n",
      "gsrv V3-V5\n",
      "62582 created_db/gsrv_V3-V5_taxa.txt\n",
      "rdp full-16S\n",
      "21196 original_db/rdp_16S_taxa_spformat.txt\n",
      "rdp V4\n",
      "18247 created_db/rdp_V4_taxa.txt\n",
      "rdp V3-V4\n",
      "18352 created_db/rdp_V3-V4_taxa.txt\n",
      "rdp V1-V3\n",
      "6921 created_db/rdp_V1-V3_taxa.txt\n",
      "rdp V3-V5\n",
      "19219 created_db/rdp_V3-V5_taxa.txt\n",
      "silva full-16S\n",
      "436681 original_db/silva_138_NR99_taxa.txt\n",
      "silva V4\n",
      "278462 created_db/silva_V4_taxa.txt\n",
      "silva V3-V4\n",
      "297008 created_db/silva_V3-V4_taxa.txt\n",
      "silva V1-V3\n",
      "152013 created_db/silva_V1-V3_taxa.txt\n",
      "silva V3-V5\n",
      "332547 created_db/silva_V3-V5_taxa.txt\n",
      "gg full-16S\n",
      "203453 original_db/gg_13_8_NR99_taxa_spformat.txt\n",
      "gg V4\n",
      "156746 created_db/gg_V4_taxa.txt\n",
      "gg V3-V4\n",
      "174922 created_db/gg_V3-V4_taxa.txt\n",
      "gg V1-V3\n",
      "94396 created_db/gg_V1-V3_taxa.txt\n",
      "gg V3-V5\n",
      "190252 created_db/gg_V3-V5_taxa.txt\n",
      "gtdb full-16S\n",
      "569539 original_db/gtdb_full-16S_taxa.txt\n",
      "gtdb V4\n",
      "54280 created_db/gtdb_V4_taxa.txt\n",
      "gtdb V3-V4\n",
      "59632 created_db/gtdb_V3-V4_taxa.txt\n",
      "gtdb V1-V3\n",
      "74991 created_db/gtdb_V1-V3_taxa.txt\n",
      "gtdb V3-V5\n",
      "62079 created_db/gtdb_V3-V5_taxa.txt\n"
     ]
    }
   ],
   "source": [
    "for db, items in dbs_extracted.items():\n",
    "    print(f\"{db} full-16S\")\n",
    "    taxa = f\"{os.path.splitext(dbs[db]['taxa'])[0]}.txt\"\n",
    "    !wc -l {taxa}\n",
    "    for v_region, files in items.items():\n",
    "        print(f\"{db} {v_region}\")\n",
    "        !wc -l {files['taxa']}"
   ]
  },
  {
   "cell_type": "markdown",
   "id": "90df826c",
   "metadata": {},
   "source": [
    "We can see that after dereplication, we have lost half of the database entries, as there are many sequences that have the same sequence and taxonomy for V4 region."
   ]
  }
 ],
 "metadata": {
  "kernelspec": {
   "display_name": "Python 3 (ipykernel)",
   "language": "python",
   "name": "python3"
  },
  "language_info": {
   "codemirror_mode": {
    "name": "ipython",
    "version": 3
   },
   "file_extension": ".py",
   "mimetype": "text/x-python",
   "name": "python",
   "nbconvert_exporter": "python",
   "pygments_lexer": "ipython3",
   "version": "3.9.15"
  },
  "toc": {
   "base_numbering": 1,
   "nav_menu": {},
   "number_sections": true,
   "sideBar": true,
   "skip_h1_title": false,
   "title_cell": "Table of Contents",
   "title_sidebar": "Contents",
   "toc_cell": true,
   "toc_position": {},
   "toc_section_display": true,
   "toc_window_display": false
  }
 },
 "nbformat": 4,
 "nbformat_minor": 5
}
