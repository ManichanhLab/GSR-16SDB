{
 "cells": [
  {
   "cell_type": "markdown",
   "id": "988b7ae5",
   "metadata": {
    "toc": true
   },
   "source": [
    "<h1>Table of Contents<span class=\"tocSkip\"></span></h1>\n",
    "<div class=\"toc\"><ul class=\"toc-item\"><li><span><a href=\"#Generation-of-mock-microbial-community-for-16S-analysis\" data-toc-modified-id=\"Generation-of-mock-microbial-community-for-16S-analysis-1\"><span class=\"toc-item-num\">1&nbsp;&nbsp;</span>Generation of mock microbial community for 16S analysis</a></span></li><li><span><a href=\"#Set-up\" data-toc-modified-id=\"Set-up-2\"><span class=\"toc-item-num\">2&nbsp;&nbsp;</span>Set up</a></span></li><li><span><a href=\"#Simulate-environment\" data-toc-modified-id=\"Simulate-environment-3\"><span class=\"toc-item-num\">3&nbsp;&nbsp;</span>Simulate environment</a></span><ul class=\"toc-item\"><li><span><a href=\"#Gutmock-and-vagimock\" data-toc-modified-id=\"Gutmock-and-vagimock-3.1\"><span class=\"toc-item-num\">3.1&nbsp;&nbsp;</span>Gutmock and vagimock</a></span></li><li><span><a href=\"#mockrobiota\" data-toc-modified-id=\"mockrobiota-3.2\"><span class=\"toc-item-num\">3.2&nbsp;&nbsp;</span>mockrobiota</a></span><ul class=\"toc-item\"><li><span><a href=\"#Cut-the--Vregions\" data-toc-modified-id=\"Cut-the--Vregions-3.2.1\"><span class=\"toc-item-num\">3.2.1&nbsp;&nbsp;</span>Cut the  Vregions</a></span></li><li><span><a href=\"#Filter-and-downloand\" data-toc-modified-id=\"Filter-and-downloand-3.2.2\"><span class=\"toc-item-num\">3.2.2&nbsp;&nbsp;</span>Filter and downloand</a></span></li></ul></li><li><span><a href=\"#Create-the-environment-for-each-sample-of-each-mock\" data-toc-modified-id=\"Create-the-environment-for-each-sample-of-each-mock-3.3\"><span class=\"toc-item-num\">3.3&nbsp;&nbsp;</span>Create the environment for each sample of each mock</a></span></li><li><span><a href=\"#Create-environment-samples-for-mockrobiota\" data-toc-modified-id=\"Create-environment-samples-for-mockrobiota-3.4\"><span class=\"toc-item-num\">3.4&nbsp;&nbsp;</span>Create environment samples for mockrobiota</a></span></li></ul></li><li><span><a href=\"#Generate-simulate-reads:-ART\" data-toc-modified-id=\"Generate-simulate-reads:-ART-4\"><span class=\"toc-item-num\">4&nbsp;&nbsp;</span>Generate simulate reads: ART</a></span></li><li><span><a href=\"#Qiime-Processing\" data-toc-modified-id=\"Qiime-Processing-5\"><span class=\"toc-item-num\">5&nbsp;&nbsp;</span>Qiime Processing</a></span><ul class=\"toc-item\"><li><span><a href=\"#Demultiplex\" data-toc-modified-id=\"Demultiplex-5.1\"><span class=\"toc-item-num\">5.1&nbsp;&nbsp;</span>Demultiplex</a></span></li><li><span><a href=\"#Sequence-quality-control-and-feature-table-construction\" data-toc-modified-id=\"Sequence-quality-control-and-feature-table-construction-5.2\"><span class=\"toc-item-num\">5.2&nbsp;&nbsp;</span>Sequence quality control and feature table construction</a></span></li><li><span><a href=\"#FeatureTable-and-FeatureData-summaries\" data-toc-modified-id=\"FeatureTable-and-FeatureData-summaries-5.3\"><span class=\"toc-item-num\">5.3&nbsp;&nbsp;</span>FeatureTable and FeatureData summaries</a></span></li></ul></li><li><span><a href=\"#Map-sequences-that-match-to-taxonomies\" data-toc-modified-id=\"Map-sequences-that-match-to-taxonomies-6\"><span class=\"toc-item-num\">6&nbsp;&nbsp;</span>Map sequences that match to taxonomies</a></span><ul class=\"toc-item\"><li><span><a href=\"#Clusterize-environment-with-cdhit\" data-toc-modified-id=\"Clusterize-environment-with-cdhit-6.1\"><span class=\"toc-item-num\">6.1&nbsp;&nbsp;</span>Clusterize environment with cdhit</a></span></li><li><span><a href=\"#Generate-truesh-taxonomy-file\" data-toc-modified-id=\"Generate-truesh-taxonomy-file-6.2\"><span class=\"toc-item-num\">6.2&nbsp;&nbsp;</span>Generate truesh-taxonomy file</a></span></li></ul></li></ul></div>"
   ]
  },
  {
   "cell_type": "markdown",
   "id": "53bbb87b",
   "metadata": {
    "heading_collapsed": true
   },
   "source": [
    "# Generation of mock microbial community for 16S analysis\n",
    "\n",
    "This notebook has been though to generate in-silico mock communities for 16S analysis. It consist in several steps:\n",
    "\n",
    "- Simulate a specific sample environment (e.g. vagina, gut, mouth) from an abundancy table that contains the taxon and its frequency\n",
    "- Generate in-silico reads from the environment\n",
    "- Process the in-silico reads with Qiime2 to obtain rep-seps \n",
    "\n",
    "The mock community directory structure will looks like the following:\n",
    "```\n",
    "out_dir/\n",
    "├── db_name/ # database name\n",
    "│   └── db_version/ # database version\n",
    "│       └── db_similarity/ # otu % similarity if applicable. If using a database that has not been clustered, use \"100-otus\"\n",
    "│           ├── env-identifiers.tsv # environment identifiers associated with each mock community member\n",
    "│           ├── env-seqs.fasta # environment sequences\n",
    "│           ├── expected-taxonomy.tsv # per-sample taxonomic abundances (species level)\n",
    "│           └── table.L6-taxa.biom # per-sample taxonomic abundances (species level) in biom format\n",
    "            └── source/\n",
    "                ├── abundancy_table # generation of abundancy table\n",
    "                ├── art # fastq simulation\n",
    "                │   ├── single or paired/ # depending on your choice\n",
    "                │   │    ├── read1.fq # simulated reads\n",
    "                │   │    └── fastq/ # simulated fastq reads compressed and with formatted name\n",
    "                └── qiime2\n",
    "                    └── single or paired/ # depending on your choice\n",
    "                        ├── demux.qza\n",
    "                        ├── table.qza\n",
    "                        └── rep_seqs.qza\n",
    "```"
   ]
  },
  {
   "cell_type": "markdown",
   "id": "0bd885a0",
   "metadata": {},
   "source": [
    "# Set up"
   ]
  },
  {
   "cell_type": "code",
   "execution_count": 1,
   "id": "0a30222a",
   "metadata": {},
   "outputs": [],
   "source": [
    "from qiime2 import Artifact\n",
    "from qiime2 import Metadata\n",
    "import qiime2.plugins.metadata.actions as metadata_actions\n",
    "import qiime2.plugins.feature_table.actions as feature_table_actions\n",
    "import qiime2.plugins.taxa.actions as taxa_actions\n",
    "import qiime2.plugins.dada2.actions as dada2_actions\n",
    "\n",
    "import pandas as pd\n",
    "import numpy as np\n",
    "from IPython.display import display\n",
    "import os\n",
    "from os.path import join, basename, dirname, exists, splitext\n",
    "import pickle\n",
    "from Bio import SeqIO\n",
    "\n",
    "from joblib import Parallel, delayed\n",
    "import random\n",
    "import multiprocessing as mp\n",
    "\n",
    "%matplotlib inline\n",
    "%load_ext autoreload\n",
    "\n",
    "# Custom functions\n",
    "import mock_community\n",
    "from utils import check_dir\n",
    "import utils\n",
    "import new_approach\n",
    "import parse_cdhit\n",
    "\n",
    "import networkx as nx\n",
    "import matplotlib as plt\n",
    "from tax_credit import mock_quality\n",
    "\n",
    "import logging"
   ]
  },
  {
   "cell_type": "markdown",
   "id": "b2aae136",
   "metadata": {},
   "source": [
    "Change the below cell according to your needs."
   ]
  },
  {
   "cell_type": "code",
   "execution_count": 2,
   "id": "1a88dcdb",
   "metadata": {},
   "outputs": [],
   "source": [
    "# V region\n",
    "v_regions = ['V4', 'V3-V4']\n",
    "paired = {\n",
    "    'V4' : False,\n",
    "    'V3-V4': True\n",
    "}\n",
    "length_reads = {\n",
    "    'V4' : 200,\n",
    "    'V3-V4': 250\n",
    "}\n",
    "mlength_reads = {\n",
    "    'V4' : 200,\n",
    "    'V3-V4': 450\n",
    "}\n",
    "\n",
    "# Mock-communities\n",
    "mock_names = ['vagimock', 'gutmock']\n",
    "\n",
    "# Working directory\n",
    "pwd = os.getcwd()\n",
    "\n",
    "# Database files\n",
    "created_dir = \"new_approach/created_db\"\n",
    "original_dir = \"new_approach/original_db\"\n",
    "\n",
    "db, db_name, db_version, db_similarity = {},{}, {}, {}\n",
    "db_out_files, abun_tab = {}, {}\n",
    "\n",
    "for v_region in v_regions:\n",
    "    db[v_region] = {f'gsrv_{v_region}':\n",
    "          {'seq':join(created_dir, f'gsrv_{v_region}_seqs.qza'),\n",
    "          'taxa':join(created_dir, f'gsrv_{v_region}_taxa.qza')}\n",
    "    }\n",
    "\n",
    "    ## Database parameters\n",
    "    db_name[v_region] = f'gsrv_{v_region}'\n",
    "    db_version[v_region] = f'gsrv_{v_region}'\n",
    "    db_similarity[v_region] = \"NS-otus\"\n",
    "\n",
    "    ## Database output files\n",
    "    db_out_files[v_region] = {\n",
    "        mocknames: join(mocknames, db_name[v_region], db_version[v_region],\n",
    "                    db_similarity[v_region]) for mocknames in mock_names}\n",
    "\n",
    "    # Input: abundance table\n",
    "    abun_tab[v_region] = { mockname: join(\n",
    "        mockname,'abundance_table', 'expected-taxonomy.tsv'\n",
    "    ) for mockname in mock_names}"
   ]
  },
  {
   "cell_type": "code",
   "execution_count": 3,
   "id": "a3e5d30f",
   "metadata": {},
   "outputs": [],
   "source": [
    "# Generate directory\n",
    "for v_region in v_regions:\n",
    "    for key, outdir in db_out_files[v_region].items():\n",
    "        check_dir(outdir)"
   ]
  },
  {
   "cell_type": "markdown",
   "id": "9f03e6d0",
   "metadata": {},
   "source": [
    "# Simulate environment"
   ]
  },
  {
   "cell_type": "markdown",
   "id": "b46de434",
   "metadata": {},
   "source": [
    "## Gutmock and vagimock"
   ]
  },
  {
   "cell_type": "code",
   "execution_count": 4,
   "id": "95af3d3c",
   "metadata": {},
   "outputs": [],
   "source": [
    "db_unqza, abundance_tabs = {}, {}\n",
    "\n",
    "for v_region in v_regions:\n",
    "    # Choose the decompressed version of the database\n",
    "    db_unqza[v_region] = { key:{\n",
    "        'seq': items['seq'].replace('qza', 'fasta'), \n",
    "        'taxa': items['taxa'].replace('qza', 'txt')\n",
    "    } for key, items in db[v_region].items() }\n",
    "\n",
    "    # Read the abundance_tables for each mock-community\n",
    "    abundance_tabs[v_region] = { mockname : pd.read_csv(\n",
    "        abun_file, sep = \"\\t\", header = 0, index_col = None\n",
    "    ) for mockname, abun_file in abun_tab[v_region].items()}"
   ]
  },
  {
   "cell_type": "markdown",
   "id": "df6f02db",
   "metadata": {},
   "source": [
    "## mockrobiota"
   ]
  },
  {
   "cell_type": "code",
   "execution_count": 3,
   "id": "fc1210c5",
   "metadata": {},
   "outputs": [],
   "source": [
    "db_unqza, abundance_tabs = {}, {}\n",
    "mockrobiota_src = \"mockrobiota/src\"\n",
    "mockrobiota_files = {\n",
    "    'seq': join(mockrobiota_src, \"mockrobiota_seqs.fasta\"),\n",
    "    'taxa': join(mockrobiota_src, \"mockrobiota_taxa.txt\")\n",
    "}\n",
    "\n",
    "feature_tab = {}\n",
    "\n",
    "for v_region in v_regions:\n",
    "    db_unqza[v_region], abundance_tabs[v_region] = {}, {}\n",
    "    # Output directory\n",
    "    db_out_files[v_region]['mockrobiota'] = join(\n",
    "        'mockrobiota', f'mockrobiota_{v_region}', \n",
    "        f'mockrobiota_{v_region}', 'NS-otus')\n",
    "    check_dir(db_out_files[v_region]['mockrobiota'])\n",
    "    \n",
    "    # Add abundance table\n",
    "    abun_tab[v_region]['mockrobiota'] = join(\n",
    "        mockrobiota_src, 'expected-taxonomy.tsv')\n",
    "\n",
    "    # Read the abundance_tables for each mock-community\n",
    "    abundance_tabs[v_region]['mockrobiota'] = pd.read_csv(\n",
    "        abun_tab[v_region]['mockrobiota'], sep = \"\\t\", \n",
    "        header = 0, index_col = None)\n",
    "    \n",
    "    # Read the feature tables  \n",
    "    feature_tab[v_region] = {'mockrobiota': pd.read_csv(\n",
    "        join(mockrobiota_src, \"expected-featuretab.tsv\"), sep = \"\\t\", \n",
    "        header = 0, index_col = 'ID')}\n",
    "    "
   ]
  },
  {
   "cell_type": "code",
   "execution_count": 5,
   "id": "2cc28bf5",
   "metadata": {},
   "outputs": [
    {
     "data": {
      "text/plain": [
       "{'V4': {'vagimock': 'vagimock/gsrv_V4/gsrv_V4/NS-otus',\n",
       "  'gutmock': 'gutmock/gsrv_V4/gsrv_V4/NS-otus',\n",
       "  'mockrobiota': 'mockrobiota/mockrobiota_V4/mockrobiota_V4/NS-otus'},\n",
       " 'V3-V4': {'vagimock': 'vagimock/gsrv_V3-V4/gsrv_V3-V4/NS-otus',\n",
       "  'gutmock': 'gutmock/gsrv_V3-V4/gsrv_V3-V4/NS-otus',\n",
       "  'mockrobiota': 'mockrobiota/mockrobiota_V3-V4/mockrobiota_V3-V4/NS-otus'}}"
      ]
     },
     "execution_count": 5,
     "metadata": {},
     "output_type": "execute_result"
    }
   ],
   "source": [
    "db_out_files"
   ]
  },
  {
   "cell_type": "code",
   "execution_count": 7,
   "id": "8751609c",
   "metadata": {},
   "outputs": [
    {
     "data": {
      "text/plain": [
       "{'V4': {'vagimock': 'vagimock/abundance_table/expected-taxonomy.tsv',\n",
       "  'gutmock': 'gutmock/abundance_table/expected-taxonomy.tsv',\n",
       "  'mockrobiota': 'mockrobiota/src/expected-taxonomy.tsv'},\n",
       " 'V3-V4': {'vagimock': 'vagimock/abundance_table/expected-taxonomy.tsv',\n",
       "  'gutmock': 'gutmock/abundance_table/expected-taxonomy.tsv',\n",
       "  'mockrobiota': 'mockrobiota/src/expected-taxonomy.tsv'}}"
      ]
     },
     "execution_count": 7,
     "metadata": {},
     "output_type": "execute_result"
    }
   ],
   "source": [
    "abun_tab"
   ]
  },
  {
   "cell_type": "markdown",
   "id": "41d9cc4a",
   "metadata": {},
   "source": [
    "### Cut the  Vregions"
   ]
  },
  {
   "cell_type": "code",
   "execution_count": 4,
   "id": "fcc4c13b",
   "metadata": {},
   "outputs": [],
   "source": [
    "v_primers = utils.get_vregion_primers()\n",
    "v_length = utils.get_vregion_lengths()"
   ]
  },
  {
   "cell_type": "code",
   "execution_count": 5,
   "id": "10f19e2f",
   "metadata": {},
   "outputs": [
    {
     "name": "stdout",
     "output_type": "stream",
     "text": [
      "CPU times: user 1.31 s, sys: 381 ms, total: 1.69 s\n",
      "Wall time: 5.34 s\n"
     ]
    }
   ],
   "source": [
    "%%time\n",
    "%autoreload\n",
    "\n",
    "out_seqs_file = {}\n",
    "\n",
    "src_dirout = join(mockrobiota_src, 'extracted_regions')\n",
    "check_dir(src_dirout)\n",
    "\n",
    "for v_region in v_regions:\n",
    "    out_fasta_pref = join(\n",
    "        src_dirout, f'mockrobiota_{v_region}') \n",
    "\n",
    "    out_seqs_file[v_region] = new_approach.extract_region(\n",
    "        seqs = mockrobiota_files['seq'], prefix_db = out_fasta_pref,\n",
    "        f_primer = v_primers[v_region]['f'],\n",
    "        r_primer = v_primers[v_region]['r'],\n",
    "        min_length = v_length[v_region]['min'], \n",
    "        max_length=v_length[v_region]['max'], \n",
    "        threads=30, \n",
    "        force=False, output_formats = ['fasta'])"
   ]
  },
  {
   "cell_type": "markdown",
   "id": "ba335654",
   "metadata": {},
   "source": [
    "### Filter and downloand  "
   ]
  },
  {
   "cell_type": "markdown",
   "id": "a5f2af69",
   "metadata": {},
   "source": [
    "Keep only entries with both sequence and taxonomy information"
   ]
  },
  {
   "cell_type": "code",
   "execution_count": 6,
   "id": "63b61de6",
   "metadata": {},
   "outputs": [
    {
     "name": "stdout",
     "output_type": "stream",
     "text": [
      "13 entries without sequence or taxa information were deleted\n"
     ]
    }
   ],
   "source": [
    "db_mockro = {}\n",
    "\n",
    "\n",
    "for v_region in v_regions:\n",
    "\n",
    "    db_mockro[v_region] = utils.load_db_from_files(\n",
    "        taxa_path = mockrobiota_files['taxa'], \n",
    "        seqs_path = out_seqs_file[v_region]['fasta'])\n",
    "    \n",
    "    taxa_out = join(\n",
    "            src_dirout, f'mockrobiota_{v_region}_taxa.txt')\n",
    "    seqs_out = join(\n",
    "            src_dirout, f'mockrobiota_{v_region}_seqs.fasta')\n",
    "    \n",
    "    utils.download_db_from_dict(\n",
    "        db_mockro[v_region],\n",
    "        taxa_out_file = taxa_out,\n",
    "        seqs_out_file = seqs_out \n",
    "    )\n",
    "    \n",
    "    db_unqza[v_region]['mockrobiota'] = {\n",
    "        'seq': seqs_out, 'taxa':taxa_out }"
   ]
  },
  {
   "cell_type": "markdown",
   "id": "de383e84",
   "metadata": {},
   "source": [
    "## Create the environment for each sample of each mock"
   ]
  },
  {
   "cell_type": "code",
   "execution_count": 38,
   "id": "f51c04e4",
   "metadata": {},
   "outputs": [],
   "source": [
    "# Simulate the environment\n",
    "env_fastas, env_abun_dfs = {}, {}\n",
    "\n",
    "for v_region in v_regions:\n",
    "    env_fastas[v_region] = {}\n",
    "    env_abun_dfs[v_region] = {}\n",
    "    \n",
    "    for key, df in abundance_tabs[v_region].items():\n",
    "        env_f, env_abun = mock_community.simulate_env(\n",
    "            abun_table = df, db = db_unqza[v_region], \n",
    "            db_name = db_name[v_region], \n",
    "            out_dir = db_out_files[v_region][key], force=False)\n",
    "        env_fastas[v_region][key] = env_f\n",
    "        env_abun_dfs[v_region][key] = env_abun"
   ]
  },
  {
   "cell_type": "code",
   "execution_count": 39,
   "id": "3fd989ad",
   "metadata": {},
   "outputs": [
    {
     "data": {
      "text/plain": [
       "{'V4': {'vagimock': {'vagimock00': 'vagimock/gsrv_V4/gsrv_V4/NS-otus/env-seqs_vagimock00.fasta',\n",
       "   'vagimock01': 'vagimock/gsrv_V4/gsrv_V4/NS-otus/env-seqs_vagimock01.fasta',\n",
       "   'vagimock02': 'vagimock/gsrv_V4/gsrv_V4/NS-otus/env-seqs_vagimock02.fasta',\n",
       "   'vagimock03': 'vagimock/gsrv_V4/gsrv_V4/NS-otus/env-seqs_vagimock03.fasta',\n",
       "   'vagimock04': 'vagimock/gsrv_V4/gsrv_V4/NS-otus/env-seqs_vagimock04.fasta'},\n",
       "  'gutmock': {'gutmock00': 'gutmock/gsrv_V4/gsrv_V4/NS-otus/env-seqs_gutmock00.fasta',\n",
       "   'gutmock01': 'gutmock/gsrv_V4/gsrv_V4/NS-otus/env-seqs_gutmock01.fasta',\n",
       "   'gutmock02': 'gutmock/gsrv_V4/gsrv_V4/NS-otus/env-seqs_gutmock02.fasta',\n",
       "   'gutmock03': 'gutmock/gsrv_V4/gsrv_V4/NS-otus/env-seqs_gutmock03.fasta',\n",
       "   'gutmock04': 'gutmock/gsrv_V4/gsrv_V4/NS-otus/env-seqs_gutmock04.fasta'},\n",
       "  'mockrobiota': {'mockrobiota00': 'mockrobiota/mockrobiota_V4/mockrobiota_V4/NS-otus/env-seqs_mockrobiota00.fasta',\n",
       "   'mockrobiota01': 'mockrobiota/mockrobiota_V4/mockrobiota_V4/NS-otus/env-seqs_mockrobiota01.fasta',\n",
       "   'mockrobiota02': 'mockrobiota/mockrobiota_V4/mockrobiota_V4/NS-otus/env-seqs_mockrobiota02.fasta',\n",
       "   'mockrobiota03': 'mockrobiota/mockrobiota_V4/mockrobiota_V4/NS-otus/env-seqs_mockrobiota03.fasta',\n",
       "   'mockrobiota04': 'mockrobiota/mockrobiota_V4/mockrobiota_V4/NS-otus/env-seqs_mockrobiota04.fasta'}},\n",
       " 'V3-V4': {'vagimock': {'vagimock00': 'vagimock/gsrv_V3-V4/gsrv_V3-V4/NS-otus/env-seqs_vagimock00.fasta',\n",
       "   'vagimock01': 'vagimock/gsrv_V3-V4/gsrv_V3-V4/NS-otus/env-seqs_vagimock01.fasta',\n",
       "   'vagimock02': 'vagimock/gsrv_V3-V4/gsrv_V3-V4/NS-otus/env-seqs_vagimock02.fasta',\n",
       "   'vagimock03': 'vagimock/gsrv_V3-V4/gsrv_V3-V4/NS-otus/env-seqs_vagimock03.fasta',\n",
       "   'vagimock04': 'vagimock/gsrv_V3-V4/gsrv_V3-V4/NS-otus/env-seqs_vagimock04.fasta'},\n",
       "  'gutmock': {'gutmock00': 'gutmock/gsrv_V3-V4/gsrv_V3-V4/NS-otus/env-seqs_gutmock00.fasta',\n",
       "   'gutmock01': 'gutmock/gsrv_V3-V4/gsrv_V3-V4/NS-otus/env-seqs_gutmock01.fasta',\n",
       "   'gutmock02': 'gutmock/gsrv_V3-V4/gsrv_V3-V4/NS-otus/env-seqs_gutmock02.fasta',\n",
       "   'gutmock03': 'gutmock/gsrv_V3-V4/gsrv_V3-V4/NS-otus/env-seqs_gutmock03.fasta',\n",
       "   'gutmock04': 'gutmock/gsrv_V3-V4/gsrv_V3-V4/NS-otus/env-seqs_gutmock04.fasta'},\n",
       "  'mockrobiota': {'mockrobiota00': 'mockrobiota/mockrobiota_V3-V4/mockrobiota_V3-V4/NS-otus/env-seqs_mockrobiota00.fasta',\n",
       "   'mockrobiota01': 'mockrobiota/mockrobiota_V3-V4/mockrobiota_V3-V4/NS-otus/env-seqs_mockrobiota01.fasta',\n",
       "   'mockrobiota02': 'mockrobiota/mockrobiota_V3-V4/mockrobiota_V3-V4/NS-otus/env-seqs_mockrobiota02.fasta',\n",
       "   'mockrobiota03': 'mockrobiota/mockrobiota_V3-V4/mockrobiota_V3-V4/NS-otus/env-seqs_mockrobiota03.fasta',\n",
       "   'mockrobiota04': 'mockrobiota/mockrobiota_V3-V4/mockrobiota_V3-V4/NS-otus/env-seqs_mockrobiota04.fasta'}}}"
      ]
     },
     "execution_count": 39,
     "metadata": {},
     "output_type": "execute_result"
    }
   ],
   "source": [
    "env_abun_dfs"
   ]
  },
  {
   "cell_type": "markdown",
   "id": "1bab1696",
   "metadata": {},
   "source": [
    "Glance over the abundancies obtained after creating the environment"
   ]
  },
  {
   "cell_type": "code",
   "execution_count": 40,
   "id": "9bd70f33",
   "metadata": {
    "scrolled": true
   },
   "outputs": [
    {
     "data": {
      "text/html": [
       "<div>\n",
       "<style scoped>\n",
       "    .dataframe tbody tr th:only-of-type {\n",
       "        vertical-align: middle;\n",
       "    }\n",
       "\n",
       "    .dataframe tbody tr th {\n",
       "        vertical-align: top;\n",
       "    }\n",
       "\n",
       "    .dataframe thead th {\n",
       "        text-align: right;\n",
       "    }\n",
       "</style>\n",
       "<table border=\"1\" class=\"dataframe\">\n",
       "  <thead>\n",
       "    <tr style=\"text-align: right;\">\n",
       "      <th></th>\n",
       "      <th>Taxon</th>\n",
       "      <th>vagimock00</th>\n",
       "      <th>vagimock01</th>\n",
       "      <th>vagimock02</th>\n",
       "      <th>vagimock03</th>\n",
       "      <th>vagimock04</th>\n",
       "    </tr>\n",
       "  </thead>\n",
       "  <tbody>\n",
       "    <tr>\n",
       "      <th>6</th>\n",
       "      <td>k__Bacteria; p__Firmicutes; c__Bacilli; o__Lac...</td>\n",
       "      <td>0.0</td>\n",
       "      <td>126.0</td>\n",
       "      <td>1246.0</td>\n",
       "      <td>4470.0</td>\n",
       "      <td>6121.0</td>\n",
       "    </tr>\n",
       "  </tbody>\n",
       "</table>\n",
       "</div>"
      ],
      "text/plain": [
       "                                               Taxon  vagimock00  vagimock01  \\\n",
       "6  k__Bacteria; p__Firmicutes; c__Bacilli; o__Lac...         0.0       126.0   \n",
       "\n",
       "   vagimock02  vagimock03  vagimock04  \n",
       "6      1246.0      4470.0      6121.0  "
      ]
     },
     "metadata": {},
     "output_type": "display_data"
    },
    {
     "data": {
      "text/html": [
       "<div>\n",
       "<style scoped>\n",
       "    .dataframe tbody tr th:only-of-type {\n",
       "        vertical-align: middle;\n",
       "    }\n",
       "\n",
       "    .dataframe tbody tr th {\n",
       "        vertical-align: top;\n",
       "    }\n",
       "\n",
       "    .dataframe thead th {\n",
       "        text-align: right;\n",
       "    }\n",
       "</style>\n",
       "<table border=\"1\" class=\"dataframe\">\n",
       "  <thead>\n",
       "    <tr style=\"text-align: right;\">\n",
       "      <th></th>\n",
       "      <th>Taxon</th>\n",
       "      <th>vagimock00</th>\n",
       "      <th>vagimock01</th>\n",
       "      <th>vagimock02</th>\n",
       "      <th>vagimock03</th>\n",
       "      <th>vagimock04</th>\n",
       "    </tr>\n",
       "  </thead>\n",
       "  <tbody>\n",
       "    <tr>\n",
       "      <th>6</th>\n",
       "      <td>k__Bacteria; p__Firmicutes; c__Bacilli; o__Lac...</td>\n",
       "      <td>0.0</td>\n",
       "      <td>126.0</td>\n",
       "      <td>1246.0</td>\n",
       "      <td>4470.0</td>\n",
       "      <td>6121.0</td>\n",
       "    </tr>\n",
       "  </tbody>\n",
       "</table>\n",
       "</div>"
      ],
      "text/plain": [
       "                                               Taxon  vagimock00  vagimock01  \\\n",
       "6  k__Bacteria; p__Firmicutes; c__Bacilli; o__Lac...         0.0       126.0   \n",
       "\n",
       "   vagimock02  vagimock03  vagimock04  \n",
       "6      1246.0      4470.0      6121.0  "
      ]
     },
     "metadata": {},
     "output_type": "display_data"
    }
   ],
   "source": [
    "for v_region in v_regions:\n",
    "    d = env_abun_dfs[v_region]['vagimock'][\n",
    "        env_abun_dfs[v_region]['vagimock']['Taxon'].str.contains(\n",
    "            \"crispatus\")]\n",
    "    display(d)"
   ]
  },
  {
   "cell_type": "markdown",
   "id": "4470069d",
   "metadata": {},
   "source": [
    "## Create environment samples for mockrobiota"
   ]
  },
  {
   "cell_type": "code",
   "execution_count": 7,
   "id": "9327893a",
   "metadata": {},
   "outputs": [],
   "source": [
    "# simulate environment from a feature table\n",
    "%autoreload\n",
    "env_fastas, env_abun_dfs = {}, {}\n",
    "\n",
    "for v_region in v_regions:\n",
    "    env_fastas[v_region] = {'mockrobiota':{}}\n",
    "    \n",
    "    tab = feature_tab[v_region]['mockrobiota']\n",
    "    env = utils.load_db_from_files(seqs_path = db_unqza[v_region]['mockrobiota']['seq'], \n",
    "                                   taxa_path = db_unqza[v_region]['mockrobiota']['taxa'])\n",
    "    \n",
    "    outdir = db_out_files[v_region]['mockrobiota']\n",
    "    \n",
    "    # donwload env fasta and taxa\n",
    "    env = {ID: item for ID, item in env.items() if ID in tab.index} #filter only included in the samples\n",
    "    \n",
    "    #initialize abundance table\n",
    "    env_abun_tab = pd.DataFrame(index=abundance_tabs['V4']['mockrobiota']['Taxon'])\n",
    "    \n",
    "    \n",
    "    for sample in tab.columns:\n",
    "        # output files\n",
    "        sample_fasta = join(outdir, f\"env-seqs_{sample}.fasta\")\n",
    "        sample_identifiers = join(outdir, f\"env-identifiers_{sample}.tsv\")\n",
    "        \n",
    "        ids = list(tab[tab[sample]==1].index)\n",
    "        sample_env = {ID: item for ID, item in env.items() if ID in ids}\n",
    "        \n",
    "        #download sample fasta\n",
    "        utils.download_db_from_dict(sample_env, seqs_out_file = sample_fasta)\n",
    "        env_fastas[v_region]['mockrobiota'][sample] = sample_fasta\n",
    "        \n",
    "        samp_taxonomies = [utils.join_taxa_lineages(record['taxa']\n",
    "                            ) for ID, record in sample_env.items()]\n",
    "        \n",
    "        # create env-identifiers\n",
    "        env_identifiers = {}\n",
    "        for i in sample_env.keys():\n",
    "            tax = utils.join_taxa_lineages(sample_env[i]['taxa'])\n",
    "            env_identifiers.setdefault(tax, []).append(i)\n",
    "        \n",
    "        # write env-identifiers file\n",
    "        with open(sample_identifiers, 'w') as fh:\n",
    "            fh.write(f\"Taxa\\tAbundance\\tIDs\\n\")\n",
    "            for tax, ids in env_identifiers.items():\n",
    "                id_line = ','.join(ids)\n",
    "                n = len(ids)\n",
    "                fh.write(f\"{tax}\\t{n}\\t{id_line}\\n\")\n",
    "        \n",
    "        # update env_abundance table\n",
    "        abun = pd.Series(samp_taxonomies).value_counts().to_frame(\n",
    "        ).rename(columns={0: sample})\n",
    "        env_abun_tab = env_abun_tab.join(abun, how='outer').fillna(0)\n",
    "    \n",
    "    # download abun_tab\n",
    "    env_abun_tab = env_abun_tab.reset_index().rename(columns = {'index': 'Taxon'})\n",
    "    out_abun_tab = join(outdir, 'env_abundance.tsv')\n",
    "    env_abun_tab.to_csv(out_abun_tab, sep=\"\\t\", index=False)\n",
    "    env_abun_dfs[v_region] = {'mockrobiota': env_abun_tab}"
   ]
  },
  {
   "cell_type": "code",
   "execution_count": 8,
   "id": "f2c0c6b5",
   "metadata": {},
   "outputs": [
    {
     "data": {
      "text/plain": [
       "{'V4': {'mockrobiota': {'mockrobiota00': 'mockrobiota/mockrobiota_V4/mockrobiota_V4/NS-otus/env-seqs_mockrobiota00.fasta',\n",
       "   'mockrobiota01': 'mockrobiota/mockrobiota_V4/mockrobiota_V4/NS-otus/env-seqs_mockrobiota01.fasta',\n",
       "   'mockrobiota02': 'mockrobiota/mockrobiota_V4/mockrobiota_V4/NS-otus/env-seqs_mockrobiota02.fasta',\n",
       "   'mockrobiota03': 'mockrobiota/mockrobiota_V4/mockrobiota_V4/NS-otus/env-seqs_mockrobiota03.fasta',\n",
       "   'mockrobiota04': 'mockrobiota/mockrobiota_V4/mockrobiota_V4/NS-otus/env-seqs_mockrobiota04.fasta'}},\n",
       " 'V3-V4': {'mockrobiota': {'mockrobiota00': 'mockrobiota/mockrobiota_V3-V4/mockrobiota_V3-V4/NS-otus/env-seqs_mockrobiota00.fasta',\n",
       "   'mockrobiota01': 'mockrobiota/mockrobiota_V3-V4/mockrobiota_V3-V4/NS-otus/env-seqs_mockrobiota01.fasta',\n",
       "   'mockrobiota02': 'mockrobiota/mockrobiota_V3-V4/mockrobiota_V3-V4/NS-otus/env-seqs_mockrobiota02.fasta',\n",
       "   'mockrobiota03': 'mockrobiota/mockrobiota_V3-V4/mockrobiota_V3-V4/NS-otus/env-seqs_mockrobiota03.fasta',\n",
       "   'mockrobiota04': 'mockrobiota/mockrobiota_V3-V4/mockrobiota_V3-V4/NS-otus/env-seqs_mockrobiota04.fasta'}}}"
      ]
     },
     "execution_count": 8,
     "metadata": {},
     "output_type": "execute_result"
    }
   ],
   "source": [
    "env_fastas"
   ]
  },
  {
   "cell_type": "markdown",
   "id": "21efad1b",
   "metadata": {},
   "source": [
    "# Generate simulate reads: ART"
   ]
  },
  {
   "cell_type": "markdown",
   "id": "7110aaee",
   "metadata": {},
   "source": [
    "Simulate Miseq Illumina Reads with art simulation tools. The function of amplicon simulation is used.\n",
    "\n",
    "More information [here](https://www.niehs.nih.gov/research/resources/software/biostatistics/art/index.cfm)."
   ]
  },
  {
   "cell_type": "code",
   "execution_count": 11,
   "id": "bf61d12d",
   "metadata": {},
   "outputs": [
    {
     "name": "stdout",
     "output_type": "stream",
     "text": [
      "\n",
      "    ====================ART====================\n",
      "             ART_Illumina (2008-2016)          \n",
      "          Q Version 2.5.8 (June 7, 2016)       \n",
      "     Contact: Weichun Huang <whduke@gmail.com> \n",
      "    -------------------------------------------\n",
      "\n",
      "              Amplicon 5'-end sequencing simulation\n",
      "\n",
      "Total CPU time used: 0.02\n",
      "\n",
      "The random seed for the run: 123\n",
      "\n",
      "Parameters used during run\n",
      "\tRead Length:\t200\n",
      "\t'N' genomic regions masking turned off\n",
      "\t# Reads per Amplion:       0\n",
      "\tProfile Type:             Combined\n",
      "\tID Tag:                   \n",
      "\n",
      "Quality Profile(s)\n",
      "\tFirst Read:   MiSeq v1 Length 250 R1 (built-in profile) \n",
      "\n",
      "Output files\n",
      "\n",
      "  FASTQ Sequence File:\n",
      "\tmockrobiota/mockrobiota_V4/mockrobiota_V4/NS-otus/source/art/single/mockrobiota00S01_sample_L001_R1.fq\n",
      "\n",
      "\n",
      "    ====================ART====================\n",
      "             ART_Illumina (2008-2016)          \n",
      "          Q Version 2.5.8 (June 7, 2016)       \n",
      "     Contact: Weichun Huang <whduke@gmail.com> \n",
      "    -------------------------------------------\n",
      "\n",
      "              Amplicon 5'-end sequencing simulation\n",
      "\n",
      "Total CPU time used: 0.02\n",
      "\n",
      "The random seed for the run: 123\n",
      "\n",
      "Parameters used during run\n",
      "\tRead Length:\t200\n",
      "\t'N' genomic regions masking turned off\n",
      "\t# Reads per Amplion:       0\n",
      "\tProfile Type:             Combined\n",
      "\tID Tag:                   \n",
      "\n",
      "Quality Profile(s)\n",
      "\tFirst Read:   MiSeq v1 Length 250 R1 (built-in profile) \n",
      "\n",
      "Output files\n",
      "\n",
      "  FASTQ Sequence File:\n",
      "\tmockrobiota/mockrobiota_V4/mockrobiota_V4/NS-otus/source/art/single/mockrobiota01S01_sample_L001_R1.fq\n",
      "\n",
      "\n",
      "    ====================ART====================\n",
      "             ART_Illumina (2008-2016)          \n",
      "          Q Version 2.5.8 (June 7, 2016)       \n",
      "     Contact: Weichun Huang <whduke@gmail.com> \n",
      "    -------------------------------------------\n",
      "\n",
      "              Amplicon 5'-end sequencing simulation\n",
      "\n",
      "Total CPU time used: 0.02\n",
      "\n",
      "The random seed for the run: 123\n",
      "\n",
      "Parameters used during run\n",
      "\tRead Length:\t200\n",
      "\t'N' genomic regions masking turned off\n",
      "\t# Reads per Amplion:       0\n",
      "\tProfile Type:             Combined\n",
      "\tID Tag:                   \n",
      "\n",
      "Quality Profile(s)\n",
      "\tFirst Read:   MiSeq v1 Length 250 R1 (built-in profile) \n",
      "\n",
      "Output files\n",
      "\n",
      "  FASTQ Sequence File:\n",
      "\tmockrobiota/mockrobiota_V4/mockrobiota_V4/NS-otus/source/art/single/mockrobiota02S01_sample_L001_R1.fq\n",
      "\n",
      "\n",
      "    ====================ART====================\n",
      "             ART_Illumina (2008-2016)          \n",
      "          Q Version 2.5.8 (June 7, 2016)       \n",
      "     Contact: Weichun Huang <whduke@gmail.com> \n",
      "    -------------------------------------------\n",
      "\n"
     ]
    },
    {
     "name": "stderr",
     "output_type": "stream",
     "text": [
      "Warning: your simulation will not output any ALN or SAM file with your parameter settings!\n",
      "Warning: your simulation will not output any ALN or SAM file with your parameter settings!\n",
      "Warning: your simulation will not output any ALN or SAM file with your parameter settings!\n",
      "Warning: your simulation will not output any ALN or SAM file with your parameter settings!\n"
     ]
    },
    {
     "name": "stdout",
     "output_type": "stream",
     "text": [
      "              Amplicon 5'-end sequencing simulation\n",
      "\n",
      "Total CPU time used: 0.03\n",
      "\n",
      "The random seed for the run: 123\n",
      "\n",
      "Parameters used during run\n",
      "\tRead Length:\t200\n",
      "\t'N' genomic regions masking turned off\n",
      "\t# Reads per Amplion:       0\n",
      "\tProfile Type:             Combined\n",
      "\tID Tag:                   \n",
      "\n",
      "Quality Profile(s)\n",
      "\tFirst Read:   MiSeq v1 Length 250 R1 (built-in profile) \n",
      "\n",
      "Output files\n",
      "\n",
      "  FASTQ Sequence File:\n",
      "\tmockrobiota/mockrobiota_V4/mockrobiota_V4/NS-otus/source/art/single/mockrobiota03S01_sample_L001_R1.fq\n",
      "\n",
      "\n",
      "    ====================ART====================\n",
      "             ART_Illumina (2008-2016)          \n",
      "          Q Version 2.5.8 (June 7, 2016)       \n",
      "     Contact: Weichun Huang <whduke@gmail.com> \n",
      "    -------------------------------------------\n",
      "\n",
      "              Amplicon 5'-end sequencing simulation\n",
      "\n",
      "Total CPU time used: 0.02\n",
      "\n",
      "The random seed for the run: 123\n",
      "\n",
      "Parameters used during run\n",
      "\tRead Length:\t200\n",
      "\t'N' genomic regions masking turned off\n",
      "\t# Reads per Amplion:       0\n",
      "\tProfile Type:             Combined\n",
      "\tID Tag:                   \n",
      "\n",
      "Quality Profile(s)\n",
      "\tFirst Read:   MiSeq v1 Length 250 R1 (built-in profile) \n",
      "\n",
      "Output files\n",
      "\n",
      "  FASTQ Sequence File:\n",
      "\tmockrobiota/mockrobiota_V4/mockrobiota_V4/NS-otus/source/art/single/mockrobiota04S01_sample_L001_R1.fq\n",
      "\n",
      "\n",
      "    ====================ART====================\n",
      "             ART_Illumina (2008-2016)          \n",
      "          Q Version 2.5.8 (June 7, 2016)       \n",
      "     Contact: Weichun Huang <whduke@gmail.com> \n",
      "    -------------------------------------------\n",
      "\n",
      "             Amplicon paired-end sequencing simulation\n",
      "\n",
      "Total CPU time used: 0.05\n",
      "\n",
      "The random seed for the run: 123\n",
      "\n",
      "Parameters used during run\n",
      "\tRead Length:\t250\n",
      "\t'N' genomic regions masking turned off\n",
      "\t# Read Pairs per Amplion:  0\n",
      "\tProfile Type:             Combined\n",
      "\tID Tag:                   \n",
      "\n",
      "Quality Profile(s)\n",
      "\tFirst Read:   MiSeq v1 Length 250 R1 (built-in profile) \n",
      "\tFirst Read:   MiSeq v1 Length 250 R2 (built-in profile) \n",
      "\n",
      "Output files\n",
      "\n",
      "  FASTQ Sequence Files:\n",
      "\t the 1st reads: mockrobiota/mockrobiota_V3-V4/mockrobiota_V3-V4/NS-otus/source/art/paired/mockrobiota00S01_sample_L001_R1.fq\n",
      "\t the 2nd reads: mockrobiota/mockrobiota_V3-V4/mockrobiota_V3-V4/NS-otus/source/art/paired/mockrobiota00S01_sample_L001_R2.fq\n",
      "\n"
     ]
    },
    {
     "name": "stderr",
     "output_type": "stream",
     "text": [
      "Warning: your simulation will not output any ALN or SAM file with your parameter settings!\n",
      "Warning: your simulation will not output any ALN or SAM file with your parameter settings!\n",
      "Warning: your simulation will not output any ALN or SAM file with your parameter settings!\n"
     ]
    },
    {
     "name": "stdout",
     "output_type": "stream",
     "text": [
      "\n",
      "    ====================ART====================\n",
      "             ART_Illumina (2008-2016)          \n",
      "          Q Version 2.5.8 (June 7, 2016)       \n",
      "     Contact: Weichun Huang <whduke@gmail.com> \n",
      "    -------------------------------------------\n",
      "\n",
      "             Amplicon paired-end sequencing simulation\n",
      "\n",
      "Total CPU time used: 0.04\n",
      "\n",
      "The random seed for the run: 123\n",
      "\n",
      "Parameters used during run\n",
      "\tRead Length:\t250\n",
      "\t'N' genomic regions masking turned off\n",
      "\t# Read Pairs per Amplion:  0\n",
      "\tProfile Type:             Combined\n",
      "\tID Tag:                   \n",
      "\n",
      "Quality Profile(s)\n",
      "\tFirst Read:   MiSeq v1 Length 250 R1 (built-in profile) \n",
      "\tFirst Read:   MiSeq v1 Length 250 R2 (built-in profile) \n",
      "\n",
      "Output files\n",
      "\n",
      "  FASTQ Sequence Files:\n",
      "\t the 1st reads: mockrobiota/mockrobiota_V3-V4/mockrobiota_V3-V4/NS-otus/source/art/paired/mockrobiota01S01_sample_L001_R1.fq\n",
      "\t the 2nd reads: mockrobiota/mockrobiota_V3-V4/mockrobiota_V3-V4/NS-otus/source/art/paired/mockrobiota01S01_sample_L001_R2.fq\n",
      "\n",
      "\n",
      "    ====================ART====================\n",
      "             ART_Illumina (2008-2016)          \n",
      "          Q Version 2.5.8 (June 7, 2016)       \n",
      "     Contact: Weichun Huang <whduke@gmail.com> \n",
      "    -------------------------------------------\n",
      "\n"
     ]
    },
    {
     "name": "stderr",
     "output_type": "stream",
     "text": [
      "Warning: your simulation will not output any ALN or SAM file with your parameter settings!\n",
      "Warning: your simulation will not output any ALN or SAM file with your parameter settings!\n"
     ]
    },
    {
     "name": "stdout",
     "output_type": "stream",
     "text": [
      "             Amplicon paired-end sequencing simulation\n",
      "\n",
      "Total CPU time used: 0.05\n",
      "\n",
      "The random seed for the run: 123\n",
      "\n",
      "Parameters used during run\n",
      "\tRead Length:\t250\n",
      "\t'N' genomic regions masking turned off\n",
      "\t# Read Pairs per Amplion:  0\n",
      "\tProfile Type:             Combined\n",
      "\tID Tag:                   \n",
      "\n",
      "Quality Profile(s)\n",
      "\tFirst Read:   MiSeq v1 Length 250 R1 (built-in profile) \n",
      "\tFirst Read:   MiSeq v1 Length 250 R2 (built-in profile) \n",
      "\n",
      "Output files\n",
      "\n",
      "  FASTQ Sequence Files:\n",
      "\t the 1st reads: mockrobiota/mockrobiota_V3-V4/mockrobiota_V3-V4/NS-otus/source/art/paired/mockrobiota02S01_sample_L001_R1.fq\n",
      "\t the 2nd reads: mockrobiota/mockrobiota_V3-V4/mockrobiota_V3-V4/NS-otus/source/art/paired/mockrobiota02S01_sample_L001_R2.fq\n",
      "\n",
      "\n",
      "    ====================ART====================\n",
      "             ART_Illumina (2008-2016)          \n",
      "          Q Version 2.5.8 (June 7, 2016)       \n",
      "     Contact: Weichun Huang <whduke@gmail.com> \n",
      "    -------------------------------------------\n",
      "\n",
      "             Amplicon paired-end sequencing simulation\n",
      "\n",
      "Total CPU time used: 0.04\n",
      "\n",
      "The random seed for the run: 123\n",
      "\n",
      "Parameters used during run\n",
      "\tRead Length:\t250\n",
      "\t'N' genomic regions masking turned off\n",
      "\t# Read Pairs per Amplion:  0\n",
      "\tProfile Type:             Combined\n",
      "\tID Tag:                   \n",
      "\n",
      "Quality Profile(s)\n",
      "\tFirst Read:   MiSeq v1 Length 250 R1 (built-in profile) \n",
      "\tFirst Read:   MiSeq v1 Length 250 R2 (built-in profile) \n",
      "\n",
      "Output files\n",
      "\n",
      "  FASTQ Sequence Files:\n",
      "\t the 1st reads: mockrobiota/mockrobiota_V3-V4/mockrobiota_V3-V4/NS-otus/source/art/paired/mockrobiota03S01_sample_L001_R1.fq\n",
      "\t the 2nd reads: mockrobiota/mockrobiota_V3-V4/mockrobiota_V3-V4/NS-otus/source/art/paired/mockrobiota03S01_sample_L001_R2.fq\n",
      "\n",
      "\n",
      "    ====================ART====================\n",
      "             ART_Illumina (2008-2016)          \n",
      "          Q Version 2.5.8 (June 7, 2016)       \n",
      "     Contact: Weichun Huang <whduke@gmail.com> \n",
      "    -------------------------------------------\n",
      "\n",
      "             Amplicon paired-end sequencing simulation\n",
      "\n",
      "Total CPU time used: 0.04\n",
      "\n",
      "The random seed for the run: 123\n",
      "\n",
      "Parameters used during run\n",
      "\tRead Length:\t250\n",
      "\t'N' genomic regions masking turned off\n",
      "\t# Read Pairs per Amplion:  0\n",
      "\tProfile Type:             Combined\n",
      "\tID Tag:                   \n",
      "\n",
      "Quality Profile(s)\n",
      "\tFirst Read:   MiSeq v1 Length 250 R1 (built-in profile) \n",
      "\tFirst Read:   MiSeq v1 Length 250 R2 (built-in profile) \n",
      "\n",
      "Output files\n",
      "\n",
      "  FASTQ Sequence Files:\n",
      "\t the 1st reads: mockrobiota/mockrobiota_V3-V4/mockrobiota_V3-V4/NS-otus/source/art/paired/mockrobiota04S01_sample_L001_R1.fq\n",
      "\t the 2nd reads: mockrobiota/mockrobiota_V3-V4/mockrobiota_V3-V4/NS-otus/source/art/paired/mockrobiota04S01_sample_L001_R2.fq\n",
      "\n"
     ]
    },
    {
     "name": "stderr",
     "output_type": "stream",
     "text": [
      "Warning: your simulation will not output any ALN or SAM file with your parameter settings!\n"
     ]
    }
   ],
   "source": [
    "%autoreload\n",
    "art_path = \"programs/artbinmountrainier2016.06.05linux64/art_bin_MountRainier/\"\n",
    "art_out_prefixs = {}\n",
    "\n",
    "for v_region in v_regions:\n",
    "    art_out_prefixs[v_region] = {}\n",
    "    \n",
    "    for key, val in env_fastas[v_region].items():\n",
    "        art_out_prefixs[v_region][key] = {}\n",
    "\n",
    "\n",
    "        for sample, path_fasta in val.items():\n",
    "            dir_out = dirname(path_fasta)\n",
    "            # Run simulation\n",
    "            art_out = mock_community.art_simulation(\n",
    "                input_fasta = path_fasta, output_prefix = sample,\n",
    "                dir_out = join(dir_out, \"source/art/\"), \n",
    "                seq_method = \"MSv1\", length = length_reads[v_region],\n",
    "                mlen = mlength_reads[v_region],\n",
    "                count = 1, n_samples = 1, paired = paired[v_region], \n",
    "                seed=123, force=True, art_path = art_path)\n",
    "\n",
    "            art_out_prefixs[v_region][key][sample] = art_out"
   ]
  },
  {
   "cell_type": "code",
   "execution_count": 12,
   "id": "54b73e31",
   "metadata": {},
   "outputs": [
    {
     "data": {
      "text/plain": [
       "{'V4': {'mockrobiota': {'mockrobiota00': ['mockrobiota/mockrobiota_V4/mockrobiota_V4/NS-otus/source/art/single/mockrobiota00S01_sample_L001_R1.fq'],\n",
       "   'mockrobiota01': ['mockrobiota/mockrobiota_V4/mockrobiota_V4/NS-otus/source/art/single/mockrobiota01S01_sample_L001_R1.fq'],\n",
       "   'mockrobiota02': ['mockrobiota/mockrobiota_V4/mockrobiota_V4/NS-otus/source/art/single/mockrobiota02S01_sample_L001_R1.fq'],\n",
       "   'mockrobiota03': ['mockrobiota/mockrobiota_V4/mockrobiota_V4/NS-otus/source/art/single/mockrobiota03S01_sample_L001_R1.fq'],\n",
       "   'mockrobiota04': ['mockrobiota/mockrobiota_V4/mockrobiota_V4/NS-otus/source/art/single/mockrobiota04S01_sample_L001_R1.fq']}},\n",
       " 'V3-V4': {'mockrobiota': {'mockrobiota00': ['mockrobiota/mockrobiota_V3-V4/mockrobiota_V3-V4/NS-otus/source/art/paired/mockrobiota00S01_sample_L001_R.fq'],\n",
       "   'mockrobiota01': ['mockrobiota/mockrobiota_V3-V4/mockrobiota_V3-V4/NS-otus/source/art/paired/mockrobiota01S01_sample_L001_R.fq'],\n",
       "   'mockrobiota02': ['mockrobiota/mockrobiota_V3-V4/mockrobiota_V3-V4/NS-otus/source/art/paired/mockrobiota02S01_sample_L001_R.fq'],\n",
       "   'mockrobiota03': ['mockrobiota/mockrobiota_V3-V4/mockrobiota_V3-V4/NS-otus/source/art/paired/mockrobiota03S01_sample_L001_R.fq'],\n",
       "   'mockrobiota04': ['mockrobiota/mockrobiota_V3-V4/mockrobiota_V3-V4/NS-otus/source/art/paired/mockrobiota04S01_sample_L001_R.fq']}}}"
      ]
     },
     "execution_count": 12,
     "metadata": {},
     "output_type": "execute_result"
    }
   ],
   "source": [
    "art_out_prefixs"
   ]
  },
  {
   "cell_type": "markdown",
   "id": "3260d760",
   "metadata": {},
   "source": [
    "Now, we are going to compress and change name of fastq files from art simulation tools.\n",
    "\n",
    "In this case, there is one fastq file for each sample (Casava 1.8 format). \n",
    "\n",
    "The file name will include the sample identifier and should look like vagi_mock01_sample_L001_R1_001.fastq.gz. The underscore-separated fields in this file name are:\n",
    "\n",
    "- mock01: the sample identifier (variable),\n",
    "- sample: the barcode sequence or a barcode identifier (constant),\n",
    "- L001  : the lane number (constant),\n",
    "- R1    : the direction of the read (e.g. only R1, because these are single-end reads), and\n",
    "- 001   : the set number (constant).\n",
    "\n",
    "Find more info [here](https://docs.qiime2.org/2022.8/tutorials/importing/)"
   ]
  },
  {
   "cell_type": "code",
   "execution_count": 13,
   "id": "5faa972a",
   "metadata": {},
   "outputs": [],
   "source": [
    "fq_out_dirs = {}\n",
    "\n",
    "for v_region in v_regions:\n",
    "    fq_out_dirs[v_region] = {}\n",
    "    # Compress and change fq names to adapt to Qiime input\n",
    "    for key, val in art_out_prefixs[v_region].items():\n",
    "        for sample, path in val.items():\n",
    "            fq_out_name = [\n",
    "                mock_community.adapt_art_output_to_qiime(\n",
    "                    item, paired = paired[v_region], force=True) for item in path]\n",
    "\n",
    "        fq_out_dirs[v_region][key] = dirname(fq_out_name[0])"
   ]
  },
  {
   "cell_type": "code",
   "execution_count": 14,
   "id": "a8376d01",
   "metadata": {},
   "outputs": [
    {
     "data": {
      "text/plain": [
       "{'V4': {'mockrobiota': 'mockrobiota/mockrobiota_V4/mockrobiota_V4/NS-otus/source/art/single/fastq'},\n",
       " 'V3-V4': {'mockrobiota': 'mockrobiota/mockrobiota_V3-V4/mockrobiota_V3-V4/NS-otus/source/art/paired/fastq'}}"
      ]
     },
     "execution_count": 14,
     "metadata": {},
     "output_type": "execute_result"
    }
   ],
   "source": [
    "fq_out_dirs"
   ]
  },
  {
   "cell_type": "markdown",
   "id": "905fc078",
   "metadata": {
    "heading_collapsed": true
   },
   "source": [
    "# Qiime Processing"
   ]
  },
  {
   "cell_type": "markdown",
   "id": "a945aabf",
   "metadata": {
    "hidden": true
   },
   "source": [
    "## Demultiplex\n",
    "Demultiplex samples generated with art simulation tools. [Source](https://docs.qiime2.org/2022.8/tutorials/moving-pictures-usage/)"
   ]
  },
  {
   "cell_type": "code",
   "execution_count": 15,
   "id": "b051a801",
   "metadata": {
    "hidden": true
   },
   "outputs": [
    {
     "name": "stdout",
     "output_type": "stream",
     "text": [
      "qiime tools import --type SampleData[SequencesWithQuality] --input-path mockrobiota/mockrobiota_V4/mockrobiota_V4/NS-otus/source/art/single/fastq --input-format CasavaOneEightSingleLanePerSampleDirFmt --output-path mockrobiota/mockrobiota_V4/mockrobiota_V4/NS-otus/source/qiime2/single/demux-single-end.qza\n",
      "\n",
      "Imported mockrobiota/mockrobiota_V4/mockrobiota_V4/NS-otus/source/art/single/fastq as CasavaOneEightSingleLanePerSampleDirFmt to mockrobiota/mockrobiota_V4/mockrobiota_V4/NS-otus/source/qiime2/single/demux-single-end.qza\n",
      "qiime tools import --type SampleData[PairedEndSequencesWithQuality] --input-path mockrobiota/mockrobiota_V3-V4/mockrobiota_V3-V4/NS-otus/source/art/paired/fastq --input-format CasavaOneEightSingleLanePerSampleDirFmt --output-path mockrobiota/mockrobiota_V3-V4/mockrobiota_V3-V4/NS-otus/source/qiime2/paired/demux-paired-end.qza\n",
      "\n",
      "Imported mockrobiota/mockrobiota_V3-V4/mockrobiota_V3-V4/NS-otus/source/art/paired/fastq as CasavaOneEightSingleLanePerSampleDirFmt to mockrobiota/mockrobiota_V3-V4/mockrobiota_V3-V4/NS-otus/source/qiime2/paired/demux-paired-end.qza\n"
     ]
    },
    {
     "data": {
      "text/plain": [
       "<Figure size 432x288 with 0 Axes>"
      ]
     },
     "metadata": {},
     "output_type": "display_data"
    }
   ],
   "source": [
    "demultiplex = {}\n",
    "\n",
    "for v_region in v_regions:\n",
    "    demultiplex[v_region] = {}\n",
    "\n",
    "    for key, fq_out_dir in fq_out_dirs[v_region].items():\n",
    "        out_dir = db_out_files[v_region][key]\n",
    "        demux, demux_viz, qiime_out = mock_community.qiime_demultiplex(\n",
    "            out_dir = join(out_dir, f\"source/qiime2/\"), \n",
    "            fq_out_dir=fq_out_dir, paired=paired[v_region], force=True)\n",
    "        demultiplex[v_region][key] = [demux, demux_viz, qiime_out]"
   ]
  },
  {
   "cell_type": "markdown",
   "id": "fd074c6f",
   "metadata": {
    "hidden": true
   },
   "source": [
    "After demultiplexing, it’s useful to generate a summary of the demultiplexing results. This allows you to determine how many sequences were obtained per sample, and also to get a summary of the distribution of sequence qualities at each position in your sequence data."
   ]
  },
  {
   "cell_type": "code",
   "execution_count": 16,
   "id": "9f1e6f89",
   "metadata": {
    "hidden": true
   },
   "outputs": [
    {
     "name": "stdout",
     "output_type": "stream",
     "text": [
      "### V4 region\n"
     ]
    },
    {
     "data": {
      "text/html": [
       "<div><img onload=\"(function(div, url){\n",
       "if (typeof require !== 'undefined') {\n",
       "    var baseURL = require.toUrl('').split('/').slice(0, -2).join('/');\n",
       "} else {\n",
       "    var baseURL = JSON.parse(\n",
       "        document.getElementById('jupyter-config-data').innerHTML\n",
       "    ).baseUrl.slice(0, -1);\n",
       "}\n",
       "url = baseURL + url;\n",
       "fetch(url).then(function(res) {\n",
       "    if (res.status === 404) {\n",
       "        div.innerHTML = 'Install QIIME 2 Jupyter extension with:<br />' +\n",
       "                        '<code>jupyter serverextension enable --py qiime2' +\n",
       "                        ' --sys-prefix</code><br />then restart your server.' +\n",
       "                        '<br /><br />(Interactive output not available on ' +\n",
       "                        'static notebook viewer services like nbviewer.)';\n",
       "    } else if (res.status === 409) {\n",
       "        div.innerHTML = 'Visualization no longer in scope. Re-run this cell' +\n",
       "                        ' to see the visualization.';\n",
       "    } else if (res.ok) {\n",
       "        url = res.url;\n",
       "        div.innerHTML = '<iframe src=\\'' + url + '\\' style=\\'' +\n",
       "                        'width: 100%; height: 700px; border: 0;\\'>' +\n",
       "                        '</iframe><hr />Open in a: <a href=\\'' + url + '\\'' +\n",
       "                        ' target=\\'_blank\\'>new window</a>'\n",
       "    } else {\n",
       "        div.innerHTML = 'Something has gone wrong. Check notebook server for' +\n",
       "                        ' errors.';\n",
       "    }\n",
       "});\n",
       "})(this.parentElement, '/qiime2/redirect?location=/tmp/qiime2-archive-f5vo0jmb')\" src=\"data:image/gif;base64,R0lGODlhAQABAIAAAP///wAAACH5BAEAAAAALAAAAAABAAEAAAICRAEAOw==\" /></div>"
      ],
      "text/plain": [
       "<visualization: Visualization uuid: 85a1f7af-f9b3-4318-8a49-f3b132a78f84>"
      ]
     },
     "metadata": {},
     "output_type": "display_data"
    },
    {
     "name": "stdout",
     "output_type": "stream",
     "text": [
      "### V3-V4 region\n"
     ]
    },
    {
     "data": {
      "text/html": [
       "<div><img onload=\"(function(div, url){\n",
       "if (typeof require !== 'undefined') {\n",
       "    var baseURL = require.toUrl('').split('/').slice(0, -2).join('/');\n",
       "} else {\n",
       "    var baseURL = JSON.parse(\n",
       "        document.getElementById('jupyter-config-data').innerHTML\n",
       "    ).baseUrl.slice(0, -1);\n",
       "}\n",
       "url = baseURL + url;\n",
       "fetch(url).then(function(res) {\n",
       "    if (res.status === 404) {\n",
       "        div.innerHTML = 'Install QIIME 2 Jupyter extension with:<br />' +\n",
       "                        '<code>jupyter serverextension enable --py qiime2' +\n",
       "                        ' --sys-prefix</code><br />then restart your server.' +\n",
       "                        '<br /><br />(Interactive output not available on ' +\n",
       "                        'static notebook viewer services like nbviewer.)';\n",
       "    } else if (res.status === 409) {\n",
       "        div.innerHTML = 'Visualization no longer in scope. Re-run this cell' +\n",
       "                        ' to see the visualization.';\n",
       "    } else if (res.ok) {\n",
       "        url = res.url;\n",
       "        div.innerHTML = '<iframe src=\\'' + url + '\\' style=\\'' +\n",
       "                        'width: 100%; height: 700px; border: 0;\\'>' +\n",
       "                        '</iframe><hr />Open in a: <a href=\\'' + url + '\\'' +\n",
       "                        ' target=\\'_blank\\'>new window</a>'\n",
       "    } else {\n",
       "        div.innerHTML = 'Something has gone wrong. Check notebook server for' +\n",
       "                        ' errors.';\n",
       "    }\n",
       "});\n",
       "})(this.parentElement, '/qiime2/redirect?location=/tmp/qiime2-archive-mcemm032')\" src=\"data:image/gif;base64,R0lGODlhAQABAIAAAP///wAAACH5BAEAAAAALAAAAAABAAEAAAICRAEAOw==\" /></div>"
      ],
      "text/plain": [
       "<visualization: Visualization uuid: ae8db9db-6c1e-4189-bfaa-228786585477>"
      ]
     },
     "metadata": {},
     "output_type": "display_data"
    }
   ],
   "source": [
    "for v_region in v_regions:\n",
    "    print(f\"### {v_region} region\")\n",
    "    for key, items in demultiplex[v_region].items():\n",
    "        demux_viz = items[1]\n",
    "        display(demux_viz)"
   ]
  },
  {
   "cell_type": "code",
   "execution_count": 17,
   "id": "f39b5165",
   "metadata": {
    "hidden": true
   },
   "outputs": [
    {
     "data": {
      "text/plain": [
       "{'V4': {'mockrobiota': [<artifact: SampleData[SequencesWithQuality] uuid: 18016d83-6486-450c-b00f-785cdc2912c9>,\n",
       "   <visualization: Visualization uuid: 85a1f7af-f9b3-4318-8a49-f3b132a78f84>,\n",
       "   'mockrobiota/mockrobiota_V4/mockrobiota_V4/NS-otus/source/qiime2/single/']},\n",
       " 'V3-V4': {'mockrobiota': [<artifact: SampleData[PairedEndSequencesWithQuality] uuid: ccda3bbf-8015-4a04-87c2-6d5f43fbc4d9>,\n",
       "   <visualization: Visualization uuid: ae8db9db-6c1e-4189-bfaa-228786585477>,\n",
       "   'mockrobiota/mockrobiota_V3-V4/mockrobiota_V3-V4/NS-otus/source/qiime2/paired/']}}"
      ]
     },
     "execution_count": 17,
     "metadata": {},
     "output_type": "execute_result"
    }
   ],
   "source": [
    "demultiplex"
   ]
  },
  {
   "cell_type": "markdown",
   "id": "f371fb21",
   "metadata": {
    "hidden": true
   },
   "source": [
    "## Sequence quality control and feature table construction"
   ]
  },
  {
   "cell_type": "code",
   "execution_count": 18,
   "id": "891ac7cc",
   "metadata": {
    "hidden": true
   },
   "outputs": [
    {
     "name": "stdout",
     "output_type": "stream",
     "text": [
      "\n",
      "### mockrobiota - V4 \n",
      "\n",
      "Running external command line application(s). This may print messages to stdout and/or stderr.\n",
      "The command(s) being run are below. These commands cannot be manually re-run as they will depend on temporary files that no longer exist.\n",
      "\n",
      "Command: run_dada_single.R /tmp/qiime2-archive-elgsjswh/18016d83-6486-450c-b00f-785cdc2912c9/data /tmp/tmpbry52nva/output.tsv.biom /tmp/tmpbry52nva/track.tsv /tmp/tmpbry52nva 0 0 2.0 2 Inf independent consensus 1.0 30 1000000 NULL 16\n",
      "\n",
      "R version 4.1.3 (2022-03-10) \n"
     ]
    },
    {
     "name": "stderr",
     "output_type": "stream",
     "text": [
      "Loading required package: Rcpp\n"
     ]
    },
    {
     "name": "stdout",
     "output_type": "stream",
     "text": [
      "DADA2: 1.22.0 / Rcpp: 1.0.8.3 / RcppParallel: 5.1.5 \n",
      "1) Filtering .....\n",
      "2) Learning Error Rates\n",
      "2e+05 total bases in 1000 reads from 5 samples will be used for learning the error rates.\n",
      "3) Denoise samples .....\n",
      "4) Remove chimeras (method = consensus)\n",
      "5) Report read numbers through the pipeline\n",
      "6) Write output\n",
      "\n",
      "### mockrobiota - V3-V4 \n",
      "\n",
      "Running external command line application(s). This may print messages to stdout and/or stderr.\n",
      "The command(s) being run are below. These commands cannot be manually re-run as they will depend on temporary files that no longer exist.\n",
      "\n",
      "Command: run_dada_paired.R /tmp/tmp0ya4fagl/forward /tmp/tmp0ya4fagl/reverse /tmp/tmp0ya4fagl/output.tsv.biom /tmp/tmp0ya4fagl/track.tsv /tmp/tmp0ya4fagl/filt_f /tmp/tmp0ya4fagl/filt_r 0 0 0 0 2.0 2.0 2 12 independent consensus 1.0 30 1000000\n",
      "\n",
      "R version 4.1.3 (2022-03-10) \n"
     ]
    },
    {
     "name": "stderr",
     "output_type": "stream",
     "text": [
      "Loading required package: Rcpp\n"
     ]
    },
    {
     "name": "stdout",
     "output_type": "stream",
     "text": [
      "DADA2: 1.22.0 / Rcpp: 1.0.8.3 / RcppParallel: 5.1.5 \n",
      "1) Filtering .....\n",
      "2) Learning Error Rates\n",
      "240250 total bases in 961 reads from 5 samples will be used for learning the error rates.\n",
      "240250 total bases in 961 reads from 5 samples will be used for learning the error rates.\n",
      "3) Denoise samples .....\n",
      ".....\n",
      "4) Remove chimeras (method = consensus)\n",
      "6) Write output\n",
      "CPU times: user 264 ms, sys: 170 ms, total: 434 ms\n",
      "Wall time: 18.7 s\n"
     ]
    }
   ],
   "source": [
    "%%time\n",
    "%autoreload\n",
    "dada2 = {}\n",
    "\n",
    "for v_region in v_regions:\n",
    "    dada2[v_region] = {}\n",
    "    \n",
    "    for key, items in demultiplex[v_region].items():\n",
    "        qiime_out = items[2]\n",
    "        demux = items[0]\n",
    "        \n",
    "        print(f\"\\n### {key} - {v_region} \\n\")\n",
    "        table, rep_seqs_sim, stats = mock_community.denoise_dada2(\n",
    "            qiime_out, key, demux, threads = 30, \n",
    "            force = True, paired=paired[v_region])\n",
    "\n",
    "        dada2[v_region][key] = [table, rep_seqs_sim, stats]"
   ]
  },
  {
   "cell_type": "code",
   "execution_count": 19,
   "id": "9dc853d6",
   "metadata": {
    "hidden": true
   },
   "outputs": [
    {
     "data": {
      "text/plain": [
       "{'V4': {'mockrobiota': [<artifact: FeatureTable[Frequency] uuid: 439f7a5c-8d96-423f-8b66-cc975b8aa6d3>,\n",
       "   <artifact: FeatureData[Sequence] uuid: ea542af7-576c-449d-a55a-abe207e6a8f4>,\n",
       "   <artifact: SampleData[DADA2Stats] uuid: 4b6e752c-e578-4276-9713-28b76f747e74>]},\n",
       " 'V3-V4': {'mockrobiota': [<artifact: FeatureTable[Frequency] uuid: 6d5fc11c-3e73-4244-9f8e-54f65f6905f2>,\n",
       "   <artifact: FeatureData[Sequence] uuid: ae527a96-0636-4ac1-8b02-1f1ccb9e0bdc>,\n",
       "   <artifact: SampleData[DADA2Stats] uuid: a31a4f47-7e89-44d7-b717-e7bdc43dec96>]}}"
      ]
     },
     "execution_count": 19,
     "metadata": {},
     "output_type": "execute_result"
    }
   ],
   "source": [
    "dada2"
   ]
  },
  {
   "cell_type": "code",
   "execution_count": 20,
   "id": "85232ea8",
   "metadata": {
    "hidden": true
   },
   "outputs": [
    {
     "data": {
      "text/html": [
       "<div><img onload=\"(function(div, url){\n",
       "if (typeof require !== 'undefined') {\n",
       "    var baseURL = require.toUrl('').split('/').slice(0, -2).join('/');\n",
       "} else {\n",
       "    var baseURL = JSON.parse(\n",
       "        document.getElementById('jupyter-config-data').innerHTML\n",
       "    ).baseUrl.slice(0, -1);\n",
       "}\n",
       "url = baseURL + url;\n",
       "fetch(url).then(function(res) {\n",
       "    if (res.status === 404) {\n",
       "        div.innerHTML = 'Install QIIME 2 Jupyter extension with:<br />' +\n",
       "                        '<code>jupyter serverextension enable --py qiime2' +\n",
       "                        ' --sys-prefix</code><br />then restart your server.' +\n",
       "                        '<br /><br />(Interactive output not available on ' +\n",
       "                        'static notebook viewer services like nbviewer.)';\n",
       "    } else if (res.status === 409) {\n",
       "        div.innerHTML = 'Visualization no longer in scope. Re-run this cell' +\n",
       "                        ' to see the visualization.';\n",
       "    } else if (res.ok) {\n",
       "        url = res.url;\n",
       "        div.innerHTML = '<iframe src=\\'' + url + '\\' style=\\'' +\n",
       "                        'width: 100%; height: 700px; border: 0;\\'>' +\n",
       "                        '</iframe><hr />Open in a: <a href=\\'' + url + '\\'' +\n",
       "                        ' target=\\'_blank\\'>new window</a>'\n",
       "    } else {\n",
       "        div.innerHTML = 'Something has gone wrong. Check notebook server for' +\n",
       "                        ' errors.';\n",
       "    }\n",
       "});\n",
       "})(this.parentElement, '/qiime2/redirect?location=/tmp/qiime2-archive-51r6xinb')\" src=\"data:image/gif;base64,R0lGODlhAQABAIAAAP///wAAACH5BAEAAAAALAAAAAABAAEAAAICRAEAOw==\" /></div>"
      ],
      "text/plain": [
       "<visualization: Visualization uuid: 7a1f1b32-3e3e-4cc7-a8dc-528431a90bf7>"
      ]
     },
     "metadata": {},
     "output_type": "display_data"
    },
    {
     "data": {
      "text/html": [
       "<div><img onload=\"(function(div, url){\n",
       "if (typeof require !== 'undefined') {\n",
       "    var baseURL = require.toUrl('').split('/').slice(0, -2).join('/');\n",
       "} else {\n",
       "    var baseURL = JSON.parse(\n",
       "        document.getElementById('jupyter-config-data').innerHTML\n",
       "    ).baseUrl.slice(0, -1);\n",
       "}\n",
       "url = baseURL + url;\n",
       "fetch(url).then(function(res) {\n",
       "    if (res.status === 404) {\n",
       "        div.innerHTML = 'Install QIIME 2 Jupyter extension with:<br />' +\n",
       "                        '<code>jupyter serverextension enable --py qiime2' +\n",
       "                        ' --sys-prefix</code><br />then restart your server.' +\n",
       "                        '<br /><br />(Interactive output not available on ' +\n",
       "                        'static notebook viewer services like nbviewer.)';\n",
       "    } else if (res.status === 409) {\n",
       "        div.innerHTML = 'Visualization no longer in scope. Re-run this cell' +\n",
       "                        ' to see the visualization.';\n",
       "    } else if (res.ok) {\n",
       "        url = res.url;\n",
       "        div.innerHTML = '<iframe src=\\'' + url + '\\' style=\\'' +\n",
       "                        'width: 100%; height: 700px; border: 0;\\'>' +\n",
       "                        '</iframe><hr />Open in a: <a href=\\'' + url + '\\'' +\n",
       "                        ' target=\\'_blank\\'>new window</a>'\n",
       "    } else {\n",
       "        div.innerHTML = 'Something has gone wrong. Check notebook server for' +\n",
       "                        ' errors.';\n",
       "    }\n",
       "});\n",
       "})(this.parentElement, '/qiime2/redirect?location=/tmp/qiime2-archive-672khu2g')\" src=\"data:image/gif;base64,R0lGODlhAQABAIAAAP///wAAACH5BAEAAAAALAAAAAABAAEAAAICRAEAOw==\" /></div>"
      ],
      "text/plain": [
       "<visualization: Visualization uuid: 8d84bda6-9044-41ac-85fe-fd27e5386bdd>"
      ]
     },
     "metadata": {},
     "output_type": "display_data"
    }
   ],
   "source": [
    "for v_region in v_regions:\n",
    "    stats_vizs = []\n",
    "    \n",
    "    for key, items in dada2[v_region].items():\n",
    "        stats = items[2]\n",
    "        qiime_out = demultiplex[v_region][key][2]\n",
    "        \n",
    "        stats_dada2_md_md = stats.view(Metadata)\n",
    "        stats_viz, = metadata_actions.tabulate(\n",
    "            input=stats_dada2_md_md,)\n",
    "        \n",
    "        stats_viz.save(\n",
    "            join(qiime_out, f'stats_{key}') )\n",
    "\n",
    "        stats_vizs.append(stats_viz)\n",
    "\n",
    "    for st in stats_vizs:display(st)"
   ]
  },
  {
   "cell_type": "markdown",
   "id": "3559e6af",
   "metadata": {
    "hidden": true
   },
   "source": [
    "## FeatureTable and FeatureData summaries\n",
    "Now, compare the Feature table obtained from the simulation vs the original one."
   ]
  },
  {
   "cell_type": "code",
   "execution_count": 21,
   "id": "280024ee",
   "metadata": {
    "hidden": true
   },
   "outputs": [
    {
     "name": "stdout",
     "output_type": "stream",
     "text": [
      "\n",
      "#####\n",
      "## mockrobiota\n",
      "#####\n",
      "\n",
      "#~~~~\n",
      "## Simulated Tab\n",
      "#~~~~\n"
     ]
    },
    {
     "data": {
      "text/html": [
       "<div><img onload=\"(function(div, url){\n",
       "if (typeof require !== 'undefined') {\n",
       "    var baseURL = require.toUrl('').split('/').slice(0, -2).join('/');\n",
       "} else {\n",
       "    var baseURL = JSON.parse(\n",
       "        document.getElementById('jupyter-config-data').innerHTML\n",
       "    ).baseUrl.slice(0, -1);\n",
       "}\n",
       "url = baseURL + url;\n",
       "fetch(url).then(function(res) {\n",
       "    if (res.status === 404) {\n",
       "        div.innerHTML = 'Install QIIME 2 Jupyter extension with:<br />' +\n",
       "                        '<code>jupyter serverextension enable --py qiime2' +\n",
       "                        ' --sys-prefix</code><br />then restart your server.' +\n",
       "                        '<br /><br />(Interactive output not available on ' +\n",
       "                        'static notebook viewer services like nbviewer.)';\n",
       "    } else if (res.status === 409) {\n",
       "        div.innerHTML = 'Visualization no longer in scope. Re-run this cell' +\n",
       "                        ' to see the visualization.';\n",
       "    } else if (res.ok) {\n",
       "        url = res.url;\n",
       "        div.innerHTML = '<iframe src=\\'' + url + '\\' style=\\'' +\n",
       "                        'width: 100%; height: 700px; border: 0;\\'>' +\n",
       "                        '</iframe><hr />Open in a: <a href=\\'' + url + '\\'' +\n",
       "                        ' target=\\'_blank\\'>new window</a>'\n",
       "    } else {\n",
       "        div.innerHTML = 'Something has gone wrong. Check notebook server for' +\n",
       "                        ' errors.';\n",
       "    }\n",
       "});\n",
       "})(this.parentElement, '/qiime2/redirect?location=/tmp/qiime2-archive-rf01dbs9')\" src=\"data:image/gif;base64,R0lGODlhAQABAIAAAP///wAAACH5BAEAAAAALAAAAAABAAEAAAICRAEAOw==\" /></div>"
      ],
      "text/plain": [
       "<visualization: Visualization uuid: cef1dfb8-5e45-48f2-8747-22e2f201adc7>"
      ]
     },
     "metadata": {},
     "output_type": "display_data"
    },
    {
     "name": "stdout",
     "output_type": "stream",
     "text": [
      "\n",
      "#####\n",
      "## mockrobiota\n",
      "#####\n",
      "\n",
      "#~~~~\n",
      "## Simulated Tab\n",
      "#~~~~\n"
     ]
    },
    {
     "data": {
      "text/html": [
       "<div><img onload=\"(function(div, url){\n",
       "if (typeof require !== 'undefined') {\n",
       "    var baseURL = require.toUrl('').split('/').slice(0, -2).join('/');\n",
       "} else {\n",
       "    var baseURL = JSON.parse(\n",
       "        document.getElementById('jupyter-config-data').innerHTML\n",
       "    ).baseUrl.slice(0, -1);\n",
       "}\n",
       "url = baseURL + url;\n",
       "fetch(url).then(function(res) {\n",
       "    if (res.status === 404) {\n",
       "        div.innerHTML = 'Install QIIME 2 Jupyter extension with:<br />' +\n",
       "                        '<code>jupyter serverextension enable --py qiime2' +\n",
       "                        ' --sys-prefix</code><br />then restart your server.' +\n",
       "                        '<br /><br />(Interactive output not available on ' +\n",
       "                        'static notebook viewer services like nbviewer.)';\n",
       "    } else if (res.status === 409) {\n",
       "        div.innerHTML = 'Visualization no longer in scope. Re-run this cell' +\n",
       "                        ' to see the visualization.';\n",
       "    } else if (res.ok) {\n",
       "        url = res.url;\n",
       "        div.innerHTML = '<iframe src=\\'' + url + '\\' style=\\'' +\n",
       "                        'width: 100%; height: 700px; border: 0;\\'>' +\n",
       "                        '</iframe><hr />Open in a: <a href=\\'' + url + '\\'' +\n",
       "                        ' target=\\'_blank\\'>new window</a>'\n",
       "    } else {\n",
       "        div.innerHTML = 'Something has gone wrong. Check notebook server for' +\n",
       "                        ' errors.';\n",
       "    }\n",
       "});\n",
       "})(this.parentElement, '/qiime2/redirect?location=/tmp/qiime2-archive-6he5uhqg')\" src=\"data:image/gif;base64,R0lGODlhAQABAIAAAP///wAAACH5BAEAAAAALAAAAAABAAEAAAICRAEAOw==\" /></div>"
      ],
      "text/plain": [
       "<visualization: Visualization uuid: 8ba83913-332b-483b-b936-f364bc7f1841>"
      ]
     },
     "metadata": {},
     "output_type": "display_data"
    }
   ],
   "source": [
    "for v_region in v_regions:\n",
    "    for key, items in dada2[v_region].items():\n",
    "        qiime_out = demultiplex[v_region][key][2]\n",
    "\n",
    "        print(f\"\\n#####\\n## {key}\\n#####\")  \n",
    "        # Simulated Table\n",
    "        print(f\"\\n#~~~~\\n## Simulated Tab\\n#~~~~\")\n",
    "        table = items[0]\n",
    "        table_viz, = feature_table_actions.summarize(\n",
    "            table=table,\n",
    "        )\n",
    "        table_viz.save(join(qiime_out, f'table_{key}'))\n",
    "        display(table_viz)"
   ]
  },
  {
   "cell_type": "code",
   "execution_count": 22,
   "id": "677837f5",
   "metadata": {
    "hidden": true
   },
   "outputs": [
    {
     "name": "stdout",
     "output_type": "stream",
     "text": [
      "\n",
      "#####\n",
      "## mockrobiota\n",
      "#####\n",
      "\n",
      "#~~~~\n",
      "## Simulated RepSeqs\n",
      "#~~~~\n"
     ]
    },
    {
     "data": {
      "text/html": [
       "<div><img onload=\"(function(div, url){\n",
       "if (typeof require !== 'undefined') {\n",
       "    var baseURL = require.toUrl('').split('/').slice(0, -2).join('/');\n",
       "} else {\n",
       "    var baseURL = JSON.parse(\n",
       "        document.getElementById('jupyter-config-data').innerHTML\n",
       "    ).baseUrl.slice(0, -1);\n",
       "}\n",
       "url = baseURL + url;\n",
       "fetch(url).then(function(res) {\n",
       "    if (res.status === 404) {\n",
       "        div.innerHTML = 'Install QIIME 2 Jupyter extension with:<br />' +\n",
       "                        '<code>jupyter serverextension enable --py qiime2' +\n",
       "                        ' --sys-prefix</code><br />then restart your server.' +\n",
       "                        '<br /><br />(Interactive output not available on ' +\n",
       "                        'static notebook viewer services like nbviewer.)';\n",
       "    } else if (res.status === 409) {\n",
       "        div.innerHTML = 'Visualization no longer in scope. Re-run this cell' +\n",
       "                        ' to see the visualization.';\n",
       "    } else if (res.ok) {\n",
       "        url = res.url;\n",
       "        div.innerHTML = '<iframe src=\\'' + url + '\\' style=\\'' +\n",
       "                        'width: 100%; height: 700px; border: 0;\\'>' +\n",
       "                        '</iframe><hr />Open in a: <a href=\\'' + url + '\\'' +\n",
       "                        ' target=\\'_blank\\'>new window</a>'\n",
       "    } else {\n",
       "        div.innerHTML = 'Something has gone wrong. Check notebook server for' +\n",
       "                        ' errors.';\n",
       "    }\n",
       "});\n",
       "})(this.parentElement, '/qiime2/redirect?location=/tmp/qiime2-archive-3jq7swcc')\" src=\"data:image/gif;base64,R0lGODlhAQABAIAAAP///wAAACH5BAEAAAAALAAAAAABAAEAAAICRAEAOw==\" /></div>"
      ],
      "text/plain": [
       "<visualization: Visualization uuid: 408c398e-f92d-4048-a596-98b17921c11b>"
      ]
     },
     "metadata": {},
     "output_type": "display_data"
    },
    {
     "name": "stdout",
     "output_type": "stream",
     "text": [
      "\n",
      "#####\n",
      "## mockrobiota\n",
      "#####\n",
      "\n",
      "#~~~~\n",
      "## Simulated RepSeqs\n",
      "#~~~~\n"
     ]
    },
    {
     "data": {
      "text/html": [
       "<div><img onload=\"(function(div, url){\n",
       "if (typeof require !== 'undefined') {\n",
       "    var baseURL = require.toUrl('').split('/').slice(0, -2).join('/');\n",
       "} else {\n",
       "    var baseURL = JSON.parse(\n",
       "        document.getElementById('jupyter-config-data').innerHTML\n",
       "    ).baseUrl.slice(0, -1);\n",
       "}\n",
       "url = baseURL + url;\n",
       "fetch(url).then(function(res) {\n",
       "    if (res.status === 404) {\n",
       "        div.innerHTML = 'Install QIIME 2 Jupyter extension with:<br />' +\n",
       "                        '<code>jupyter serverextension enable --py qiime2' +\n",
       "                        ' --sys-prefix</code><br />then restart your server.' +\n",
       "                        '<br /><br />(Interactive output not available on ' +\n",
       "                        'static notebook viewer services like nbviewer.)';\n",
       "    } else if (res.status === 409) {\n",
       "        div.innerHTML = 'Visualization no longer in scope. Re-run this cell' +\n",
       "                        ' to see the visualization.';\n",
       "    } else if (res.ok) {\n",
       "        url = res.url;\n",
       "        div.innerHTML = '<iframe src=\\'' + url + '\\' style=\\'' +\n",
       "                        'width: 100%; height: 700px; border: 0;\\'>' +\n",
       "                        '</iframe><hr />Open in a: <a href=\\'' + url + '\\'' +\n",
       "                        ' target=\\'_blank\\'>new window</a>'\n",
       "    } else {\n",
       "        div.innerHTML = 'Something has gone wrong. Check notebook server for' +\n",
       "                        ' errors.';\n",
       "    }\n",
       "});\n",
       "})(this.parentElement, '/qiime2/redirect?location=/tmp/qiime2-archive-wvehgjjf')\" src=\"data:image/gif;base64,R0lGODlhAQABAIAAAP///wAAACH5BAEAAAAALAAAAAABAAEAAAICRAEAOw==\" /></div>"
      ],
      "text/plain": [
       "<visualization: Visualization uuid: 6fb23daf-0de5-4199-aca2-9c13e2eab6db>"
      ]
     },
     "metadata": {},
     "output_type": "display_data"
    }
   ],
   "source": [
    "for v_region in v_regions:\n",
    "    for key, items in dada2[v_region].items():\n",
    "        qiime_out = demultiplex[v_region][key][2]\n",
    "\n",
    "        print(f\"\\n#####\\n## {key}\\n#####\")\n",
    "        ## Simulated\n",
    "        # Save rep_seqs in fasta format\n",
    "        print(f\"\\n#~~~~\\n## Simulated RepSeqs\\n#~~~~\")\n",
    "        rep_seqs_sim = items[1]\n",
    "        rep_seqs_sim.export_data(qiime_out)\n",
    "\n",
    "        rep_seqs_sim_viz, = feature_table_actions.tabulate_seqs(\n",
    "            data=rep_seqs_sim,)\n",
    "        rep_seqs_sim_viz.save(\n",
    "            join(qiime_out, f\"rep_seqs_{key}\"))\n",
    "        display(rep_seqs_sim_viz)"
   ]
  },
  {
   "cell_type": "markdown",
   "id": "51a24fa0",
   "metadata": {
    "hidden": true
   },
   "source": [
    "Above you can see that the original rep-seqs have larger sequence length that the simulated ones (simulated = 200nt). This is because in the databases the minimum length sequence is about 200nt. Therefore, we cannot simulate larger sequences (> 200nt) because some sequences are shorter."
   ]
  },
  {
   "cell_type": "markdown",
   "id": "51269f34",
   "metadata": {},
   "source": [
    "# Map sequences that match to taxonomies"
   ]
  },
  {
   "cell_type": "markdown",
   "id": "21075db6",
   "metadata": {},
   "source": [
    "We will map observed mock community sequences, which are technically from unknown organisms, to \"trueish\" taxonomies, i.e., the most likely taxonomic match given a list of expected sequences derived from the input strains. This serves two purposes:\n",
    "1. We can then use trueish taxonomies to calculate per-sequence precision/recall scores\n",
    "2. Mismatch profiles give us a quantitative assessment of the overall \"quality\" of a mock community (or at least the quality control methods used to process it)."
   ]
  },
  {
   "cell_type": "markdown",
   "id": "0984c9f1",
   "metadata": {},
   "source": [
    "Generate a reference files for the environment. This reference will contain all the sequences and taxa present across all the samples of the environment. It is created by subsetting the original reference database from which the mock-community was created, selecting only the species present in the mock-community."
   ]
  },
  {
   "cell_type": "code",
   "execution_count": 23,
   "id": "7a58b946",
   "metadata": {},
   "outputs": [],
   "source": [
    "# mocknames = ['vagimock', 'gutmock', 'mockrobiota']\n",
    "mocknames = ['mockrobiota']"
   ]
  },
  {
   "cell_type": "code",
   "execution_count": 24,
   "id": "45924537",
   "metadata": {},
   "outputs": [],
   "source": [
    "ref_env = {}\n",
    "\n",
    "for v_region in v_regions:\n",
    "    \n",
    "    ref_env[v_region] = {}\n",
    "    \n",
    "    for mockname in mocknames:\n",
    "        if mockname == 'mockrobiota':\n",
    "            # Original files of the reference database\n",
    "            name_db = 'mockrobiota'\n",
    "        else:\n",
    "            # Original files of the reference database\n",
    "            name_db = db_name[v_region]\n",
    "        \n",
    "        # Load original database\n",
    "        or_ref_db = utils.load_db_from_files(\n",
    "            taxa_path = db_unqza[v_region][name_db]['taxa'], \n",
    "            seqs_path = db_unqza[v_region][name_db]['seq'])\n",
    "\n",
    "        # Filter\n",
    "        mock_taxa = list(env_abun_dfs[v_region][mockname]['Taxon'])\n",
    "        or_ref_db_filt = {\n",
    "            key:items for key, items in or_ref_db.items(\n",
    "            ) if items['taxa'][6] in ' '.join(mock_taxa)\n",
    "        }\n",
    "\n",
    "        # Download\n",
    "        fasta_out = join(db_out_files[v_region][mockname], 'env_seqs.fasta')\n",
    "        taxa_out = join(db_out_files[v_region][mockname], 'env_taxa.txt')\n",
    "\n",
    "        utils.download_db_from_dict(\n",
    "            or_ref_db_filt, \n",
    "            taxa_out_file = taxa_out, \n",
    "            seqs_out_file = fasta_out)\n",
    "\n",
    "        ref_env[v_region][mockname] = [(mockname, fasta_out, taxa_out)]"
   ]
  },
  {
   "cell_type": "code",
   "execution_count": 27,
   "id": "30986b67",
   "metadata": {},
   "outputs": [
    {
     "data": {
      "text/plain": [
       "{'V4': {'mockrobiota': [('mockrobiota',\n",
       "    'mockrobiota/mockrobiota_V4/mockrobiota_V4/NS-otus/env_seqs.fasta',\n",
       "    'mockrobiota/mockrobiota_V4/mockrobiota_V4/NS-otus/env_taxa.txt')]},\n",
       " 'V3-V4': {'mockrobiota': [('mockrobiota',\n",
       "    'mockrobiota/mockrobiota_V3-V4/mockrobiota_V3-V4/NS-otus/env_seqs.fasta',\n",
       "    'mockrobiota/mockrobiota_V3-V4/mockrobiota_V3-V4/NS-otus/env_taxa.txt')]}}"
      ]
     },
     "execution_count": 27,
     "metadata": {},
     "output_type": "execute_result"
    }
   ],
   "source": [
    "ref_env"
   ]
  },
  {
   "cell_type": "markdown",
   "id": "76f9db3d",
   "metadata": {},
   "source": [
    "## Clusterize environment with cdhit\n",
    "Input and output vars"
   ]
  },
  {
   "cell_type": "code",
   "execution_count": 28,
   "id": "2af216b2",
   "metadata": {},
   "outputs": [
    {
     "name": "stdout",
     "output_type": "stream",
     "text": [
      "\n",
      "### V4 region\n",
      "\n",
      "env_files={'V4': {'mockrobiota': {'seq': 'mockrobiota/mockrobiota_V4/mockrobiota_V4/NS-otus/env_seqs.fasta', 'taxa': 'mockrobiota/mockrobiota_V4/mockrobiota_V4/NS-otus/env_taxa.txt'}}}\n",
      "\n",
      "cdhit_out={'V4': {'mockrobiota': 'mockrobiota/mockrobiota_V4/mockrobiota_V4/NS-otus/env_cluster'}}\n",
      "\n",
      "### V3-V4 region\n",
      "\n",
      "env_files={'V4': {'mockrobiota': {'seq': 'mockrobiota/mockrobiota_V4/mockrobiota_V4/NS-otus/env_seqs.fasta', 'taxa': 'mockrobiota/mockrobiota_V4/mockrobiota_V4/NS-otus/env_taxa.txt'}}, 'V3-V4': {'mockrobiota': {'seq': 'mockrobiota/mockrobiota_V3-V4/mockrobiota_V3-V4/NS-otus/env_seqs.fasta', 'taxa': 'mockrobiota/mockrobiota_V3-V4/mockrobiota_V3-V4/NS-otus/env_taxa.txt'}}}\n",
      "\n",
      "cdhit_out={'V4': {'mockrobiota': 'mockrobiota/mockrobiota_V4/mockrobiota_V4/NS-otus/env_cluster'}, 'V3-V4': {'mockrobiota': 'mockrobiota/mockrobiota_V3-V4/mockrobiota_V3-V4/NS-otus/env_cluster'}}\n"
     ]
    }
   ],
   "source": [
    "cdhit_out = {}\n",
    "env_files = {}\n",
    "\n",
    "for v_region in v_regions:\n",
    "    print(f\"\\n### {v_region} region\\n\")\n",
    "    \n",
    "    env_files[v_region] = {\n",
    "        mockname: {\n",
    "            'seq': ref_env[v_region][mockname][0][1], \n",
    "            'taxa': ref_env[v_region][mockname][0][2] } for mockname in mocknames}\n",
    "\n",
    "    # Output file\n",
    "    cdhit_out[v_region] = {\n",
    "        mockname: join(db_out_files[v_region][mockname], 'env_cluster') for mockname in mocknames}\n",
    "    print(f\"{env_files=}\\n\\n{cdhit_out=}\")"
   ]
  },
  {
   "cell_type": "markdown",
   "id": "c0e68f3e",
   "metadata": {},
   "source": [
    "Clusterize"
   ]
  },
  {
   "cell_type": "code",
   "execution_count": 29,
   "id": "ca61f62b",
   "metadata": {},
   "outputs": [
    {
     "name": "stdout",
     "output_type": "stream",
     "text": [
      "================================================================\n",
      "Program: CD-HIT, V4.7 (+OpenMP), Jul 01 2017, 08:43:07\n",
      "Command: cd-hit-est -i\n",
      "         mockrobiota/mockrobiota_V4/mockrobiota_V4/NS-otus/env_seqs.fasta\n",
      "         -o\n",
      "         mockrobiota/mockrobiota_V4/mockrobiota_V4/NS-otus/env_cluster-0.99\n",
      "         -c 0.99 -M 50000 -T 30 -g 1 -d 0\n",
      "\n",
      "Started: Fri Feb  3 13:15:23 2023\n",
      "================================================================\n",
      "                            Output                              \n",
      "----------------------------------------------------------------\n",
      "total seq: 274\n",
      "longest and shortest : 254 and 252\n",
      "Total letters: 69311\n",
      "Sequences have been sorted\n",
      "\n",
      "Approximated minimal memory consumption:\n",
      "Sequence        : 0M\n",
      "Buffer          : 30 X 12M = 362M\n",
      "Table           : 2 X 16M = 33M\n",
      "Miscellaneous   : 4M\n",
      "Total           : 400M\n",
      "\n",
      "Table limit with the given memory limit:\n",
      "Max number of representatives: 4000000\n",
      "Max number of word counting entries: 6199895426\n",
      "\n",
      "# comparing sequences from          0  to        274\n",
      "---------- new table with       98 representatives\n",
      "\n",
      "      274  finished         98  clusters\n",
      "\n",
      "Apprixmated maximum memory consumption: 401M\n",
      "writing new database\n",
      "writing clustering information\n",
      "program completed !\n",
      "\n",
      "Total CPU time 1.26\n",
      "\n",
      "real\t0m0,365s\n",
      "user\t0m1,102s\n",
      "sys\t0m0,169s\n",
      "================================================================\n",
      "Program: CD-HIT, V4.7 (+OpenMP), Jul 01 2017, 08:43:07\n",
      "Command: cd-hit-est -i\n",
      "         mockrobiota/mockrobiota_V3-V4/mockrobiota_V3-V4/NS-otus/env_seqs.fasta\n",
      "         -o\n",
      "         mockrobiota/mockrobiota_V3-V4/mockrobiota_V3-V4/NS-otus/env_cluster-0.99\n",
      "         -c 0.99 -M 50000 -T 30 -g 1 -d 0\n",
      "\n",
      "Started: Fri Feb  3 13:15:24 2023\n",
      "================================================================\n",
      "                            Output                              \n",
      "----------------------------------------------------------------\n",
      "total seq: 261\n",
      "longest and shortest : 428 and 402\n",
      "Total letters: 109246\n",
      "Sequences have been sorted\n",
      "\n",
      "Approximated minimal memory consumption:\n",
      "Sequence        : 0M\n",
      "Buffer          : 30 X 12M = 364M\n",
      "Table           : 2 X 16M = 33M\n",
      "Miscellaneous   : 4M\n",
      "Total           : 401M\n",
      "\n",
      "Table limit with the given memory limit:\n",
      "Max number of representatives: 4000000\n",
      "Max number of word counting entries: 6199752306\n",
      "\n",
      "# comparing sequences from          0  to        261\n",
      "---------- new table with       93 representatives\n",
      "\n",
      "      261  finished         93  clusters\n",
      "\n",
      "Apprixmated maximum memory consumption: 402M\n",
      "writing new database\n",
      "writing clustering information\n",
      "program completed !\n",
      "\n",
      "Total CPU time 1.21\n",
      "\n",
      "real\t0m0,357s\n",
      "user\t0m1,067s\n",
      "sys\t0m0,150s\n"
     ]
    }
   ],
   "source": [
    "force = True\n",
    "identity = 0.99\n",
    "\n",
    "cdhit_outfiles = {}\n",
    "cdhit_outfiles_ord = {}\n",
    "\n",
    "for v_region in v_regions:\n",
    "    cdhit_outfiles[v_region] = {}\n",
    "    cdhit_outfiles_ord[v_region] = {}\n",
    "\n",
    "    for mock in mocknames:\n",
    "        outfile = f\"{cdhit_out[v_region][mock]}-{identity}\"\n",
    "        cdhit_outfiles[v_region][mock] = f\"{outfile}.clstr\"\n",
    "        cdhit_outfiles_ord[v_region][mock] = f\"{outfile}_ord.clstr\"\n",
    "        seq_fasta = env_files[v_region][mock]['seq']\n",
    "\n",
    "        if not exists(outfile) or force:\n",
    "            !time cd-hit-est -i {seq_fasta} -o {outfile} -c {identity} -M 50000 -T 30 -g 1 -d 0"
   ]
  },
  {
   "cell_type": "markdown",
   "id": "faad9230",
   "metadata": {},
   "source": [
    "Sort by cluster size"
   ]
  },
  {
   "cell_type": "code",
   "execution_count": 30,
   "id": "c963b27d",
   "metadata": {},
   "outputs": [],
   "source": [
    "force=True\n",
    "\n",
    "for v_region in v_regions:\n",
    "    for mock in mocknames:\n",
    "        file = cdhit_outfiles[v_region][mock]\n",
    "        file_ord = cdhit_outfiles_ord[v_region][mock]\n",
    "        if not exists(file_ord) or force:\n",
    "            !clstr_sort_by < {file} no > {file_ord}"
   ]
  },
  {
   "cell_type": "markdown",
   "id": "5e662c55",
   "metadata": {},
   "source": [
    "Import clusters into graphs"
   ]
  },
  {
   "cell_type": "code",
   "execution_count": 31,
   "id": "aaf3b991",
   "metadata": {},
   "outputs": [
    {
     "name": "stdout",
     "output_type": "stream",
     "text": [
      "\n",
      "### V4 region\n",
      "\n",
      "mockrobiota: Graph with 274 nodes and 176 edges\n",
      "\n",
      "### V3-V4 region\n",
      "\n",
      "mockrobiota: Graph with 261 nodes and 168 edges\n"
     ]
    },
    {
     "name": "stderr",
     "output_type": "stream",
     "text": [
      "/tmp/ipykernel_42148/2219536594.py:13: DeprecationWarning: info is deprecated and will be removed in version 3.0.\n",
      "\n",
      "  print(f\"{mock}: {nx.info(graphs[v_region][mock])}\")\n"
     ]
    }
   ],
   "source": [
    "graphs = {}\n",
    "\n",
    "for v_region in v_regions:\n",
    "    graphs[v_region] = {}\n",
    "    \n",
    "    print(f\"\\n### {v_region} region\\n\")\n",
    "    \n",
    "    # parse cd-hit cluster file\n",
    "    for mock in mocknames:\n",
    "        file_ord = cdhit_outfiles_ord[v_region][mock]\n",
    "        clusters = parse_cdhit.read_cluster(file_ord)\n",
    "        graphs[v_region][mock] = parse_cdhit.create_graph(clusters)\n",
    "        print(f\"{mock}: {nx.info(graphs[v_region][mock])}\")"
   ]
  },
  {
   "cell_type": "markdown",
   "id": "600ae302",
   "metadata": {},
   "source": [
    "Add labels to nodes according to taxa file"
   ]
  },
  {
   "cell_type": "code",
   "execution_count": 32,
   "id": "c54213dd",
   "metadata": {},
   "outputs": [],
   "source": [
    "taxon = [\"family\", \"genus\", \"species\"]\n",
    "\n",
    "for v_region in v_regions:\n",
    "    for key, g in graphs[v_region].items():\n",
    "        # obtain node attributes\n",
    "        taxonomy, species, genus, family = parse_cdhit.cluster_attributes(\n",
    "            env_files[v_region][key]['taxa'])\n",
    "        # Add node attributes\n",
    "        nx.set_node_attributes(g, taxonomy, 'taxonomy')\n",
    "        nx.set_node_attributes(g, species, 'species')\n",
    "        nx.set_node_attributes(g, genus, 'genus')\n",
    "        nx.set_node_attributes(g, family, 'family')\n",
    "        graphs[v_region][key] = g"
   ]
  },
  {
   "cell_type": "markdown",
   "id": "cbd84573",
   "metadata": {},
   "source": [
    "Get clusterized sequences and taxa"
   ]
  },
  {
   "cell_type": "code",
   "execution_count": 33,
   "id": "77d9f7e6",
   "metadata": {},
   "outputs": [
    {
     "name": "stdout",
     "output_type": "stream",
     "text": [
      "CPU times: user 155 ms, sys: 198 ms, total: 353 ms\n",
      "Wall time: 456 ms\n"
     ]
    }
   ],
   "source": [
    "%%time\n",
    "%autoreload\n",
    "mock_clu = {}\n",
    "threads=10\n",
    "force = True\n",
    "only_centroid = False\n",
    "\n",
    "for v_region in v_regions:\n",
    "    \n",
    "    mock_clu[v_region] = {}\n",
    "    mock_clu_obj = f\"mock_clu_dict-{v_region}-{identity}.pickle\"\n",
    "\n",
    "    if not exists(mock_clu_obj) or force:\n",
    "        for key, g in graphs[v_region].items():\n",
    "            args = [(g.subgraph(comp), only_centroid\n",
    "                    ) for comp in list(nx.connected_components(g))]\n",
    "\n",
    "            with mp.Pool(processes=threads) as pool:\n",
    "                try:\n",
    "                    results = pool.starmap(\n",
    "                        parse_cdhit.get_taxa_from_cluster, args)\n",
    "                except:\n",
    "                    pool.terminate()      \n",
    "            if only_centroid:\n",
    "                mock_clu[v_region][key] = {item[0]:item[1] for item in results}\n",
    "            else:\n",
    "                mock_clu[v_region][key] = {\n",
    "                    i:tax.copy() for ids, tax in results for i in ids}\n",
    "\n",
    "        pickle.dump(mock_clu[v_region], open(mock_clu_obj, 'wb'))\n",
    "    else:\n",
    "        mock_clu[v_region] = pickle.load(open(mock_clu_obj, 'rb'))"
   ]
  },
  {
   "cell_type": "markdown",
   "id": "0bb43c06",
   "metadata": {},
   "source": [
    "Add sequences and check if all the centroids from the fasta file are recorded."
   ]
  },
  {
   "cell_type": "code",
   "execution_count": 34,
   "id": "0dbf339e",
   "metadata": {},
   "outputs": [
    {
     "name": "stdout",
     "output_type": "stream",
     "text": [
      "mockrobiota/mockrobiota_V4/mockrobiota_V4/NS-otus/env_seqs.fasta --> mockrobiota\n",
      "mockrobiota/mockrobiota_V3-V4/mockrobiota_V3-V4/NS-otus/env_seqs.fasta --> mockrobiota\n"
     ]
    }
   ],
   "source": [
    "# Append seqs\n",
    "for v_region in v_regions:\n",
    "    for mock, env in mock_clu[v_region].items():\n",
    "        fasta_file = env_files[v_region][mock]['seq']\n",
    "        print(f\"{fasta_file} --> {mock}\")\n",
    "\n",
    "        with open(fasta_file, \"r\") as seqsfile:\n",
    "            for record in SeqIO.parse(seqsfile, \"fasta\"):\n",
    "                ID = record.id\n",
    "                seq= record.seq\n",
    "\n",
    "                if ID in env:\n",
    "                    env[ID]['seq'] = seq\n",
    "                else:\n",
    "                    print(f\"{ID} not in {mock}\")"
   ]
  },
  {
   "cell_type": "markdown",
   "id": "8e659541",
   "metadata": {},
   "source": [
    "Downloand clusters"
   ]
  },
  {
   "cell_type": "code",
   "execution_count": 35,
   "id": "4e6a50f8",
   "metadata": {},
   "outputs": [
    {
     "name": "stdout",
     "output_type": "stream",
     "text": [
      "mockrobiota\n",
      "mockrobiota\n"
     ]
    }
   ],
   "source": [
    "ref_env = {}\n",
    "force = True\n",
    "\n",
    "for v_region in v_regions:\n",
    "    ref_env[v_region] = {}\n",
    "    \n",
    "    for mock, env in mock_clu[v_region].items():\n",
    "        print(mock)\n",
    "        # Download as txt and fasta\n",
    "        taxa_file = join(\n",
    "            db_out_files[v_region][mock], f\"env_taxa_clust-{identity}.txt\")\n",
    "        seqs_file = join(\n",
    "            db_out_files[v_region][mock], f\"env_seqs_clust-{identity}.fasta\")\n",
    "        ref_env[v_region][mock] = [(mock, seqs_file, taxa_file)]\n",
    "\n",
    "        if not exists(taxa_file) or not exists(seqs_file) or force:\n",
    "            utils.download_db_from_dict(env, \n",
    "                                        taxa_out_file = taxa_file,\n",
    "                                        seqs_out_file = seqs_file)"
   ]
  },
  {
   "cell_type": "markdown",
   "id": "bde7209c",
   "metadata": {},
   "source": [
    "## Generate truesh-taxonomy file"
   ]
  },
  {
   "cell_type": "code",
   "execution_count": 36,
   "id": "1a7eba86",
   "metadata": {},
   "outputs": [
    {
     "name": "stdout",
     "output_type": "stream",
     "text": [
      "\n",
      "### V4 region\n",
      "\n",
      "####\n",
      "## mockrobiota\n",
      "####\n",
      "\n",
      "Guessed taxonomy for 767 of 767 reads (100.0%)\n"
     ]
    },
    {
     "name": "stderr",
     "output_type": "stream",
     "text": [
      "/home/alee_gm/programs/miniconda3/envs/qiime2/lib/python3.8/site-packages/seaborn/distributions.py:2619: FutureWarning: `distplot` is a deprecated function and will be removed in a future version. Please adapt your code to use either `displot` (a figure-level function with similar flexibility) or `histplot` (an axes-level function for histograms).\n",
      "  warnings.warn(msg, FutureWarning)\n"
     ]
    },
    {
     "data": {
      "image/png": "[encoded data removed]",
      "text/plain": [
       "<Figure size 432x288 with 1 Axes>"
      ]
     },
     "metadata": {
      "needs_background": "light"
     },
     "output_type": "display_data"
    },
    {
     "data": {
      "image/png": "[encoded data removed]",
      "text/plain": [
       "<Figure size 432x288 with 1 Axes>"
      ]
     },
     "metadata": {
      "needs_background": "light"
     },
     "output_type": "display_data"
    },
    {
     "name": "stdout",
     "output_type": "stream",
     "text": [
      "\n",
      "### V3-V4 region\n",
      "\n",
      "####\n",
      "## mockrobiota\n",
      "####\n",
      "\n",
      "Guessed taxonomy for 588 of 588 reads (100.0%)\n"
     ]
    },
    {
     "data": {
      "image/png": "[encoded data removed]",
      "text/plain": [
       "<Figure size 432x288 with 1 Axes>"
      ]
     },
     "metadata": {
      "needs_background": "light"
     },
     "output_type": "display_data"
    },
    {
     "data": {
      "image/png": "[encoded data removed]",
      "text/plain": [
       "<Figure size 432x288 with 1 Axes>"
      ]
     },
     "metadata": {
      "needs_background": "light"
     },
     "output_type": "display_data"
    },
    {
     "name": "stdout",
     "output_type": "stream",
     "text": [
      "CPU times: user 7.93 s, sys: 11.6 s, total: 19.5 s\n",
      "Wall time: 10.2 s\n"
     ]
    }
   ],
   "source": [
    "%%time\n",
    "%autoreload\n",
    "\n",
    "for v_region in v_regions:\n",
    "    print(f\"\\n### {v_region} region\\n\")\n",
    "    \n",
    "    for mockname in mocknames:\n",
    "        print(f\"####\\n## {mockname}\\n####\\n\")\n",
    "        # Parameters\n",
    "        if paired[v_region]:\n",
    "            read_type = 'paired'\n",
    "        else:\n",
    "            read_type = 'single'\n",
    "        \n",
    "        observed_sequences = join(\n",
    "            db_out_files[v_region][mockname], \"source/qiime2\", \n",
    "            read_type, f\"rep_seqs_{mockname}.fasta\")\n",
    "        feature_table = join(\n",
    "            dirname(observed_sequences), f\"table_{mockname}.qza\")\n",
    "\n",
    "#         logging.basicConfig(\n",
    "#             filename=join(db_out_files[mockname],f'debug_exp_{mockname}.log'), format='%(asctime)s %(message)s',\n",
    "#                         filemode = 'w', level=logging.DEBUG)\n",
    "\n",
    "        mock_quality.generate_trueish_taxonomies(\n",
    "            outdir = db_out_files[v_region][mockname], \n",
    "            mock_dir_env = db_out_files[v_region][mockname],\n",
    "            expected_sequences = ref_env[v_region][mockname][0][1], \n",
    "            observed_sequences = observed_sequences,\n",
    "            taxonomy_file_env = ref_env[v_region][mockname][0][2], \n",
    "            feature_table = feature_table, mock_name = mockname, \n",
    "            without_rev=True, max_mismatches=5, force=True, threads=10\n",
    "        )"
   ]
  }
 ],
 "metadata": {
  "kernelspec": {
   "display_name": "Python 3 (ipykernel)",
   "language": "python",
   "name": "python3"
  },
  "language_info": {
   "codemirror_mode": {
    "name": "ipython",
    "version": 3
   },
   "file_extension": ".py",
   "mimetype": "text/x-python",
   "name": "python",
   "nbconvert_exporter": "python",
   "pygments_lexer": "ipython3",
   "version": "3.9.15"
  },
  "toc": {
   "base_numbering": 1,
   "nav_menu": {},
   "number_sections": true,
   "sideBar": true,
   "skip_h1_title": false,
   "title_cell": "Table of Contents",
   "title_sidebar": "Contents",
   "toc_cell": true,
   "toc_position": {
    "height": "calc(100% - 180px)",
    "left": "10px",
    "top": "150px",
    "width": "165px"
   },
   "toc_section_display": true,
   "toc_window_display": false
  }
 },
 "nbformat": 4,
 "nbformat_minor": 5
}
