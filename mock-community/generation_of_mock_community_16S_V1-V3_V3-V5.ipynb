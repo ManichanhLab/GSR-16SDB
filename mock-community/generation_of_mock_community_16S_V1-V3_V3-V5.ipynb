{
 "cells": [
  {
   "cell_type": "markdown",
   "id": "970ec519",
   "metadata": {
    "toc": true
   },
   "source": [
    "<h1>Table of Contents<span class=\"tocSkip\"></span></h1>\n",
    "<div class=\"toc\"><ul class=\"toc-item\"><li><span><a href=\"#Generation-of-mock-microbial-community-for-16S-analysis\" data-toc-modified-id=\"Generation-of-mock-microbial-community-for-16S-analysis-1\"><span class=\"toc-item-num\">1&nbsp;&nbsp;</span>Generation of mock microbial community for 16S analysis</a></span></li><li><span><a href=\"#Set-up\" data-toc-modified-id=\"Set-up-2\"><span class=\"toc-item-num\">2&nbsp;&nbsp;</span>Set up</a></span><ul class=\"toc-item\"><li><span><a href=\"#Vagimock-and-gutmock\" data-toc-modified-id=\"Vagimock-and-gutmock-2.1\"><span class=\"toc-item-num\">2.1&nbsp;&nbsp;</span>Vagimock and gutmock</a></span></li><li><span><a href=\"#Mockrobiota\" data-toc-modified-id=\"Mockrobiota-2.2\"><span class=\"toc-item-num\">2.2&nbsp;&nbsp;</span>Mockrobiota</a></span><ul class=\"toc-item\"><li><span><a href=\"#cut-the-regions\" data-toc-modified-id=\"cut-the-regions-2.2.1\"><span class=\"toc-item-num\">2.2.1&nbsp;&nbsp;</span>cut the regions</a></span></li></ul></li><li><span><a href=\"#Obtain-abundance-table\" data-toc-modified-id=\"Obtain-abundance-table-2.3\"><span class=\"toc-item-num\">2.3&nbsp;&nbsp;</span>Obtain abundance table</a></span></li><li><span><a href=\"#Mockrobiota-environment-based-on-feature-tab\" data-toc-modified-id=\"Mockrobiota-environment-based-on-feature-tab-2.4\"><span class=\"toc-item-num\">2.4&nbsp;&nbsp;</span>Mockrobiota environment based on feature tab</a></span></li><li><span><a href=\"#Simulate-environments-/-repseqs-for-custom-mock-communities\" data-toc-modified-id=\"Simulate-environments-/-repseqs-for-custom-mock-communities-2.5\"><span class=\"toc-item-num\">2.5&nbsp;&nbsp;</span>Simulate environments / repseqs for custom mock-communities</a></span></li><li><span><a href=\"#Create-mockrobiota-16S-files\" data-toc-modified-id=\"Create-mockrobiota-16S-files-2.6\"><span class=\"toc-item-num\">2.6&nbsp;&nbsp;</span><del>Create mockrobiota 16S files</del></a></span><ul class=\"toc-item\"><li><span><a href=\"#Cut-V-region\" data-toc-modified-id=\"Cut-V-region-2.6.1\"><span class=\"toc-item-num\">2.6.1&nbsp;&nbsp;</span><del>Cut V region</del></a></span></li><li><span><a href=\"#Create-files\" data-toc-modified-id=\"Create-files-2.6.2\"><span class=\"toc-item-num\">2.6.2&nbsp;&nbsp;</span><del>Create files</del></a></span></li></ul></li></ul></li></ul></div>"
   ]
  },
  {
   "cell_type": "markdown",
   "id": "7b1b51c7",
   "metadata": {},
   "source": [
    "# Generation of mock microbial community for 16S analysis\n",
    "\n",
    "This notebook has been though to generate in-silico mock communities for 16S analysis.   \n",
    "It is able to generate mock communities for the following regions: full-16S, V1-V3 and V3-V5. \n",
    "\n",
    "\n",
    "It consist in several steps (NOT TRUE FOR THIS APPROACH, CHECK):\n",
    "\n",
    "- Simulate a specific sample environment (e.g. vagina, gut, mouth)from an abundancy table that contains the taxon and its frequency\n",
    "- Generate in-silico reads from the environment\n",
    "- Process the in-silico reads with Qiime2 to obtain rep-seps \n",
    "\n",
    "The mock community directory structure will looks like the following:\n",
    "```\n",
    "out_dir/\n",
    "├── db_name/ # database name\n",
    "│   └── db_version/ # database version\n",
    "│       └── db_similarity/ # otu % similarity if applicable. If using a database that has not been clustered, use \"100-otus\"\n",
    "│           ├── env-identifiers.tsv # environment identifiers associated with each mock community member\n",
    "│           ├── env-seqs.fasta # environment sequences\n",
    "│           ├── expected-taxonomy.tsv # per-sample taxonomic abundances (species level)\n",
    "│           └── table.L6-taxa.biom # per-sample taxonomic abundances (species level) in biom format\n",
    "            └── source/\n",
    "                ├── abundancy_table # generation of abundancy table\n",
    "                ├── art # fastq simulation\n",
    "                │   ├── single or paired/ # depending on your choice\n",
    "                │   │    ├── read1.fq # simulated reads\n",
    "                │   │    └── fastq/ # simulated fastq reads compressed and with formatted name\n",
    "                └── qiime2\n",
    "                    └── single or paired/ # depending on your choice\n",
    "                        ├── demux.qza\n",
    "                        ├── table.qza\n",
    "                        └── rep_seqs.qza\n",
    "```"
   ]
  },
  {
   "cell_type": "markdown",
   "id": "6b824607",
   "metadata": {},
   "source": [
    "# Set up"
   ]
  },
  {
   "cell_type": "code",
   "execution_count": 1,
   "id": "11c500bb",
   "metadata": {},
   "outputs": [],
   "source": [
    "import pandas as pd\n",
    "from IPython.display import display\n",
    "from os.path import join, basename, dirname, exists, splitext\n",
    "import shutil\n",
    "\n",
    "%matplotlib inline\n",
    "%load_ext autoreload\n",
    "\n",
    "# Custom functions\n",
    "import mock_community\n",
    "from utils import check_dir\n",
    "import utils\n",
    "import new_approach"
   ]
  },
  {
   "cell_type": "markdown",
   "id": "47548134",
   "metadata": {},
   "source": [
    "## Vagimock and gutmock"
   ]
  },
  {
   "cell_type": "markdown",
   "id": "e5d8039d",
   "metadata": {},
   "source": [
    "Change the below cell according to your needs."
   ]
  },
  {
   "cell_type": "code",
   "execution_count": 3,
   "id": "2ffb5c1b",
   "metadata": {},
   "outputs": [],
   "source": [
    "v_regions = [\"full-16S\", 'V1-V3', 'V3-V5']\n",
    "\n",
    "db_dir = \"/mnt/synology/DATABASES/QIIME2/SSU/gsp_99/new_approach/created_db\"\n",
    "\n",
    "databases = {f\"gsrv_{v_region}\": {'taxa': join(db_dir, f'gsrv_{v_region}_taxa.txt'), \n",
    "                                  'seq': join(db_dir, f'gsrv_{v_region}_seqs.fasta')} for v_region in v_regions}"
   ]
  },
  {
   "cell_type": "code",
   "execution_count": 3,
   "id": "6ab5d20e",
   "metadata": {},
   "outputs": [
    {
     "data": {
      "text/plain": [
       "{'gsrv_full-16S': {'taxa': '/mnt/synology/DATABASES/QIIME2/SSU/gsp_99/new_approach/created_db/gsrv_full-16S_taxa.txt',\n",
       "  'seq': '/mnt/synology/DATABASES/QIIME2/SSU/gsp_99/new_approach/created_db/gsrv_full-16S_seqs.fasta'},\n",
       " 'gsrv_V1-V3': {'taxa': '/mnt/synology/DATABASES/QIIME2/SSU/gsp_99/new_approach/created_db/gsrv_V1-V3_taxa.txt',\n",
       "  'seq': '/mnt/synology/DATABASES/QIIME2/SSU/gsp_99/new_approach/created_db/gsrv_V1-V3_seqs.fasta'},\n",
       " 'gsrv_V3-V5': {'taxa': '/mnt/synology/DATABASES/QIIME2/SSU/gsp_99/new_approach/created_db/gsrv_V3-V5_taxa.txt',\n",
       "  'seq': '/mnt/synology/DATABASES/QIIME2/SSU/gsp_99/new_approach/created_db/gsrv_V3-V5_seqs.fasta'}}"
      ]
     },
     "execution_count": 3,
     "metadata": {},
     "output_type": "execute_result"
    }
   ],
   "source": [
    "databases"
   ]
  },
  {
   "cell_type": "code",
   "execution_count": 4,
   "id": "996a0cd5",
   "metadata": {},
   "outputs": [
    {
     "data": {
      "text/plain": [
       "{'vagimock': {'full-16S': 'vagimock/gsrv_full-16S/gsrv_full-16S/NS-otus',\n",
       "  'V1-V3': 'vagimock/gsrv_V1-V3/gsrv_V1-V3/NS-otus',\n",
       "  'V3-V5': 'vagimock/gsrv_V3-V5/gsrv_V3-V5/NS-otus'},\n",
       " 'gutmock': {'full-16S': 'gutmock/gsrv_full-16S/gsrv_full-16S/NS-otus',\n",
       "  'V1-V3': 'gutmock/gsrv_V1-V3/gsrv_V1-V3/NS-otus',\n",
       "  'V3-V5': 'gutmock/gsrv_V3-V5/gsrv_V3-V5/NS-otus'}}"
      ]
     },
     "execution_count": 4,
     "metadata": {},
     "output_type": "execute_result"
    }
   ],
   "source": [
    "# Paired o End sequences files\n",
    "paired = False\n",
    "\n",
    "# Mock-communities\n",
    "mock_names = ['vagimock', 'gutmock']\n",
    "\n",
    "mock_dirs = {mock: {v_region: join(\n",
    "    mock, f'gsrv_{v_region}', f'gsrv_{v_region}', f'NS-otus')\n",
    "    for v_region in v_regions} for mock in mock_names}\n",
    "\n",
    "mock_dirs"
   ]
  },
  {
   "cell_type": "code",
   "execution_count": 5,
   "id": "ebb10491",
   "metadata": {},
   "outputs": [],
   "source": [
    "# Generate directory\n",
    "for key, items in mock_dirs.items():\n",
    "    for out_dir in items.values():\n",
    "        check_dir(out_dir)"
   ]
  },
  {
   "cell_type": "markdown",
   "id": "e91ef5e1",
   "metadata": {},
   "source": [
    "## Mockrobiota"
   ]
  },
  {
   "cell_type": "code",
   "execution_count": 5,
   "id": "2995ef76",
   "metadata": {},
   "outputs": [],
   "source": [
    "mockrobiota_src = \"mockrobiota/src\"\n",
    "mockrobiota_files = {\n",
    "    'seq': join(mockrobiota_src, \"mockrobiota_seqs.fasta\"),\n",
    "    'taxa': join(mockrobiota_src, \"mockrobiota_taxa.txt\")\n",
    "}\n",
    "\n",
    "mock_dirs['mockrobiota'] = {}\n",
    "for v_region in v_regions:\n",
    "    # Output directory\n",
    "    mock_dirs['mockrobiota'][v_region] = join(\n",
    "        'mockrobiota', f'mockrobiota_{v_region}', \n",
    "        f'mockrobiota_{v_region}', 'NS-otus')\n",
    "    check_dir(mock_dirs['mockrobiota'][v_region])"
   ]
  },
  {
   "cell_type": "markdown",
   "id": "3c896f54",
   "metadata": {},
   "source": [
    "### cut the regions"
   ]
  },
  {
   "cell_type": "code",
   "execution_count": 6,
   "id": "85fd1c61",
   "metadata": {},
   "outputs": [],
   "source": [
    "v_primers = utils.get_vregion_primers()\n",
    "v_length = utils.get_vregion_lengths()"
   ]
  },
  {
   "cell_type": "code",
   "execution_count": 7,
   "id": "f7a0c2a1",
   "metadata": {},
   "outputs": [
    {
     "name": "stdout",
     "output_type": "stream",
     "text": [
      "CPU times: user 1.06 s, sys: 250 ms, total: 1.31 s\n",
      "Wall time: 2.85 s\n"
     ]
    }
   ],
   "source": [
    "%%time\n",
    "%autoreload\n",
    "\n",
    "out_seqs_file = {}\n",
    "\n",
    "src_dirout = join(mockrobiota_src, 'extracted_regions')\n",
    "check_dir(src_dirout)\n",
    "\n",
    "for v_region in v_regions:\n",
    "    if v_region == 'full-16S':\n",
    "        continue\n",
    "    \n",
    "    out_fasta_pref = join(\n",
    "        src_dirout, f'mockrobiota_{v_region}') \n",
    "\n",
    "    out_seqs_file[v_region] = new_approach.extract_region(\n",
    "        seqs = mockrobiota_files['seq'], prefix_db = out_fasta_pref,\n",
    "        f_primer = v_primers[v_region]['f'],\n",
    "        r_primer = v_primers[v_region]['r'],\n",
    "        min_length = v_length[v_region]['min'], \n",
    "        max_length=v_length[v_region]['max'], \n",
    "        threads=15, \n",
    "        force=False, output_formats = ['fasta'])"
   ]
  },
  {
   "cell_type": "markdown",
   "id": "78325f28",
   "metadata": {},
   "source": [
    "Filter and downloand = Keep only entries with both sequence and taxonomy information"
   ]
  },
  {
   "cell_type": "code",
   "execution_count": 8,
   "id": "03e5a372",
   "metadata": {},
   "outputs": [
    {
     "name": "stdout",
     "output_type": "stream",
     "text": [
      "96 entries without sequence or taxa information were deleted\n",
      "2 entries without sequence or taxa information were deleted\n"
     ]
    }
   ],
   "source": [
    "db_mockro = {}\n",
    "\n",
    "\n",
    "for v_region in v_regions:\n",
    "    \n",
    "    if v_region != 'full-16S':\n",
    "        fasta_in = out_seqs_file[v_region]['fasta']\n",
    "    else:\n",
    "        fasta_in = mockrobiota_files['seq']\n",
    "    \n",
    "    db_mockro[v_region] = utils.load_db_from_files(\n",
    "        taxa_path = mockrobiota_files['taxa'], \n",
    "        seqs_path = fasta_in)\n",
    "\n",
    "    taxa_out = join(\n",
    "            src_dirout, f'mockrobiota_{v_region}_taxa.txt')\n",
    "    seqs_out = join(\n",
    "            src_dirout, f'mockrobiota_{v_region}_seqs.fasta')\n",
    "\n",
    "    utils.download_db_from_dict(\n",
    "        db_mockro[v_region],\n",
    "        taxa_out_file = taxa_out,\n",
    "        seqs_out_file = seqs_out \n",
    "    )\n",
    "        \n",
    "    db_name = f'mockrobiota_{v_region}'\n",
    "    \n",
    "    databases[db_name]= {\n",
    "        'seq': seqs_out, 'taxa':taxa_out }"
   ]
  },
  {
   "cell_type": "markdown",
   "id": "5c2350a3",
   "metadata": {},
   "source": [
    "## Obtain abundance table \n",
    "We will obtain the abundance table from a previous analyzed data. Therefore, we will generate the classifier, perform the taxonomy assingment and obtain the taxa-barplots"
   ]
  },
  {
   "cell_type": "code",
   "execution_count": 9,
   "id": "f88a1a9d",
   "metadata": {},
   "outputs": [],
   "source": [
    "# mock_names = ['vagimock', 'gutmock', 'mockrobiota']\n",
    "mock_names = ['mockrobiota']"
   ]
  },
  {
   "cell_type": "code",
   "execution_count": 10,
   "id": "d6bd0b25",
   "metadata": {},
   "outputs": [],
   "source": [
    "abundance_tabs = {}\n",
    "force=True\n",
    "\n",
    "# Copy files from vagimock and gutmock V4\n",
    "for mockname in mock_names:\n",
    "    \n",
    "    abundance_tabs[mockname] = {}\n",
    "    if mockname != 'mockrobiota':\n",
    "        src_dir_abun = join(mockname, 'abundance_table')\n",
    "    else:\n",
    "        src_dir_abun = mockrobiota_src\n",
    "    \n",
    "    src_abun_file = join(src_dir_abun,'expected-taxonomy.tsv')\n",
    "    \n",
    "    for v_region in v_regions:\n",
    "        dst_abun_dir = mock_dirs[mockname][v_region]\n",
    "        dst_abun_file = join(dst_abun_dir,'expected-taxonomy.tsv')\n",
    "\n",
    "        if not exists(dst_abun_file) or force:\n",
    "            shutil.copyfile(src_abun_file, dst_abun_file )\n",
    "\n",
    "        abundance_tabs[mockname][v_region] = pd.read_csv(dst_abun_file, sep='\\t', header=0)     "
   ]
  },
  {
   "cell_type": "markdown",
   "id": "691319b7",
   "metadata": {},
   "source": [
    "The above abundance tables contain the expected abundances for each taxon."
   ]
  },
  {
   "cell_type": "markdown",
   "id": "f08b05cc",
   "metadata": {},
   "source": [
    "## Mockrobiota environment based on feature tab"
   ]
  },
  {
   "cell_type": "code",
   "execution_count": 33,
   "id": "27ed5fa7",
   "metadata": {},
   "outputs": [
    {
     "name": "stdout",
     "output_type": "stream",
     "text": [
      "mockrobiota\n",
      "Saved mockrobiota/mockrobiota_full-16S/mockrobiota_full-16S/NS-otus/env_taxa.txt\n",
      "Saved mockrobiota/mockrobiota_full-16S/mockrobiota_full-16S/NS-otus/env_seqs.fasta\n",
      "Saved mockrobiota/mockrobiota_full-16S/mockrobiota_full-16S/NS-otus/env_tab.tsv\n",
      "Saved mockrobiota/mockrobiota_full-16S/mockrobiota_full-16S/NS-otus/env_abundance.tsv\n",
      "Saved mockrobiota/mockrobiota_V1-V3/mockrobiota_V1-V3/NS-otus/env_taxa.txt\n",
      "Saved mockrobiota/mockrobiota_V1-V3/mockrobiota_V1-V3/NS-otus/env_seqs.fasta\n",
      "Saved mockrobiota/mockrobiota_V1-V3/mockrobiota_V1-V3/NS-otus/env_tab.tsv\n",
      "Saved mockrobiota/mockrobiota_V1-V3/mockrobiota_V1-V3/NS-otus/env_abundance.tsv\n",
      "Saved mockrobiota/mockrobiota_V3-V5/mockrobiota_V3-V5/NS-otus/env_taxa.txt\n",
      "Saved mockrobiota/mockrobiota_V3-V5/mockrobiota_V3-V5/NS-otus/env_seqs.fasta\n",
      "Saved mockrobiota/mockrobiota_V3-V5/mockrobiota_V3-V5/NS-otus/env_tab.tsv\n",
      "Saved mockrobiota/mockrobiota_V3-V5/mockrobiota_V3-V5/NS-otus/env_abundance.tsv\n"
     ]
    }
   ],
   "source": [
    "%autoreload\n",
    "env_tab_dfs = {}\n",
    "env_abun_dfs = {}\n",
    "force=True\n",
    "\n",
    "for mock, items in abundance_tabs.items():\n",
    "    print(mock)\n",
    "    env_tab_dfs[mock] = {}\n",
    "    env_abun_dfs[mock] = {}\n",
    "    \n",
    "    for v_region, table in items.items():\n",
    "        out_dir = mock_dirs[mock][v_region]\n",
    "        dbname = f\"mockrobiota_{v_region}\"\n",
    "        \n",
    "        # output files\n",
    "\n",
    "        env_tab_file = join(out_dir, 'env_tab.tsv')\n",
    "        env_abun_file = join(out_dir, 'env_abundance.tsv')\n",
    "        env_taxa_file = join(out_dir, 'env_taxa.txt')\n",
    "        env_seqs_file = join(out_dir, 'env_seqs.fasta') \n",
    "        \n",
    "        # inputs\n",
    "        \n",
    "        feat_tab =  pd.read_csv(\n",
    "        join(mockrobiota_src, \"expected-featuretab.tsv\"), sep = \"\\t\", \n",
    "        header = 0, index_col = 'ID')\n",
    "        \n",
    "        \n",
    "        abun_tab = table\n",
    "        \n",
    "        if any(not exists(file) for file in [env_tab_file, env_abun_file, env_taxa_file, env_seqs_file]) or force:\n",
    "            \n",
    "            # ids to include:\n",
    "            included_ids = list(feat_tab.index)\n",
    "            \n",
    "            # load env\n",
    "            env = utils.load_db_from_files(seqs_path = databases[dbname]['seq'], \n",
    "                                   taxa_path = databases[dbname]['taxa'])\n",
    "            \n",
    "            # subset env\n",
    "            env = {ID: items for ID, items in env.items() if ID in included_ids}\n",
    "            \n",
    "            # subset included ids to remove the ones not in env\n",
    "            included_ids = [i for i in included_ids if i in list(env.keys())]\n",
    "            \n",
    "            # subset feature_tables\n",
    "            env_feat_tab = feat_tab.copy()\n",
    "            env_feat_tab = feat_tab.loc[included_ids]\n",
    "            \n",
    "            # create new abundance tab\n",
    "            env_abun_tab = pd.DataFrame(index=abun_tab['Taxon'])\n",
    "            \n",
    "            for sample in env_feat_tab.columns:\n",
    "                ids = list(env_feat_tab[env_feat_tab[sample]==1].index)\n",
    "                sample_env = {ID: item for ID, item in env.items() if ID in ids}\n",
    "                samp_taxonomies = [utils.join_taxa_lineages(record['taxa']\n",
    "                            ) for ID, record in sample_env.items()]\n",
    "                abun = pd.Series(samp_taxonomies).value_counts().to_frame(\n",
    "        ).rename(columns={0: sample})\n",
    "                env_abun_tab = env_abun_tab.join(abun, how='outer').fillna(0)\n",
    "                \n",
    "            env_abun_tab = env_abun_tab.reset_index().rename(columns = {'index': 'Taxon'})\n",
    "        \n",
    "            env_feat_tab = env_feat_tab.reset_index().rename(columns = {'index': 'ID'})\n",
    "            \n",
    "            # save files\n",
    "            utils.download_db_from_dict(env, taxa_out_file=env_taxa_file, seqs_out_file=env_seqs_file)\n",
    "            print(f\"Saved {env_taxa_file}\")\n",
    "            print(f\"Saved {env_seqs_file}\")\n",
    "\n",
    "\n",
    "            # download feature table\n",
    "            env_feat_tab.to_csv(env_tab_file, sep=\"\\t\", index=False)\n",
    "            print(f\"Saved {env_tab_file}\")\n",
    "    #         display(env_feature_tab)\n",
    "\n",
    "            # download abundance table\n",
    "            env_abun_tab.to_csv(env_abun_file, sep=\"\\t\", index=False)\n",
    "            print(f\"Saved {env_abun_file}\")\n",
    "    #         display(env_abun_tab)\n",
    "\n",
    "        else:\n",
    "            env_abun_tab = pd.read_csv(env_abun_file, sep=\"\\t\")\n",
    "            env_feat_tab = pd.read_csv(env_tab_file, sep=\"\\t\")  \n",
    "            \n",
    "        env_tab_dfs[mock][v_region] = env_feat_tab\n",
    "        env_abun_dfs[mock][v_region] = env_abun_tab\n"
   ]
  },
  {
   "cell_type": "code",
   "execution_count": null,
   "id": "0770d0a2",
   "metadata": {},
   "outputs": [],
   "source": []
  },
  {
   "cell_type": "markdown",
   "id": "cd0d2c53",
   "metadata": {},
   "source": [
    "## Simulate environments / repseqs for custom mock-communities\n"
   ]
  },
  {
   "cell_type": "code",
   "execution_count": 12,
   "id": "a31570cb",
   "metadata": {},
   "outputs": [
    {
     "data": {
      "text/html": [
       "<div>\n",
       "<style scoped>\n",
       "    .dataframe tbody tr th:only-of-type {\n",
       "        vertical-align: middle;\n",
       "    }\n",
       "\n",
       "    .dataframe tbody tr th {\n",
       "        vertical-align: top;\n",
       "    }\n",
       "\n",
       "    .dataframe thead th {\n",
       "        text-align: right;\n",
       "    }\n",
       "</style>\n",
       "<table border=\"1\" class=\"dataframe\">\n",
       "  <thead>\n",
       "    <tr style=\"text-align: right;\">\n",
       "      <th></th>\n",
       "      <th>Taxon</th>\n",
       "      <th>mockrobiota00</th>\n",
       "      <th>mockrobiota01</th>\n",
       "      <th>mockrobiota02</th>\n",
       "      <th>mockrobiota03</th>\n",
       "      <th>mockrobiota04</th>\n",
       "    </tr>\n",
       "  </thead>\n",
       "  <tbody>\n",
       "    <tr>\n",
       "      <th>0</th>\n",
       "      <td>k__Bacteria; p__Bacteroidetes; c__Bacteroidia;...</td>\n",
       "      <td>0.000000</td>\n",
       "      <td>0.027027</td>\n",
       "      <td>0.202899</td>\n",
       "      <td>0.022222</td>\n",
       "      <td>0.359551</td>\n",
       "    </tr>\n",
       "    <tr>\n",
       "      <th>1</th>\n",
       "      <td>k__Bacteria; p__Proteobacteria; c__Gammaproteo...</td>\n",
       "      <td>0.000000</td>\n",
       "      <td>0.216216</td>\n",
       "      <td>0.115942</td>\n",
       "      <td>0.266667</td>\n",
       "      <td>0.044944</td>\n",
       "    </tr>\n",
       "    <tr>\n",
       "      <th>2</th>\n",
       "      <td>k__Bacteria; p__Firmicutes; c__Clostridia; o__...</td>\n",
       "      <td>0.098765</td>\n",
       "      <td>0.108108</td>\n",
       "      <td>0.086957</td>\n",
       "      <td>0.000000</td>\n",
       "      <td>0.134831</td>\n",
       "    </tr>\n",
       "    <tr>\n",
       "      <th>3</th>\n",
       "      <td>k__Bacteria; p__Firmicutes; c__Clostridia; o__...</td>\n",
       "      <td>0.024691</td>\n",
       "      <td>0.216216</td>\n",
       "      <td>0.000000</td>\n",
       "      <td>0.088889</td>\n",
       "      <td>0.134831</td>\n",
       "    </tr>\n",
       "    <tr>\n",
       "      <th>4</th>\n",
       "      <td>k__Bacteria; p__Firmicutes; c__Bacilli; o__Bac...</td>\n",
       "      <td>0.222222</td>\n",
       "      <td>0.000000</td>\n",
       "      <td>0.028986</td>\n",
       "      <td>0.155556</td>\n",
       "      <td>0.000000</td>\n",
       "    </tr>\n",
       "  </tbody>\n",
       "</table>\n",
       "</div>"
      ],
      "text/plain": [
       "                                               Taxon  mockrobiota00  \\\n",
       "0  k__Bacteria; p__Bacteroidetes; c__Bacteroidia;...       0.000000   \n",
       "1  k__Bacteria; p__Proteobacteria; c__Gammaproteo...       0.000000   \n",
       "2  k__Bacteria; p__Firmicutes; c__Clostridia; o__...       0.098765   \n",
       "3  k__Bacteria; p__Firmicutes; c__Clostridia; o__...       0.024691   \n",
       "4  k__Bacteria; p__Firmicutes; c__Bacilli; o__Bac...       0.222222   \n",
       "\n",
       "   mockrobiota01  mockrobiota02  mockrobiota03  mockrobiota04  \n",
       "0       0.027027       0.202899       0.022222       0.359551  \n",
       "1       0.216216       0.115942       0.266667       0.044944  \n",
       "2       0.108108       0.086957       0.000000       0.134831  \n",
       "3       0.216216       0.000000       0.088889       0.134831  \n",
       "4       0.000000       0.028986       0.155556       0.000000  "
      ]
     },
     "execution_count": 12,
     "metadata": {},
     "output_type": "execute_result"
    }
   ],
   "source": [
    "abundance_tabs['mockrobiota']['full-16S'].head()"
   ]
  },
  {
   "cell_type": "code",
   "execution_count": 13,
   "id": "ae0c0d15",
   "metadata": {},
   "outputs": [
    {
     "name": "stdout",
     "output_type": "stream",
     "text": [
      "mockrobiota\n",
      "mockrobiota/mockrobiota_full-16S/mockrobiota_full-16S/NS-otus\n",
      "Saved mockrobiota/mockrobiota_full-16S/mockrobiota_full-16S/NS-otus/env_taxa.txt\n",
      "Saved mockrobiota/mockrobiota_full-16S/mockrobiota_full-16S/NS-otus/env_seqs.fasta\n",
      "Saved mockrobiota/mockrobiota_full-16S/mockrobiota_full-16S/NS-otus/env_tab.tsv\n",
      "Saved mockrobiota/mockrobiota_full-16S/mockrobiota_full-16S/NS-otus/env_abundance.tsv\n",
      "mockrobiota/mockrobiota_V1-V3/mockrobiota_V1-V3/NS-otus\n",
      "Saved mockrobiota/mockrobiota_V1-V3/mockrobiota_V1-V3/NS-otus/env_taxa.txt\n",
      "Saved mockrobiota/mockrobiota_V1-V3/mockrobiota_V1-V3/NS-otus/env_seqs.fasta\n",
      "Saved mockrobiota/mockrobiota_V1-V3/mockrobiota_V1-V3/NS-otus/env_tab.tsv\n",
      "Saved mockrobiota/mockrobiota_V1-V3/mockrobiota_V1-V3/NS-otus/env_abundance.tsv\n",
      "mockrobiota/mockrobiota_V3-V5/mockrobiota_V3-V5/NS-otus\n",
      "Saved mockrobiota/mockrobiota_V3-V5/mockrobiota_V3-V5/NS-otus/env_taxa.txt\n",
      "Saved mockrobiota/mockrobiota_V3-V5/mockrobiota_V3-V5/NS-otus/env_seqs.fasta\n",
      "Saved mockrobiota/mockrobiota_V3-V5/mockrobiota_V3-V5/NS-otus/env_tab.tsv\n",
      "Saved mockrobiota/mockrobiota_V3-V5/mockrobiota_V3-V5/NS-otus/env_abundance.tsv\n"
     ]
    }
   ],
   "source": [
    "%autoreload\n",
    "env_tab_dfs = {}\n",
    "env_abun_dfs = {}\n",
    "\n",
    "for mock, items in abundance_tabs.items():\n",
    "    print(mock)\n",
    "    env_tab_dfs[mock] = {}\n",
    "    env_abun_dfs[mock] = {}\n",
    "    \n",
    "    for v_region, table in items.items():\n",
    "        if mock != 'mockrobiota':\n",
    "            db_name = f\"gsrv_{v_region}\"\n",
    "        else:\n",
    "            db_name = f\"mockrobiota_{v_region}\"\n",
    "        \n",
    "        print(mock_dirs[mock][v_region])\n",
    "        env_abun, env_tab = mock_community.simulate_repseqs(\n",
    "            abun_table = table,\n",
    "            db = databases,\n",
    "            db_name = db_name,\n",
    "            out_dir = mock_dirs[mock][v_region],\n",
    "            force = True\n",
    "        )\n",
    "        \n",
    "        env_tab_dfs[mock][v_region] = env_tab\n",
    "        env_abun_dfs[mock][v_region] = env_abun\n"
   ]
  },
  {
   "cell_type": "markdown",
   "id": "eded3513",
   "metadata": {},
   "source": [
    "Glance over the abundancies obtained after creating the environment"
   ]
  },
  {
   "cell_type": "code",
   "execution_count": 36,
   "id": "00a25070",
   "metadata": {
    "scrolled": true
   },
   "outputs": [
    {
     "data": {
      "text/html": [
       "<div>\n",
       "<style scoped>\n",
       "    .dataframe tbody tr th:only-of-type {\n",
       "        vertical-align: middle;\n",
       "    }\n",
       "\n",
       "    .dataframe tbody tr th {\n",
       "        vertical-align: top;\n",
       "    }\n",
       "\n",
       "    .dataframe thead th {\n",
       "        text-align: right;\n",
       "    }\n",
       "</style>\n",
       "<table border=\"1\" class=\"dataframe\">\n",
       "  <thead>\n",
       "    <tr style=\"text-align: right;\">\n",
       "      <th></th>\n",
       "      <th>Taxon</th>\n",
       "      <th>vagimock00</th>\n",
       "      <th>vagimock01</th>\n",
       "      <th>vagimock02</th>\n",
       "      <th>vagimock03</th>\n",
       "      <th>vagimock04</th>\n",
       "    </tr>\n",
       "  </thead>\n",
       "  <tbody>\n",
       "    <tr>\n",
       "      <th>6</th>\n",
       "      <td>k__Bacteria; p__Firmicutes; c__Bacilli; o__Lac...</td>\n",
       "      <td>0.0</td>\n",
       "      <td>126.0</td>\n",
       "      <td>1246.0</td>\n",
       "      <td>4470.0</td>\n",
       "      <td>6121.0</td>\n",
       "    </tr>\n",
       "  </tbody>\n",
       "</table>\n",
       "</div>"
      ],
      "text/plain": [
       "                                               Taxon  vagimock00  vagimock01  \\\n",
       "6  k__Bacteria; p__Firmicutes; c__Bacilli; o__Lac...         0.0       126.0   \n",
       "\n",
       "   vagimock02  vagimock03  vagimock04  \n",
       "6      1246.0      4470.0      6121.0  "
      ]
     },
     "execution_count": 36,
     "metadata": {},
     "output_type": "execute_result"
    }
   ],
   "source": [
    "env_abun_dfs['vagimock']['full-16S'][env_abun_dfs['vagimock']['full-16S']['Taxon'].str.contains(\"crispatus\")]"
   ]
  }
 ],
 "metadata": {
  "kernelspec": {
   "display_name": "Python [conda env:qiime2]",
   "language": "python",
   "name": "conda-env-qiime2-py"
  },
  "language_info": {
   "codemirror_mode": {
    "name": "ipython",
    "version": 3
   },
   "file_extension": ".py",
   "mimetype": "text/x-python",
   "name": "python",
   "nbconvert_exporter": "python",
   "pygments_lexer": "ipython3",
   "version": "3.8.13"
  },
  "toc": {
   "base_numbering": 1,
   "nav_menu": {
    "height": "344.167px",
    "width": "464.333px"
   },
   "number_sections": true,
   "sideBar": true,
   "skip_h1_title": false,
   "title_cell": "Table of Contents",
   "title_sidebar": "Contents",
   "toc_cell": true,
   "toc_position": {
    "height": "calc(100% - 180px)",
    "left": "10px",
    "top": "150px",
    "width": "331.883px"
   },
   "toc_section_display": true,
   "toc_window_display": false
  }
 },
 "nbformat": 4,
 "nbformat_minor": 5
}
